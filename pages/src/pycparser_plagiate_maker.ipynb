{
 "cells": [
  {
   "cell_type": "code",
   "execution_count": 1,
   "metadata": {},
   "outputs": [],
   "source": [
    "import pandas as pd\n",
    "import numpy as np\n",
    "from obfuscator import comment_remover, variable_renamer\n",
    "from csv_stuff import create_labled_table_routine, add_valid_code_columns, remove_given_code\n",
    "import sys\n",
    "# sys.path.append('/home/erik/TU/ni/Source-Code-Plagiarism-Detection/Source codes/')\n",
    "sys.path.append('../../../Source-Code-Plagiarism-Detection/Source codes/')\n",
    "from remove_given_code_from_student_solution import remove_given_code_from_df\n",
    "\n",
    "\n",
    "PATH_TEMPLATE = \"/home/erik/TU/ni/plagiate_labeltool/data/code_templates/\"\n",
    "\n",
    "\n",
    "def create_plagiate_table(df, semester, ha, task, prog_language, number_labled_pairs, path):\n",
    "    df_labled = pd.DataFrame(columns=['semester', 'ha', 'task', 'prog_lang',\n",
    "                                      'surname1', 'lastname1', 'code1', 'code2', 'label'])\n",
    "\n",
    "    df = add_valid_code_columns(df, semester, ha, [task], prog_language)\n",
    "    number_of_valid_codes = len(df.loc[df[f'{task} empty'] == 0])\n",
    "    print(\"number_of_valid_codes: \" + str(number_of_valid_codes))\n",
    "    plagiate_per_solution = int(np.floor(number_labled_pairs/number_of_valid_codes))\n",
    "    print(\"plagiate_per_solution: \" + str(plagiate_per_solution))\n",
    "    for ln, sn, code in df.loc[df[f'{task} empty'] == 0][['Nachname', 'Vorname', task]].values:\n",
    "        for i in range(plagiate_per_solution):\n",
    "            plagiate_code = comment_remover(code)\n",
    "            plagiate_code = variable_renamer(plagiate_code)\n",
    "            df_labled.loc[len(df_labled)] = [\n",
    "                semester, ha, task, prog_language, sn, ln, code, plagiate_code, 1]\n",
    "    df_labled.to_csv(path)\n",
    "    return df_labled\n",
    "\n",
    "\n",
    "def create_plagiate_table_routine(semester, ha, task, prog_language):\n",
    "    csv_path = f'../../data/raw_data/PPR [{semester}]-{ha}. Hausaufgabe - Pflichttest {prog_language}-Antworten.csv'\n",
    "    csv_path1 = f'../../data/labled/PPR [{semester}]-{ha}. Hausaufgabe - Pflichttest {prog_language}-Antworten_removed_preload.csv'\n",
    "    # csv_path1 = f'../../data/labled/PPR [{semester}]-{ha}. Hausaufgabe - Pflichttest {prog_language}-Antworten_labled.csv'\n",
    "    csv_path2 = f'../../data/labled/PPR [{semester}]-{ha}. Hausaufgabe - Pflichttest {prog_language}-Antworten_plagiate.csv'\n",
    "    df = pd.read_csv(csv_path, delimiter=',')\n",
    "    number_labled_pairs = len(pd.read_csv(csv_path1, delimiter=','))\n",
    "    df_labled = create_plagiate_table(\n",
    "        df, semester, ha, task, prog_language, number_labled_pairs, csv_path2)\n",
    "    return df_labled\n",
    "\n",
    "\n",
    "def create_plagiate_table_from_df(df, semester, ha, prog_language):\n",
    "    save_path = f'../../data/labled/PPR [{semester}]-{ha}. Hausaufgabe - Pflichttest {prog_language}-Antworten_plagiate.csv'\n",
    "    number_labled_pairs = len(df)\n",
    "    df = df.drop_duplicates(subset=['surname1'])\n",
    "    number_of_valid_codes = len(df)\n",
    "    print(\"number_of_valid_codes: \" + str(number_of_valid_codes))\n",
    "    print(\"number_labled_pairs: \" + str(number_labled_pairs))\n",
    "    plagiate_per_solution = int(np.floor(number_labled_pairs/number_of_valid_codes))\n",
    "    print(\"plagiate_per_solution: \" + str(plagiate_per_solution))\n",
    "    # drop unnecessary columns\n",
    "    df = df.drop(columns=['hand_labled', 'Unnamed: 0', 'surname2', 'lastname2'])\n",
    "    # duplicate each row of df1 plagiate_per_solution times and create new column code2 and use the field code1 as input value for the functions comment_remover and variable_renamer\n",
    "    df = df.reindex(df.index.repeat(plagiate_per_solution))\n",
    "    df['code2'] = df['code1'].apply(comment_remover)\n",
    "    df['code2'] = df['code2'].apply(variable_renamer)\n",
    "    df['label'] = 1\n",
    "    df.to_csv(save_path)\n",
    "    return df\n",
    "\n",
    "\n",
    "def split_data_from_labled(semester, ha, prog_language):\n",
    "    df_labled = pd.read_csv(f'../../data/labled/PPR [{semester}]-{ha}. Hausaufgabe - Pflichttest {prog_language}-Antworten_labled.csv', delimiter=',')\n",
    "    df_labled = remove_given_code_from_df(df_labled)\n",
    "    df_plagiate = create_plagiate_table_from_df(df_labled, semester, ha, prog_language)\n",
    "    return df_plagiate\n",
    "    \n",
    "\n",
    "def open_csvs(semester, ha, prog_language):\n",
    "    original_csv_path = f'../../data/raw_data/PPR [{semester}]-{ha}. Hausaufgabe - Pflichttest {prog_language}-Antworten.csv'\n",
    "    labled_csv_path = f'../../data/labled/PPR [{semester}]-{ha}. Hausaufgabe - Pflichttest {prog_language}-Antworten_removed_preload.csv'\n",
    "    plagiate_csv_path = f'../../data/labled/PPR [{semester}]-{ha}. Hausaufgabe - Pflichttest {prog_language}-Antworten_plagiate.csv'\n",
    "    df_original = pd.read_csv(original_csv_path, delimiter=',')\n",
    "    df_labled = pd.read_csv(labled_csv_path, delimiter=',')\n",
    "    return df_original, df_labled, plagiate_csv_path\n"
   ]
  },
  {
   "cell_type": "code",
   "execution_count": 2,
   "metadata": {},
   "outputs": [],
   "source": [
    "semester='SoSe22'\n",
    "ha='9'\n",
    "task='Antwort 9'\n",
    "prog_language='C'\n",
    "# path = f'../../data/labled/PPR [{semester}]-{ha}. Hausaufgabe - Pflichttest {prog_language}-Antworten_plagiate.csv'\n",
    "path = f'../../data/labled/PPR [{semester}]-{ha}. Hausaufgabe - Pflichttest {prog_language}-Antworten_labled_angefangen.csv'"
   ]
  },
  {
   "cell_type": "code",
   "execution_count": 3,
   "metadata": {},
   "outputs": [],
   "source": [
    "# df_plagiate = split_data_from_labled(semester, ha, prog_language)"
   ]
  },
  {
   "cell_type": "code",
   "execution_count": null,
   "metadata": {},
   "outputs": [],
   "source": [
    "def remove_specific_students(df_labled, names):\n",
    "    for name in names:\n",
    "        df_labled = df_labled.drop(df_labled[(df_labled['lastname1'] == name) | (df_labled['lastname2'] == name)].index)\n",
    "    return df_labled\n",
    "\n",
    "\n",
    "df_labled = pd.read_csv(path)\n",
    "try:\n",
    "    df_labled = df_labled.drop(columns=['Unnamed: 0'])\n",
    "except KeyError:\n",
    "    pass\n",
    "print(df_labled.columns)\n",
    "names = ['Lehmann', 'Hengst', 'Hilger', 'Krause']\n",
    "df_labled = remove_specific_students(df_labled, names)\n",
    "\n",
    "print(df_labled['label'].mean())\n",
    "df_labled['label'].hist()\n",
    "df_labled['hand_labled'].hist()\n",
    "# df_labled.to_csv(path, index=False)\n",
    "# vorgabe entfernen, auto labeln lassen und dann plagiate erstellen"
   ]
  },
  {
   "cell_type": "code",
   "execution_count": 5,
   "metadata": {},
   "outputs": [],
   "source": [
    "import re\n",
    "def striphtml(data): \n",
    "    return re.sub('<.*?>', ' ', str(data)) \n",
    "\n",
    "def stripunc(data): \n",
    "    return re.sub('[^A-Za-z%\\._\\[\\]]+', ' ', str(data), flags=re.MULTILINE|re.DOTALL) "
   ]
  },
  {
   "cell_type": "code",
   "execution_count": null,
   "metadata": {},
   "outputs": [],
   "source": [
    "# # for prasentation to show example strip\n",
    "# read_path='/home/erik/TU/ni/plagiarism_detection_tool/data/labled/handmade_plagiate_0_0.c'\n",
    "# write_path='/home/erik/TU/ni/plagiarism_detection_tool/data/labled/handmade_plagiate_0_3.c'\n",
    "# with open(read_path, 'r') as file:\n",
    "#     code = file.read()\n",
    "#     code = striphtml(stripunc(code))\n",
    "#     with open(write_path, 'w') as file:\n",
    "#         file.write(code)"
   ]
  },
  {
   "cell_type": "code",
   "execution_count": 10,
   "metadata": {},
   "outputs": [],
   "source": [
    "def remove_comments(text, regexs = [\"//[\\t  \\S]*\", \"/\\*[\\s\\S]*?\\*/\"]):\n",
    "    tmp = text\n",
    "    for regex in regexs :\n",
    "        all_matches = re.findall(regex,tmp)\n",
    "        for match in all_matches:\n",
    "            tmp = tmp.replace(match, \"\")\n",
    "    return tmp"
   ]
  },
  {
   "cell_type": "markdown",
   "metadata": {},
   "source": [
    "## Swap C loops"
   ]
  },
  {
   "cell_type": "code",
   "execution_count": 17,
   "metadata": {},
   "outputs": [],
   "source": [
    "import re\n",
    "\n",
    "def swap_loops_type(given_string):\n",
    "    # go through the string and if 'for' or 'wile' accours store 'for' or 'while' in a list\n",
    "    loop_types = []\n",
    "    for match in re.finditer(r'for|while', given_string):\n",
    "        loop_types.append(match.group())\n",
    "    print(loop_types)\n",
    "\n",
    "# call this function without opening curly braces in substring\n",
    "def idx_closing_brace(given_substring):\n",
    "    sum_braces = 1\n",
    "    for i, char in enumerate(given_substring):\n",
    "        if char == '{':\n",
    "            sum_braces += 1\n",
    "        elif char == '}':\n",
    "            sum_braces -= 1\n",
    "        if sum_braces == 0:\n",
    "            return i\n",
    "    return -1\n",
    "\n",
    "\n",
    "def for_to_while(given_string):\n",
    "    pattern = '\\n*(\\s*)for\\s*\\((.*?;)(.*?)(;.*?)\\)'\n",
    "    matches = re.findall(pattern, given_string)\n",
    "    # get all end indexes of all matches of pattern in string\n",
    "    indexes = [x.end(0) for x in re.finditer(pattern, given_string)]\n",
    "    # split for loop into 3 parts and pre-spaces\n",
    "    for index,(spaces, init, cond, incr) in zip(indexes, matches):\n",
    "        pattern_tmp = 'for\\s*\\(' + re.escape(''.join([init, cond, incr]))\n",
    "        cond = cond.strip()\n",
    "        # remove ';' at the beginning and add it at the end of the of the third part\n",
    "        incr = incr[1:].strip()\n",
    "        incr = incr + ';'\n",
    "        idx_brace = idx_closing_brace(given_string[index+1:])\n",
    "        # add missing offset from index+1\n",
    "        idx_brace += index+1\n",
    "        given_string = given_string[:idx_brace] + re.sub('}', '\\t' + incr + '\\n' + spaces + '}', given_string[idx_brace:], 1)\n",
    "        given_string = re.sub(pattern_tmp, init + '\\n' + spaces + 'while (' + cond , given_string, 1)\n",
    "    return given_string\n",
    "\n",
    "def while_to_for(given_string):\n",
    "    pattern = 'while\\s*\\((.*?)\\)(?:(?:.|\\n)*)\\s+(\\S+\\+\\+;)'\n",
    "    matches = re.findall(pattern, given_string)\n",
    "    for match in reversed(matches):\n",
    "        given_string = re.sub(pattern, 'for (;' + match + ';)', given_string, 1)\n",
    "    return given_string\n",
    "    # while\\s*\\((.*?)\\)(?:(?:.|\\n)*?)\\s+(\\S+\\+\\+\\s*;|\\+\\+\\S*\\s*;|\\S*\\s*\\+=\\s*\\S*\\s*;|\\S*\\s*=\\s*\\S*\\s*\\+\\s*\\S*\\s*;)\\s*}"
   ]
  },
  {
   "cell_type": "markdown",
   "metadata": {},
   "source": [
    "## Testcases"
   ]
  },
  {
   "cell_type": "code",
   "execution_count": 1,
   "metadata": {},
   "outputs": [
    {
     "name": "stderr",
     "output_type": "stream",
     "text": [
      "test_for_to_while (__main__.Test) ... ERROR\n",
      "test_index_of_braces (__main__.Test) ... ERROR\n",
      "test_remove_comments (__main__.Test) ... ERROR\n",
      "test_while_to_for (__main__.Test) ... ERROR\n",
      "\n",
      "======================================================================\n",
      "ERROR: test_for_to_while (__main__.Test)\n",
      "----------------------------------------------------------------------\n",
      "Traceback (most recent call last):\n",
      "  File \"/tmp/ipykernel_3435/2069494273.py\", line 22, in test_for_to_while\n",
      "    self.assertEqual(for_to_while(self.given_string), 'int i = 0;\\nwhile (i < 10){\\n\\tprintf(\"%d\", i);\\n\\ti++;\\n}\\nint abc = 0;\\nwhile (abc < 10){\\n\\tprintf(\"%d\", abc);\\n\\tabc++;\\n}')\n",
      "NameError: name 'for_to_while' is not defined\n",
      "\n",
      "======================================================================\n",
      "ERROR: test_index_of_braces (__main__.Test)\n",
      "----------------------------------------------------------------------\n",
      "Traceback (most recent call last):\n",
      "  File \"/tmp/ipykernel_3435/2069494273.py\", line 41, in test_index_of_braces\n",
      "    self.assertEqual(idx_closing_brace(self.given_string3), 29)\n",
      "NameError: name 'idx_closing_brace' is not defined\n",
      "\n",
      "======================================================================\n",
      "ERROR: test_remove_comments (__main__.Test)\n",
      "----------------------------------------------------------------------\n",
      "Traceback (most recent call last):\n",
      "  File \"/tmp/ipykernel_3435/2069494273.py\", line 11, in test_remove_comments\n",
      "    self.assertEqual(remove_comments(self.given_string), self.given_string)\n",
      "NameError: name 'remove_comments' is not defined\n",
      "\n",
      "======================================================================\n",
      "ERROR: test_while_to_for (__main__.Test)\n",
      "----------------------------------------------------------------------\n",
      "Traceback (most recent call last):\n",
      "  File \"/tmp/ipykernel_3435/2069494273.py\", line 34, in test_while_to_for\n",
      "    self.assertEqual(while_to_for(self.given_string), 'for (int i = 0; i < 10; i++){\\n\\tprintf(\"%d\", i);\\n}\\nint abc = 0;\\nfor (;abc < 10;){\\n\\tprintf(\"%d\", abc);\\n\\tabc++;\\n}')\n",
      "NameError: name 'while_to_for' is not defined\n",
      "\n",
      "----------------------------------------------------------------------\n",
      "Ran 4 tests in 0.013s\n",
      "\n",
      "FAILED (errors=4)\n"
     ]
    },
    {
     "data": {
      "text/plain": [
       "<unittest.main.TestProgram at 0x7f1848589310>"
      ]
     },
     "execution_count": 1,
     "metadata": {},
     "output_type": "execute_result"
    }
   ],
   "source": [
    "import unittest\n",
    "\n",
    "# TODO rewrite test functions to test subclasses\n",
    "# TODO tests all edge cases, because students dont write good code\n",
    "class Test(unittest.TestCase):\n",
    "    given_string3 = 'for (int i = 0; i < 10; i++){\\n\\tprintf(\"%d\", i);\\n}'\n",
    "    given_string2 = 'for (int i = 0; i < 10; i++){\\n\\tfor (int j = 0; j < 10; j++){\\n\\t\\tprintf(\"%d\", i);\\n\\t}\\n}'\n",
    "    given_string = 'for (int i = 0; i < 10; i++){\\n\\tprintf(\"%d\", i);\\n}\\nint abc = 0;\\nwhile (abc < 10){\\n\\tprintf(\"%d\", abc);\\n\\tabc++;\\n}'\n",
    "\n",
    "    def test_remove_comments(self):\n",
    "        self.assertEqual(remove_comments(self.given_string), self.given_string)\n",
    "        comment_string = '// Funktion die bis 100 zählt\\nfor (int i = 0; i < 10; i++){\\n\\t/* zweite Schleife\\n\\t   damit wird 10*10 gerechnet */\\n\\tfor (int j = 0; j < 10; j++){\\n\\t\\tprintf(\"%d\", i);\\t// das ist ein printf\\n\\t}\\n}'\n",
    "        self.assertEqual(remove_comments(comment_string), '\\nfor (int i = 0; i < 10; i++){\\n\\t\\n\\tfor (int j = 0; j < 10; j++){\\n\\t\\tprintf(\"%d\", i);\\t\\n\\t}\\n}')\n",
    "\n",
    "    # swap_loops_type(given_string)\n",
    "    # print(index_of_braces(given_string[29:])\n",
    "\n",
    "    # right amount of spaces in inserted code *check*\n",
    "    # doesnt work with nested for loops *check*\n",
    "    def test_for_to_while(self):\n",
    "        self.assertEqual(for_to_while(self.given_string), 'int i = 0;\\nwhile (i < 10){\\n\\tprintf(\"%d\", i);\\n\\ti++;\\n}\\nint abc = 0;\\nwhile (abc < 10){\\n\\tprintf(\"%d\", abc);\\n\\tabc++;\\n}')\n",
    "        self.assertEqual(for_to_while(self.given_string2), 'int i = 0;\\nwhile (i < 10){\\n\\tint j = 0;\\n\\twhile (j < 10){\\n\\t\\tprintf(\"%d\", i);\\n\\t\\tj++;\\n\\t}\\n\\ti++;\\n}')\n",
    "        # TODO test case if fields are empty\n",
    "        one_liner = 'for (int i = 0; i < 10; i++)\\n\\tprintf(\"%d\", i);'\n",
    "        expected = 'int i = 0;\\nwhile (i < 10){\\n\\tprintf(\"%d\", i)\\n\\ti++;\\n}'\n",
    "        self.assertEqual(one_liner, expected)\n",
    "        one_liner = 'int i = 0;\\nfor (;i < 10;){\\n\\tprintf(\"%d\", i);\\n\\ti++;\\n}'\n",
    "        expected = 'int i = 0;\\nwhile (i < 10){\\n\\tprintf(\"%d\", i)\\n\\ti++;\\n}'\n",
    "        self.assertEqual(one_liner, expected)\n",
    "\n",
    "    # TODO would be nice if increment in while is found and inserted in for loop\n",
    "    # TODO test case if fields are empty\n",
    "    def test_while_to_for(self):\n",
    "        self.assertEqual(while_to_for(self.given_string), 'for (int i = 0; i < 10; i++){\\n\\tprintf(\"%d\", i);\\n}\\nint abc = 0;\\nfor (;abc < 10;){\\n\\tprintf(\"%d\", abc);\\n\\tabc++;\\n}')\n",
    "        self.assertEqual(while_to_for(self.given_string2), 'for (int i = 0; i < 10; i++){\\n\\tfor (int j = 0; j < 10; j++){\\n\\t\\tprintf(\"%d\", i);\\n\\t}\\n}')\n",
    "        one_liner = 'int i = 0;\\nwhile (i < 10){\\n\\tprintf(\"%d\", i)\\n\\ti++;\\n}'\n",
    "        expected = 'for (int i = 0; i < 10; i++)\\n\\tprintf(\"%d\", i);'\n",
    "        self.assertEqual(one_liner, expected)\n",
    "\n",
    "    def test_index_of_braces(self):\n",
    "        self.assertEqual(idx_closing_brace(self.given_string3), 29)\n",
    "        self.assertEqual(idx_closing_brace(self.given_string2), 60)\n",
    "\n",
    "unittest.main(argv=[''], verbosity=2, exit=False)\n"
   ]
  },
  {
   "cell_type": "markdown",
   "metadata": {},
   "source": [
    "## regex101\n",
    "```\n",
    "\\n*(\\s*)for\\s*\\((.*?;)(.*?)(;.*?)\\)\n",
    "```\n",
    "\n",
    "```\n",
    "for (; i < 10;i++){\n",
    "    for (int j = 0; j < 10; j++){\n",
    "        printf(\"%d\", i);\n",
    "    }\n",
    "}\n",
    "int abc = 0;\n",
    "while (abc < 10){\n",
    "    printf(\"%d\", abc);\n",
    "    abc++;\n",
    "}\n",
    "\n",
    "while (abc < 10){\n",
    "    printf(\"%d\", abc);\n",
    "    ++abc;\n",
    "}\n",
    "\n",
    "while (abc < 10){\n",
    "    printf(\"%d\", abc);\n",
    "    abc += 1;\n",
    "}\n",
    "\n",
    "while (abc < 10){\n",
    "    printf(\"%d\", abc);\n",
    "    abc = abc + 1 ;\n",
    "}\n",
    "```"
   ]
  },
  {
   "cell_type": "markdown",
   "metadata": {},
   "source": [
    "## Swap positions of functions"
   ]
  },
  {
   "cell_type": "code",
   "execution_count": null,
   "metadata": {},
   "outputs": [],
   "source": []
  },
  {
   "cell_type": "markdown",
   "metadata": {},
   "source": [
    "## Swap positions of functions"
   ]
  },
  {
   "cell_type": "code",
   "execution_count": null,
   "metadata": {},
   "outputs": [],
   "source": []
  },
  {
   "cell_type": "markdown",
   "metadata": {},
   "source": [
    "## Swap positions variables in comparisons"
   ]
  },
  {
   "cell_type": "code",
   "execution_count": null,
   "metadata": {},
   "outputs": [],
   "source": []
  },
  {
   "cell_type": "markdown",
   "metadata": {},
   "source": [
    "## Use de morgan's law on logic equations"
   ]
  },
  {
   "cell_type": "code",
   "execution_count": null,
   "metadata": {},
   "outputs": [],
   "source": []
  }
 ],
 "metadata": {
  "kernelspec": {
   "display_name": "Python 3.8.10 ('plagiate_labeltool')",
   "language": "python",
   "name": "python3"
  },
  "language_info": {
   "codemirror_mode": {
    "name": "ipython",
    "version": 3
   },
   "file_extension": ".py",
   "mimetype": "text/x-python",
   "name": "python",
   "nbconvert_exporter": "python",
   "pygments_lexer": "ipython3",
   "version": "3.8.10"
  },
  "orig_nbformat": 4,
  "vscode": {
   "interpreter": {
    "hash": "c3c1582098b83b5d804e4e22bf41ffe367e577891b5507b81cbad8bf48c5abef"
   }
  }
 },
 "nbformat": 4,
 "nbformat_minor": 2
}
