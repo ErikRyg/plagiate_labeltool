{
 "cells": [
  {
   "cell_type": "code",
   "execution_count": 4,
   "metadata": {},
   "outputs": [],
   "source": [
    "import pandas as pd\n",
    "import numpy as np\n",
    "from obfuscator import comment_remover, variable_renamer\n",
    "from csv_stuff import create_labled_table_routine, add_valid_code_columns, remove_given_code\n",
    "import sys\n",
    "# sys.path.append('/home/erik/TU/ni/Source-Code-Plagiarism-Detection/Source codes/')\n",
    "sys.path.append('../../../Source-Code-Plagiarism-Detection/Source codes/')\n",
    "from remove_given_code_from_student_solution import remove_given_code_from_df, remove_given_code_from_df_WS2021\n",
    "\n",
    "\n",
    "PATH_TEMPLATE = \"/home/erik/TU/ni/plagiate_labeltool/data/code_templates/\"\n",
    "\n",
    "\n",
    "def create_plagiate_table(df, semester, ha, task, prog_language, number_labled_pairs, path):\n",
    "    df_labled = pd.DataFrame(columns=['semester', 'ha', 'task', 'prog_lang',\n",
    "                                      'surname1', 'lastname1', 'code1', 'code2', 'label'])\n",
    "\n",
    "    df = add_valid_code_columns(df, semester, ha, [task], prog_language)\n",
    "    number_of_valid_codes = len(df.loc[df[f'{task} empty'] == 0])\n",
    "    print(\"number_of_valid_codes: \" + str(number_of_valid_codes))\n",
    "    plagiate_per_solution = int(np.floor(number_labled_pairs/number_of_valid_codes))\n",
    "    print(\"plagiate_per_solution: \" + str(plagiate_per_solution))\n",
    "    for ln, sn, code in df.loc[df[f'{task} empty'] == 0][['Nachname', 'Vorname', task]].values:\n",
    "        for i in range(plagiate_per_solution):\n",
    "            plagiate_code = comment_remover(code)\n",
    "            plagiate_code = variable_renamer(plagiate_code)\n",
    "            df_labled.loc[len(df_labled)] = [\n",
    "                semester, ha, task, prog_language, sn, ln, code, plagiate_code, 1]\n",
    "    df_labled.to_csv(path)\n",
    "    return df_labled\n",
    "\n",
    "\n",
    "def create_plagiate_table_routine(semester, ha, task, prog_language):\n",
    "    csv_path = f'../../data/raw_data/PPR [{semester}]-{ha}. Hausaufgabe - Pflichttest {prog_language}-Antworten.csv'\n",
    "    csv_path1 = f'../../data/labled/PPR [{semester}]-{ha}. Hausaufgabe - Pflichttest {prog_language}-Antworten_removed_preload.csv'\n",
    "    # csv_path1 = f'../../data/labled/PPR [{semester}]-{ha}. Hausaufgabe - Pflichttest {prog_language}-Antworten_labled.csv'\n",
    "    csv_path2 = f'../../data/labled/PPR [{semester}]-{ha}. Hausaufgabe - Pflichttest {prog_language}-Antworten_plagiate.csv'\n",
    "    df = pd.read_csv(csv_path, delimiter=',')\n",
    "    number_labled_pairs = len(pd.read_csv(csv_path1, delimiter=','))\n",
    "    df_labled = create_plagiate_table(\n",
    "        df, semester, ha, task, prog_language, number_labled_pairs, csv_path2)\n",
    "    return df_labled\n",
    "\n",
    "\n",
    "def create_plagiate_table_from_df(semester, ha, prog_language):\n",
    "    labled_csv = f'../../data/labled/PPR [{semester}]-{ha}. Hausaufgabe - Pflichttest {prog_language}-Antworten_removed_preload.csv'\n",
    "    save_path = f'../../data/labled/PPR [{semester}]-{ha}. Hausaufgabe - Pflichttest {prog_language}-Antworten_plagiate.csv'\n",
    "    df = pd.read_csv(labled_csv, delimiter=',')\n",
    "    number_labled_pairs = len(df)\n",
    "    df = df.drop_duplicates(subset=['surname1'])\n",
    "    number_of_valid_codes = len(df)\n",
    "    df = remove_given_code_from_df(df)\n",
    "    print(\"number_of_valid_codes: \" + str(number_of_valid_codes))\n",
    "    print(\"number_labled_pairs: \" + str(number_labled_pairs))\n",
    "    plagiate_per_solution = int(np.floor(number_labled_pairs/number_of_valid_codes))\n",
    "    print(\"plagiate_per_solution: \" + str(plagiate_per_solution))\n",
    "    # drop column hand_labled\n",
    "    df = df.drop(columns=['hand_labled', 'Unnamed: 0', 'surname2', 'lastname2'])\n",
    "    # duplicate each row of df1 plagiate_per_solution times and create new column code2 and use the field code1 as input value for the functions comment_remover and variable_renamer\n",
    "    df = df.reindex(df.index.repeat(plagiate_per_solution))\n",
    "    df['code2'] = df['code1'].apply(comment_remover)\n",
    "    df['code2'] = df['code2'].apply(variable_renamer)\n",
    "    df['label'] = 1\n",
    "    df.to_csv(save_path)\n",
    "    return df, plagiate_per_solution\n",
    "\n",
    "\n",
    "def open_csvs(semester, ha, task, prog_language):\n",
    "    original_csv_path = f'../../data/raw_data/PPR [{semester}]-{ha}. Hausaufgabe - Pflichttest {prog_language}-Antworten.csv'\n",
    "    labled_csv_path = f'../../data/labled/PPR [{semester}]-{ha}. Hausaufgabe - Pflichttest {prog_language}-Antworten_removed_preload.csv'\n",
    "    plagiate_csv_path = f'../../data/labled/PPR [{semester}]-{ha}. Hausaufgabe - Pflichttest {prog_language}-Antworten_plagiate.csv'\n",
    "    df_original = pd.read_csv(original_csv_path, delimiter=',')\n",
    "    df_labled = pd.read_csv(labled_csv_path, delimiter=',')\n",
    "    return df_original, df_labled, plagiate_csv_path\n"
   ]
  },
  {
   "cell_type": "code",
   "execution_count": null,
   "metadata": {},
   "outputs": [],
   "source": [
    "def split_data_from_labled(semester, ha, task, prog_language):\n",
    "    df_labled = pd.read_csv(f'../../data/labled/PPR [{semester}]-{ha}. Hausaufgabe - Pflichttest {prog_language}-Antworten_labled.csv', delimiter=',')\n",
    "    if 'WS' in semester:\n",
    "        remove_given_code_from_df_WS2021(df_labled)\n",
    "    else:\n",
    "        remove_given_code_from_df(df_labled)\n",
    "    create_plagiate_table_from_df(semester, ha, prog_language)\n"
   ]
  },
  {
   "cell_type": "code",
   "execution_count": 11,
   "metadata": {},
   "outputs": [],
   "source": [
    "# df_original, df_labled, plagiate_csv_path = open_csvs(\n",
    "#     'WS2021', '9', 'Antwort 9', 'C')"
   ]
  },
  {
   "cell_type": "code",
   "execution_count": 12,
   "metadata": {},
   "outputs": [
    {
     "name": "stdout",
     "output_type": "stream",
     "text": [
      "number_of_valid_codes: 20\n",
      "number_labled_pairs: 210\n",
      "plagiate_per_solution: 10\n"
     ]
    }
   ],
   "source": [
    "semester='WS2021'\n",
    "ha='9'\n",
    "task='Antwort 9'\n",
    "prog_language='C'\n",
    "# path = f'../../data/labled/PPR [{semester}]-{ha}. Hausaufgabe - Pflichttest {prog_language}-Antworten_plagiate.csv'\n",
    "df_plagiate, plagiate_per_solution = create_plagiate_table_from_df(semester=semester, ha=ha, prog_language=prog_language)\n"
   ]
  },
  {
   "cell_type": "code",
   "execution_count": null,
   "metadata": {},
   "outputs": [],
   "source": [
    "#TODO create_plagiate_table_from_df ziel:\n",
    "#   alle vorgaben aus den codes vom df_labled entfernen und speichern\n",
    "#   daraus dann die plagiate erstellen und speichern"
   ]
  },
  {
   "cell_type": "markdown",
   "metadata": {},
   "source": [
    "# Plagiate maker with pycparser"
   ]
  },
  {
   "cell_type": "code",
   "execution_count": 18,
   "metadata": {},
   "outputs": [
    {
     "name": "stdout",
     "output_type": "stream",
     "text": [
      "int PKW24()\n",
      "{\n",
      "  int jkjlk = 1;\n",
      "  int cqhjd = 2;\n",
      "  int ryguu = a + b;\n",
      "  return c;\n",
      "}\n",
      "\n",
      "\n"
     ]
    }
   ],
   "source": [
    "from pycparser import c_generator, c_parser\n",
    "import pycparser\n",
    "\n",
    "# Parse C code\n",
    "c_code = '''\n",
    "int main() {\n",
    "    int a = 1;\n",
    "    int b = 2;\n",
    "    int c = a + b;\n",
    "    return c;\n",
    "}\n",
    "'''\n",
    "# store the code in a file\n",
    "with open('test.c', 'w') as f:\n",
    "    f.write(c_code)\n",
    "    f.close()\n",
    "ast=pycparser.parse_file('test.c')\n",
    "# generate Plagiat from AST\n",
    "import random\n",
    "import string\n",
    "\n",
    "def generate_plagiat(ast, n):\n",
    "    '''Generate n new plagiat based on AST'''\n",
    "    plagiat = []\n",
    "    variables = []\n",
    "    for i in range(n):\n",
    "        # replace variable names\n",
    "        for node in ast.ext:\n",
    "            if isinstance(node, pycparser.c_ast.FuncDef):\n",
    "                for stmt in node.body.block_items:\n",
    "                    if isinstance(stmt, pycparser.c_ast.Decl):\n",
    "                        variables.append(stmt.type.declname)\n",
    "                        stmt.type.declname = ''.join(random.choices(string.ascii_lowercase, k=5))\n",
    "                    # print(stmt)\n",
    "\n",
    "\n",
    "        # replace variable names in expressions\n",
    "        for node in ast.ext:\n",
    "            if isinstance(node, pycparser.c_ast.FuncDef):\n",
    "                for stmt in node.body.block_items:\n",
    "                    if isinstance(stmt, pycparser.c_ast.BinaryOp):\n",
    "                        for var in variables:\n",
    "                            if var in stmt.left.name:\n",
    "                                stmt.left.name = ''.join(random.choices(string.ascii_lowercase, k=5))\n",
    "                            if var in stmt.right.name:\n",
    "                                stmt.right.name = ''.join(random.choices(string.ascii_lowercase, k=5))\n",
    "\n",
    "        # change function names\n",
    "        for node in ast.ext:\n",
    "            if isinstance(node, pycparser.c_ast.FuncDef):\n",
    "                node.decl.name = ''.join(random.choices(string.ascii_uppercase + string.digits, k=5))\n",
    "                node.decl.type.type.declname = ''.join(random.choices(string.ascii_uppercase + string.digits, k=5))\n",
    "                \n",
    "        # ast to string\n",
    "\n",
    "        code= c_generator.CGenerator().visit(ast)\n",
    "        plagiat.append(code)\n",
    "    return plagiat\n",
    "\n",
    "        \n",
    "plagiat = generate_plagiat(ast, 5)\n",
    "# print(ast)\n",
    "# for p in ast:\n",
    "#     print(p)\n",
    "print(c_generator.CGenerator().visit(ast))"
   ]
  }
 ],
 "metadata": {
  "kernelspec": {
   "display_name": "Python 3.10.6 ('siames_network')",
   "language": "python",
   "name": "python3"
  },
  "language_info": {
   "codemirror_mode": {
    "name": "ipython",
    "version": 3
   },
   "file_extension": ".py",
   "mimetype": "text/x-python",
   "name": "python",
   "nbconvert_exporter": "python",
   "pygments_lexer": "ipython3",
   "version": "3.10.6"
  },
  "orig_nbformat": 4,
  "vscode": {
   "interpreter": {
    "hash": "9cc6df8cc6fa0c31d57213f9d666a037f059aeacd32b97b80ca2bbc4b39cefda"
   }
  }
 },
 "nbformat": 4,
 "nbformat_minor": 2
}
