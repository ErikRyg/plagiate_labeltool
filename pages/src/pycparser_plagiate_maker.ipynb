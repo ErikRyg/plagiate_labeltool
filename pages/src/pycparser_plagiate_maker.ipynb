{
 "cells": [
  {
   "cell_type": "code",
   "execution_count": 1,
   "metadata": {},
   "outputs": [],
   "source": [
    "import pandas as pd\n",
    "import numpy as np\n",
    "from obfuscator import comment_remover, variable_renamer\n",
    "from csv_stuff import create_labled_table_routine, add_valid_code_columns, remove_given_code\n",
    "import sys\n",
    "# sys.path.append('/home/erik/TU/ni/Source-Code-Plagiarism-Detection/Source codes/')\n",
    "sys.path.append('../../../Source-Code-Plagiarism-Detection/Source codes/')\n",
    "from remove_given_code_from_student_solution import remove_given_code_from_df\n",
    "\n",
    "\n",
    "PATH_TEMPLATE = \"/home/erik/TU/ni/plagiate_labeltool/data/code_templates/\"\n",
    "\n",
    "\n",
    "def create_plagiate_table(df, semester, ha, task, prog_language, number_labled_pairs, path):\n",
    "    df_labled = pd.DataFrame(columns=['semester', 'ha', 'task', 'prog_lang',\n",
    "                                      'surname1', 'lastname1', 'code1', 'code2', 'label'])\n",
    "\n",
    "    df = add_valid_code_columns(df, semester, ha, [task], prog_language)\n",
    "    number_of_valid_codes = len(df.loc[df[f'{task} empty'] == 0])\n",
    "    print(\"number_of_valid_codes: \" + str(number_of_valid_codes))\n",
    "    plagiate_per_solution = int(np.floor(number_labled_pairs/number_of_valid_codes))\n",
    "    print(\"plagiate_per_solution: \" + str(plagiate_per_solution))\n",
    "    for ln, sn, code in df.loc[df[f'{task} empty'] == 0][['Nachname', 'Vorname', task]].values:\n",
    "        for i in range(plagiate_per_solution):\n",
    "            plagiate_code = comment_remover(code)\n",
    "            plagiate_code = variable_renamer(plagiate_code)\n",
    "            df_labled.loc[len(df_labled)] = [\n",
    "                semester, ha, task, prog_language, sn, ln, code, plagiate_code, 1]\n",
    "    df_labled.to_csv(path)\n",
    "    return df_labled\n",
    "\n",
    "\n",
    "def create_plagiate_table_routine(semester, ha, task, prog_language):\n",
    "    csv_path = f'../../data/raw_data/PPR [{semester}]-{ha}. Hausaufgabe - Pflichttest {prog_language}-Antworten.csv'\n",
    "    csv_path1 = f'../../data/labled/PPR [{semester}]-{ha}. Hausaufgabe - Pflichttest {prog_language}-Antworten_removed_preload.csv'\n",
    "    # csv_path1 = f'../../data/labled/PPR [{semester}]-{ha}. Hausaufgabe - Pflichttest {prog_language}-Antworten_labled.csv'\n",
    "    csv_path2 = f'../../data/labled/PPR [{semester}]-{ha}. Hausaufgabe - Pflichttest {prog_language}-Antworten_plagiate.csv'\n",
    "    df = pd.read_csv(csv_path, delimiter=',')\n",
    "    number_labled_pairs = len(pd.read_csv(csv_path1, delimiter=','))\n",
    "    df_labled = create_plagiate_table(\n",
    "        df, semester, ha, task, prog_language, number_labled_pairs, csv_path2)\n",
    "    return df_labled\n",
    "\n",
    "\n",
    "def create_plagiate_table_from_df(df, semester, ha, prog_language):\n",
    "    save_path = f'../../data/labled/PPR [{semester}]-{ha}. Hausaufgabe - Pflichttest {prog_language}-Antworten_plagiate.csv'\n",
    "    number_labled_pairs = len(df)\n",
    "    df = df.drop_duplicates(subset=['surname1'])\n",
    "    number_of_valid_codes = len(df)\n",
    "    print(\"number_of_valid_codes: \" + str(number_of_valid_codes))\n",
    "    print(\"number_labled_pairs: \" + str(number_labled_pairs))\n",
    "    plagiate_per_solution = int(np.floor(number_labled_pairs/number_of_valid_codes))\n",
    "    print(\"plagiate_per_solution: \" + str(plagiate_per_solution))\n",
    "    # drop unnecessary columns\n",
    "    df = df.drop(columns=['hand_labled', 'Unnamed: 0', 'surname2', 'lastname2'])\n",
    "    # duplicate each row of df1 plagiate_per_solution times and create new column code2 and use the field code1 as input value for the functions comment_remover and variable_renamer\n",
    "    df = df.reindex(df.index.repeat(plagiate_per_solution))\n",
    "    df['code2'] = df['code1'].apply(comment_remover)\n",
    "    df['code2'] = df['code2'].apply(variable_renamer)\n",
    "    df['label'] = 1\n",
    "    df.to_csv(save_path)\n",
    "    return df\n",
    "\n",
    "\n",
    "def split_data_from_labled(semester, ha, prog_language):\n",
    "    df_labled = pd.read_csv(f'../../data/labled/PPR [{semester}]-{ha}. Hausaufgabe - Pflichttest {prog_language}-Antworten_labled.csv', delimiter=',')\n",
    "    df_labled = remove_given_code_from_df(df_labled)\n",
    "    df_plagiate = create_plagiate_table_from_df(df_labled, semester, ha, prog_language)\n",
    "    return df_plagiate\n",
    "    \n",
    "\n",
    "def open_csvs(semester, ha, prog_language):\n",
    "    original_csv_path = f'../../data/raw_data/PPR [{semester}]-{ha}. Hausaufgabe - Pflichttest {prog_language}-Antworten.csv'\n",
    "    labled_csv_path = f'../../data/labled/PPR [{semester}]-{ha}. Hausaufgabe - Pflichttest {prog_language}-Antworten_removed_preload.csv'\n",
    "    plagiate_csv_path = f'../../data/labled/PPR [{semester}]-{ha}. Hausaufgabe - Pflichttest {prog_language}-Antworten_plagiate.csv'\n",
    "    df_original = pd.read_csv(original_csv_path, delimiter=',')\n",
    "    df_labled = pd.read_csv(labled_csv_path, delimiter=',')\n",
    "    return df_original, df_labled, plagiate_csv_path\n"
   ]
  },
  {
   "cell_type": "code",
   "execution_count": 2,
   "metadata": {},
   "outputs": [],
   "source": [
    "semester='SoSe22'\n",
    "ha='9'\n",
    "task='Antwort 9'\n",
    "prog_language='C'\n",
    "# path = f'../../data/labled/PPR [{semester}]-{ha}. Hausaufgabe - Pflichttest {prog_language}-Antworten_plagiate.csv'\n",
    "path = f'../../data/labled/PPR [{semester}]-{ha}. Hausaufgabe - Pflichttest {prog_language}-Antworten_labled_angefangen.csv'"
   ]
  },
  {
   "cell_type": "code",
   "execution_count": 3,
   "metadata": {},
   "outputs": [],
   "source": [
    "# df_plagiate = split_data_from_labled(semester, ha, prog_language)"
   ]
  },
  {
   "cell_type": "code",
   "execution_count": 4,
   "metadata": {},
   "outputs": [
    {
     "name": "stdout",
     "output_type": "stream",
     "text": [
      "Index(['semester', 'ha', 'task', 'prog_lang', 'surname1', 'lastname1',\n",
      "       'surname2', 'lastname2', 'code1', 'code2', 'label', 'hand_labled'],\n",
      "      dtype='object')\n",
      "0.5196301884602565\n"
     ]
    },
    {
     "data": {
      "text/plain": [
       "<AxesSubplot: >"
      ]
     },
     "execution_count": 4,
     "metadata": {},
     "output_type": "execute_result"
    },
    {
     "data": {
      "image/png": "[encoded data removed]",
      "text/plain": [
       "<Figure size 640x480 with 1 Axes>"
      ]
     },
     "metadata": {},
     "output_type": "display_data"
    }
   ],
   "source": [
    "def remove_specific_students(df_labled, names):\n",
    "    for name in names:\n",
    "        df_labled = df_labled.drop(df_labled[(df_labled['lastname1'] == name) | (df_labled['lastname2'] == name)].index)\n",
    "    return df_labled\n",
    "\n",
    "\n",
    "df_labled = pd.read_csv(path)\n",
    "try:\n",
    "    df_labled = df_labled.drop(columns=['Unnamed: 0'])\n",
    "except KeyError:\n",
    "    pass\n",
    "print(df_labled.columns)\n",
    "names = ['Lehmann', 'Hengst', 'Hilger', 'Krause']\n",
    "df_labled = remove_specific_students(df_labled, names)\n",
    "\n",
    "print(df_labled['label'].mean())\n",
    "df_labled['label'].hist()\n",
    "df_labled['hand_labled'].hist()\n",
    "# df_labled.to_csv(path, index=False)\n",
    "# vorgabe entfernen, auto labeln lassen und dann plagiate erstellen"
   ]
  },
  {
   "cell_type": "code",
   "execution_count": 5,
   "metadata": {},
   "outputs": [],
   "source": [
    "import re\n",
    "def striphtml(data): \n",
    "    return re.sub('<.*?>', ' ', str(data)) \n",
    "\n",
    "def stripunc(data): \n",
    "    return re.sub('[^A-Za-z%\\._\\[\\]]+', ' ', str(data), flags=re.MULTILINE|re.DOTALL) "
   ]
  },
  {
   "cell_type": "code",
   "execution_count": 6,
   "metadata": {},
   "outputs": [],
   "source": [
    "# # for prasentation to show example strip\n",
    "# read_path='/home/erik/TU/ni/plagiarism_detection_tool/data/labled/handmade_plagiate_0_0.c'\n",
    "# write_path='/home/erik/TU/ni/plagiarism_detection_tool/data/labled/handmade_plagiate_0_3.c'\n",
    "# with open(read_path, 'r') as file:\n",
    "#     code = file.read()\n",
    "#     code = striphtml(stripunc(code))\n",
    "#     with open(write_path, 'w') as file:\n",
    "#         file.write(code)"
   ]
  },
  {
   "cell_type": "markdown",
   "metadata": {},
   "source": [
    "## Swap C loops"
   ]
  },
  {
   "cell_type": "code",
   "execution_count": 23,
   "metadata": {},
   "outputs": [
    {
     "name": "stdout",
     "output_type": "stream",
     "text": [
      "for (int i = 0; i < 10; i++){\n",
      "\tprintf(\"%d\", i);\n",
      "}\n",
      "int abc = 0;\n",
      "while (abc < 10){\n",
      "\tprintf(\"%d\", abc);\n",
      "\tabc++;\n",
      "}\n",
      "for 0\n",
      "while 63\n",
      "int i = 0;\n",
      "while (i < 10){\n",
      "\tprintf(\"%d\", i);\n",
      "\ti++;\n",
      "}\n",
      "int abc = 0;\n",
      "for (; abc < 10; abc++){\n",
      "\tprintf(\"%d\", abc);\n",
      "}\n"
     ]
    }
   ],
   "source": [
    "given_string = 'for (int i = 0; i < 10; i++){\\n\\tprintf(\"%d\", i);\\n}\\nint abc = 0;\\nwhile (abc < 10){\\n\\tprintf(\"%d\", abc);\\n\\tabc++;\\n}'\n",
    "print(given_string)\n",
    "print(swap_loops_type(given_string))"
   ]
  },
  {
   "cell_type": "code",
   "execution_count": 35,
   "metadata": {},
   "outputs": [],
   "source": [
    "import re\n",
    "\n",
    "def remove_comments(text, regexs = [\"//[\\t  \\S]*\", \"/\\*[\\s\\S]*?\\*/\"]):\n",
    "    tmp = text\n",
    "    for regex in regexs :\n",
    "        all_matches = re.findall(regex,tmp)\n",
    "        for match in all_matches:\n",
    "            tmp = tmp.replace(match, \"\")\n",
    "    return tmp\n",
    "\n",
    "\n",
    "def swap_loops_type(given_string):\n",
    "    matches = [(x.group(), x.start(0)) for x in re.finditer(r'for|while', given_string)]\n",
    "    for match, index in matches:\n",
    "        if match == 'for':\n",
    "            given_string = given_string[:index] + for_to_while(given_string[index:])\n",
    "        elif match == 'while':\n",
    "            given_string = given_string[:index] + while_to_for(given_string[index:])\n",
    "    return given_string\n",
    "\n",
    "# call this function without opening curly braces in substring\n",
    "def idx_closing_brace(given_substring):\n",
    "    sum_braces = 1\n",
    "    for i, char in enumerate(given_substring):\n",
    "        if char == '{':\n",
    "            sum_braces += 1\n",
    "        elif char == '}':\n",
    "            sum_braces -= 1\n",
    "        if sum_braces == 0:\n",
    "            return i\n",
    "    return -1\n",
    "\n",
    "\n",
    "def for_to_while(given_string):\n",
    "    pattern = '\\n*(\\s*)for\\s*\\((.*?;)(.*?)(;.*?)\\)(\\s*{+)*'\n",
    "    # find first match of pattern in string\n",
    "    matches = re.findall(pattern, given_string)\n",
    "    \n",
    "    # get all end indexes of all matches of pattern in string\n",
    "    indexes = [x.end(0) for x in re.finditer(pattern, given_string)]\n",
    "    # split for loop into 3 parts and pre-spaces\n",
    "    for index,(spaces, init, cond, incr, open_brace) in zip(indexes, matches):\n",
    "        pattern_tmp = 'for\\s*\\(' + re.escape(''.join([init, cond, incr])) + '\\)(\\s*{+)*'\n",
    "        cond = cond.strip()\n",
    "        # remove ';' at the beginning and add it at the end of the of the third part\n",
    "        incr = incr[1:].strip()\n",
    "        incr = incr + ';'\n",
    "        idx_brace = idx_closing_brace(given_string[index+1:])\n",
    "        init_line = init + '\\n' + spaces if init != ';' else ''\n",
    "        if idx_brace == -1:\n",
    "            # insert necessary braces\n",
    "            if incr != ';':\n",
    "                given_string = given_string[:index] + re.sub(';', ';\\n\\t' + spaces + incr + '\\n' + spaces + '}', given_string[index:], 1)\n",
    "            given_string = re.sub(pattern_tmp, init_line + 'while (' + cond + '){', given_string, 1)\n",
    "        else:\n",
    "            # add missing offset from index+1\n",
    "            idx_brace += index+1\n",
    "            if incr != ';':\n",
    "                given_string = given_string[:idx_brace] + re.sub('}', '\\t' + incr + '\\n' + spaces + '}', given_string[idx_brace:], 1)\n",
    "            given_string = re.sub(pattern_tmp, init_line + 'while (' + cond + ')' + open_brace, given_string, 1)\n",
    "    return given_string\n",
    "\n",
    "\n",
    "# does not work with do while loops\n",
    "def while_to_for(given_string):\n",
    "    pattern = 'while\\s*\\((.*?)\\)(\\s*{+)*(?:(?:.|\\n)*?)\\s*(.*;)\\s*}'\n",
    "    pattern_braces = 'while\\s*\\((.*?)\\)(\\s*{+)*'\n",
    "    matches = re.findall(pattern, given_string)\n",
    "    indexes = [x.end(0) for x in re.finditer(pattern_braces, given_string)]\n",
    "    for index,(cond, open_brace, incr) in zip(indexes, matches):\n",
    "        pattern_tmp = 'while\\s*\\(' + re.escape(cond) + '\\)(\\s*{+)*'\n",
    "        cond = cond.strip()\n",
    "        if incr != '':\n",
    "            given_string = re.sub(';\\s*' + re.escape(incr), ';', given_string, 1)\n",
    "            incr = ' ' + incr[:-1].strip()\n",
    "        idx_brace = idx_closing_brace(given_string[index+1:])\n",
    "        if idx_brace == -1:\n",
    "            continue\n",
    "        # add missing offset from index+1\n",
    "        idx_brace += index+1\n",
    "        given_string = re.sub(pattern_tmp, 'for (; ' + cond + ';' + incr + ')' + open_brace, given_string, 1)\n",
    "    return given_string"
   ]
  },
  {
   "cell_type": "code",
   "execution_count": 8,
   "metadata": {},
   "outputs": [],
   "source": [
    "def mirror_logic(logic):\n",
    "    match logic:\n",
    "        case '<':\n",
    "            return '>'\n",
    "        case '>':\n",
    "            return '<'\n",
    "        case '<=':\n",
    "            return '>='\n",
    "        case '>=':\n",
    "            return '<='\n",
    "        case _:\n",
    "            return logic\n",
    "\n",
    "# swap variables in logic equations like a <= b to b >= a\n",
    "def mirrow_simple_logic_equations(given_string):\n",
    "    pattern = '\\s*([^;()]+?)\\s*(!=|==|\\|\\||&&|<=|>=|<|>)\\s*([^;()]+)'\n",
    "    indexes = [(x.start(1),x.end(0)) for x in re.finditer(pattern, given_string)]\n",
    "    matches = re.findall(pattern, given_string)\n",
    "    for (start, end), (a, logic, b) in zip(indexes, matches):\n",
    "        if 'include' in a or 'define' in a: # is a workaround for the problem that the pattern matches also in #include <stdio.h>\n",
    "            continue\n",
    "        given_string = given_string[:start] + f'{b.strip()} {mirror_logic(logic)} {a.strip()}' + given_string[end:]\n",
    "    return given_string\n",
    "\n",
    "def mirrow_nested_logic_equations(given_string):\n",
    "    pass #([\\S()]+)\\s*(!=|==|\\|\\||&&|<=|>=|<|>)\\s*([\\s()]+)\n"
   ]
  },
  {
   "cell_type": "code",
   "execution_count": 11,
   "metadata": {},
   "outputs": [],
   "source": [
    "def invert_logic(logic):\n",
    "    match logic:\n",
    "        case '<=':\n",
    "            return '>'\n",
    "        case '>=':\n",
    "            return '<'\n",
    "        case '<':\n",
    "            return '>='\n",
    "        case '>':\n",
    "            return '<='\n",
    "        case '==':\n",
    "            return '!='\n",
    "        case '!=':\n",
    "            return '=='\n",
    "        case '&&':\n",
    "            return '||'\n",
    "        case '||':\n",
    "            return '&&'\n",
    "        case _:\n",
    "            return logic\n",
    "\n",
    "def demorgan_on_equations(given_string):\n",
    "    pattern = '\\(((?:[;()\\S ]+?)\\s*(!=|==|\\|\\||&&|<=|>=|<|>)\\s*(?:[()\\S ;]+))\\)'\n",
    "    indexes = [(x.start(0),x.end(0)) for x in re.finditer(pattern, given_string)]\n",
    "    matches = re.findall(pattern, given_string)\n",
    "    for (start, end), (match, logic) in zip(indexes, matches):\n",
    "        given_string = given_string[:start] + re.sub(re.escape(match), f'!({match.replace(logic, invert_logic(logic))})', given_string[start:], count=1) \n",
    "    return given_string\n"
   ]
  },
  {
   "cell_type": "markdown",
   "metadata": {},
   "source": [
    "## Testcases"
   ]
  },
  {
   "cell_type": "code",
   "execution_count": 34,
   "metadata": {},
   "outputs": [
    {
     "name": "stdout",
     "output_type": "stream",
     "text": [
      "for (int i = 0; i < 10; i++){\n",
      "\tfor (int j = 0; j < 10; j++){\n",
      "\t\tint alpha=0;\n",
      "\t\twhile(alpha<3){\n",
      "\t\t\tprintf(\"%d\", i);\n",
      "\t\t\talpha++;\n",
      "\t\t}\n",
      "\t}\n",
      "}\n"
     ]
    },
    {
     "ename": "TypeError",
     "evalue": "'int' object is not iterable",
     "output_type": "error",
     "traceback": [
      "\u001b[0;31m---------------------------------------------------------------------------\u001b[0m",
      "\u001b[0;31mTypeError\u001b[0m                                 Traceback (most recent call last)",
      "Cell \u001b[0;32mIn [34], line 3\u001b[0m\n\u001b[1;32m      1\u001b[0m given_string2 \u001b[39m=\u001b[39m \u001b[39m'\u001b[39m\u001b[39mfor (int i = 0; i < 10; i++)\u001b[39m\u001b[39m{\u001b[39m\u001b[39m\\n\u001b[39;00m\u001b[39m\\t\u001b[39;00m\u001b[39mfor (int j = 0; j < 10; j++)\u001b[39m\u001b[39m{\u001b[39m\u001b[39m\\n\u001b[39;00m\u001b[39m\\t\u001b[39;00m\u001b[39m\\t\u001b[39;00m\u001b[39mint alpha=0;\u001b[39m\u001b[39m\\n\u001b[39;00m\u001b[39m\\t\u001b[39;00m\u001b[39m\\t\u001b[39;00m\u001b[39mwhile(alpha<3)\u001b[39m\u001b[39m{\u001b[39m\u001b[39m\\n\u001b[39;00m\u001b[39m\\t\u001b[39;00m\u001b[39m\\t\u001b[39;00m\u001b[39m\\t\u001b[39;00m\u001b[39mprintf(\u001b[39m\u001b[39m\"\u001b[39m\u001b[39m%d\u001b[39;00m\u001b[39m\"\u001b[39m\u001b[39m, i);\u001b[39m\u001b[39m\\n\u001b[39;00m\u001b[39m\\t\u001b[39;00m\u001b[39m\\t\u001b[39;00m\u001b[39m\\t\u001b[39;00m\u001b[39malpha++;\u001b[39m\u001b[39m\\n\u001b[39;00m\u001b[39m\\t\u001b[39;00m\u001b[39m\\t\u001b[39;00m\u001b[39m}\u001b[39m\u001b[39m\\n\u001b[39;00m\u001b[39m\\t\u001b[39;00m\u001b[39m}\u001b[39m\u001b[39m\\n\u001b[39;00m\u001b[39m}\u001b[39m\u001b[39m'\u001b[39m\n\u001b[1;32m      2\u001b[0m \u001b[39mprint\u001b[39m(given_string2)\n\u001b[0;32m----> 3\u001b[0m \u001b[39mprint\u001b[39m(swap_loops_type(given_string2))\n\u001b[1;32m      4\u001b[0m \u001b[39mprint\u001b[39m(\u001b[39m'\u001b[39m\u001b[39mint i = 0;\u001b[39m\u001b[39m\\n\u001b[39;00m\u001b[39mwhile (i < 10)\u001b[39m\u001b[39m{\u001b[39m\u001b[39m\\n\u001b[39;00m\u001b[39m\\t\u001b[39;00m\u001b[39mint j = 0;\u001b[39m\u001b[39m\\n\u001b[39;00m\u001b[39m\\t\u001b[39;00m\u001b[39mwhile (j < 10)\u001b[39m\u001b[39m{\u001b[39m\u001b[39m\\n\u001b[39;00m\u001b[39m\\t\u001b[39;00m\u001b[39m\\t\u001b[39;00m\u001b[39mint alpha=0;\u001b[39m\u001b[39m\\n\u001b[39;00m\u001b[39m\\t\u001b[39;00m\u001b[39m\\t\u001b[39;00m\u001b[39mfor(;alpha<3; alpha++)\u001b[39m\u001b[39m{\u001b[39m\u001b[39m\\n\u001b[39;00m\u001b[39m\\t\u001b[39;00m\u001b[39m\\t\u001b[39;00m\u001b[39m\\t\u001b[39;00m\u001b[39mprintf(\u001b[39m\u001b[39m\"\u001b[39m\u001b[39m%d\u001b[39;00m\u001b[39m\"\u001b[39m\u001b[39m, i);\u001b[39m\u001b[39m\\n\u001b[39;00m\u001b[39m\\t\u001b[39;00m\u001b[39m\\t\u001b[39;00m\u001b[39m}\u001b[39m\u001b[39m\\n\u001b[39;00m\u001b[39m\\t\u001b[39;00m\u001b[39m}\u001b[39m\u001b[39m\\n\u001b[39;00m\u001b[39m}\u001b[39m\u001b[39m'\u001b[39m)\n",
      "Cell \u001b[0;32mIn [33], line 16\u001b[0m, in \u001b[0;36mswap_loops_type\u001b[0;34m(given_string)\u001b[0m\n\u001b[1;32m     14\u001b[0m \u001b[39mfor\u001b[39;00m match, index \u001b[39min\u001b[39;00m matches:\n\u001b[1;32m     15\u001b[0m     \u001b[39mif\u001b[39;00m match \u001b[39m==\u001b[39m \u001b[39m'\u001b[39m\u001b[39mfor\u001b[39m\u001b[39m'\u001b[39m:\n\u001b[0;32m---> 16\u001b[0m         given_string \u001b[39m=\u001b[39m given_string[:index] \u001b[39m+\u001b[39m for_to_while(given_string[index:])\n\u001b[1;32m     17\u001b[0m     \u001b[39melif\u001b[39;00m match \u001b[39m==\u001b[39m \u001b[39m'\u001b[39m\u001b[39mwhile\u001b[39m\u001b[39m'\u001b[39m:\n\u001b[1;32m     18\u001b[0m         given_string \u001b[39m=\u001b[39m given_string[:index] \u001b[39m+\u001b[39m while_to_for(given_string[index:])\n",
      "Cell \u001b[0;32mIn [33], line 42\u001b[0m, in \u001b[0;36mfor_to_while\u001b[0;34m(given_string)\u001b[0m\n\u001b[1;32m     40\u001b[0m indexes \u001b[39m=\u001b[39m [x\u001b[39m.\u001b[39mend(\u001b[39m0\u001b[39m) \u001b[39mfor\u001b[39;00m x \u001b[39min\u001b[39;00m re\u001b[39m.\u001b[39mfinditer(pattern, given_string)][\u001b[39m0\u001b[39m]\n\u001b[1;32m     41\u001b[0m \u001b[39m# split for loop into 3 parts and pre-spaces\u001b[39;00m\n\u001b[0;32m---> 42\u001b[0m \u001b[39mfor\u001b[39;00m index,(spaces, init, cond, incr, open_brace) \u001b[39min\u001b[39;00m \u001b[39mzip\u001b[39;49m(indexes, matches):\n\u001b[1;32m     43\u001b[0m     pattern_tmp \u001b[39m=\u001b[39m \u001b[39m'\u001b[39m\u001b[39mfor\u001b[39m\u001b[39m\\\u001b[39m\u001b[39ms*\u001b[39m\u001b[39m\\\u001b[39m\u001b[39m(\u001b[39m\u001b[39m'\u001b[39m \u001b[39m+\u001b[39m re\u001b[39m.\u001b[39mescape(\u001b[39m'\u001b[39m\u001b[39m'\u001b[39m\u001b[39m.\u001b[39mjoin([init, cond, incr])) \u001b[39m+\u001b[39m \u001b[39m'\u001b[39m\u001b[39m\\\u001b[39m\u001b[39m)(\u001b[39m\u001b[39m\\\u001b[39m\u001b[39ms*\u001b[39m\u001b[39m{\u001b[39m\u001b[39m+)*\u001b[39m\u001b[39m'\u001b[39m\n\u001b[1;32m     44\u001b[0m     cond \u001b[39m=\u001b[39m cond\u001b[39m.\u001b[39mstrip()\n",
      "\u001b[0;31mTypeError\u001b[0m: 'int' object is not iterable"
     ]
    }
   ],
   "source": [
    "given_string2 = 'for (int i = 0; i < 10; i++){\\n\\tfor (int j = 0; j < 10; j++){\\n\\t\\tint alpha=0;\\n\\t\\twhile(alpha<3){\\n\\t\\t\\tprintf(\"%d\", i);\\n\\t\\t\\talpha++;\\n\\t\\t}\\n\\t}\\n}'\n",
    "print(given_string2)\n",
    "print(swap_loops_type(given_string2))\n",
    "print('int i = 0;\\nwhile (i < 10){\\n\\tint j = 0;\\n\\twhile (j < 10){\\n\\t\\tint alpha=0;\\n\\t\\tfor(;alpha<3; alpha++){\\n\\t\\t\\tprintf(\"%d\", i);\\n\\t\\t}\\n\\t}\\n}')\n"
   ]
  },
  {
   "cell_type": "code",
   "execution_count": 42,
   "metadata": {},
   "outputs": [
    {
     "name": "stderr",
     "output_type": "stream",
     "text": [
      "test_demorgan_on_equations (__main__.Test) ... ok\n",
      "test_for_to_while (__main__.Test) ... ok\n",
      "test_index_of_braces (__main__.Test) ... ok\n",
      "test_mirror_simple_logic_equation (__main__.Test) ... ok\n",
      "test_remove_comments (__main__.Test) ... ok\n",
      "test_swap_loops_type (__main__.Test) ... FAIL\n",
      "test_while_to_for (__main__.Test) ... ok\n",
      "\n",
      "======================================================================\n",
      "FAIL: test_swap_loops_type (__main__.Test)\n",
      "----------------------------------------------------------------------\n",
      "Traceback (most recent call last):\n",
      "  File \"/tmp/ipykernel_6050/2175465494.py\", line 19, in test_swap_loops_type\n",
      "    self.assertEqual(swap_loops_type(self.given_string2), 'int i = 0;\\nwhile (i < 10){\\n\\tint j = 0;\\n\\twhile (j < 10){\\n\\t\\tint alpha=0;\\n\\t\\tfor(;alpha<3; alpha++){\\n\\t\\t\\tprintf(\"%d\", i);\\n\\t\\t}\\n\\t}\\n}')\n",
      "AssertionError: 'int [75 chars]n\\t\\twhile(alpha<3){\\n\\t\\t\\tprintf(\"%d\", i);\\n[43 chars];\\n}' != 'int [75 chars]n\\t\\tfor(;alpha<3; alpha++){\\n\\t\\t\\tprintf(\"%d[17 chars]}\\n}'\n",
      "  int i = 0;\n",
      "  while (i < 10){\n",
      "  \tint j = 0;\n",
      "  \twhile (j < 10){\n",
      "  \t\tint alpha=0;\n",
      "- \t\twhile(alpha<3){\n",
      "+ \t\tfor(;alpha<3; alpha++){\n",
      "  \t\t\tprintf(\"%d\", i);\n",
      "- \t\t\talpha++;\n",
      "  \t\t}\n",
      "- \t\tj++;\n",
      "  \t}\n",
      "- \ti++;\n",
      "  }\n",
      "\n",
      "----------------------------------------------------------------------\n",
      "Ran 7 tests in 0.009s\n",
      "\n",
      "FAILED (failures=1)\n"
     ]
    },
    {
     "data": {
      "text/plain": [
       "<unittest.main.TestProgram at 0x7f949f016c50>"
      ]
     },
     "execution_count": 42,
     "metadata": {},
     "output_type": "execute_result"
    }
   ],
   "source": [
    "import unittest\n",
    "\n",
    "# TODO rewrite test functions to test subclasses\n",
    "# TODO tests all edge cases, because students dont write good code\n",
    "# TODO for_to_while wird \\0 nicht richtig ersetzt/verschoben (Null)\n",
    "# import pdb; pdb.set_trace() # debug\n",
    "class Test(unittest.TestCase):\n",
    "    given_string = 'for (int i = 0; i < 10; i++){\\n\\tprintf(\"%d\", i);\\n}\\nint abc = 0;\\nwhile (abc < 10){\\n\\tprintf(\"%d\", abc);\\n\\tabc++;\\n}'\n",
    "    given_string2 = 'for (int i = 0; i < 10; i++){\\n\\tfor (int j = 0; j < 10; j++){\\n\\t\\tint alpha=0;\\n\\t\\twhile(alpha<3){\\n\\t\\t\\tprintf(\"%d\", i);\\n\\t\\t\\talpha++;\\n\\t\\t}\\n\\t}\\n}'\n",
    "    given_string3 = 'for (int i = 0; i < 10; i++){\\n\\tprintf(\"%d\", i);\\n}'\n",
    "\n",
    "    def test_remove_comments(self):\n",
    "        self.assertEqual(remove_comments(self.given_string), self.given_string)\n",
    "        comment_string = '// Funktion die bis 100 zählt\\nfor (int i = 0; i < 10; i++){\\n\\t/* zweite Schleife\\n\\t   damit wird 10*10 gerechnet */\\n\\tfor (int j = 0; j < 10; j++){\\n\\t\\tprintf(\"%d\", i);\\t// das ist ein printf\\n\\t}\\n}'\n",
    "        self.assertEqual(remove_comments(comment_string), '\\nfor (int i = 0; i < 10; i++){\\n\\t\\n\\tfor (int j = 0; j < 10; j++){\\n\\t\\tprintf(\"%d\", i);\\t\\n\\t}\\n}')\n",
    "\n",
    "    def test_swap_loops_type(self):\n",
    "        self.assertEqual(swap_loops_type(self.given_string), 'int i = 0;\\nwhile (i < 10){\\n\\tprintf(\"%d\", i);\\n\\ti++;\\n}\\nint abc = 0;\\nfor (; abc < 10; abc++){\\n\\tprintf(\"%d\", abc);\\n}')\n",
    "        self.assertEqual(swap_loops_type(self.given_string2), 'int i = 0;\\nwhile (i < 10){\\n\\tint j = 0;\\n\\twhile (j < 10){\\n\\t\\tint alpha=0;\\n\\t\\tfor(;alpha<3; alpha++){\\n\\t\\t\\tprintf(\"%d\", i);\\n\\t\\t}\\n\\t}\\n}')\n",
    "        self.assertEqual(swap_loops_type(self.given_string3), 'int i = 0;\\nwhile (i < 10){\\n\\tprintf(\"%d\", i);\\n\\ti++;\\n}')\n",
    "\n",
    "    def test_for_to_while(self):\n",
    "        # doesnt work with nested for loops *check*\n",
    "        self.assertEqual(for_to_while(self.given_string), 'int i = 0;\\nwhile (i < 10){\\n\\tprintf(\"%d\", i);\\n\\ti++;\\n}\\nint abc = 0;\\nwhile (abc < 10){\\n\\tprintf(\"%d\", abc);\\n\\tabc++;\\n}')\n",
    "        self.assertEqual(for_to_while(self.given_string2), 'int i = 0;\\nwhile (i < 10){\\n\\tint j = 0;\\n\\twhile (j < 10){\\n\\t\\tint alpha=0;\\n\\t\\twhile(alpha<3){\\n\\t\\t\\tprintf(\"%d\", i);\\n\\t\\t\\talpha++;\\n\\t\\t}\\n\\t\\tj++;\\n\\t}\\n\\ti++;\\n}')\n",
    "        one_liner = 'for (int i = 0; i < 10; i++)\\n\\tprintf(\"%d\", i);'\n",
    "        expected = 'int i = 0;\\nwhile (i < 10){\\n\\tprintf(\"%d\", i);\\n\\ti++;\\n}'\n",
    "        self.assertEqual(for_to_while(one_liner), expected)\n",
    "        # right amount of spaces in inserted code *check*\n",
    "        # must work independent if there is space between ) and {\n",
    "        one_liner = 'int i = 0;\\nfor (;i < 10;) {\\n\\tprintf(\"%d\", i);\\n\\ti++;\\n}'\n",
    "        expected = 'int i = 0;\\nwhile (i < 10) {\\n\\tprintf(\"%d\", i);\\n\\ti++;\\n}'\n",
    "        self.assertEqual(for_to_while(one_liner), expected)\n",
    "        # test if while is correctly indented\n",
    "        one_liner = '\\tint i = 0;\\n\\tfor (;i < 10;) {\\n\\t\\tprintf(\"%d\", i);\\n\\t\\ti++;\\n\\t}'\n",
    "        expected = '\\tint i = 0;\\n\\twhile (i < 10) {\\n\\t\\tprintf(\"%d\", i);\\n\\t\\ti++;\\n\\t}'\n",
    "        self.assertEqual(for_to_while(one_liner), expected)\n",
    "        self.assertEqual(for_to_while('printf(\"Hello World\\n\");'), 'printf(\"Hello World\\n\");')\n",
    "\n",
    "    def test_while_to_for(self):\n",
    "        # would be nice if increment in while is found and inserted in for loop *check*\n",
    "        self.assertEqual(while_to_for(self.given_string), 'for (int i = 0; i < 10; i++){\\n\\tprintf(\"%d\", i);\\n}\\nint abc = 0;\\nfor (; abc < 10; abc++){\\n\\tprintf(\"%d\", abc);\\n}')\n",
    "        self.assertEqual(while_to_for(self.given_string2), 'for (int i = 0; i < 10; i++){\\n\\tfor (int j = 0; j < 10; j++){\\n\\t\\tint alpha=0;\\n\\t\\tfor (; alpha<3; alpha++){\\n\\t\\t\\tprintf(\"%d\", i);\\n\\t\\t}\\n\\t}\\n}')\n",
    "        two_liner = '\\tint i = 0;\\n\\twhile (i < 10)    {\\n\\t\\tprintf(\"%d\", i);\\n\\t\\ti++;\\n\\t}'\n",
    "        expected = '\\tint i = 0;\\n\\tfor (; i < 10; i++)    {\\n\\t\\tprintf(\"%d\", i);\\n\\t}'\n",
    "        self.assertEqual(while_to_for(two_liner), expected)\n",
    "        two_liner = '  int abc = 0;\\n  while (abc < 10){\\n    printf(\"%d\", abc);\\n    --abc;\\n  }'\n",
    "        expected = '  int abc = 0;\\n  for (; abc < 10; --abc){\\n    printf(\"%d\", abc);\\n  }'\n",
    "        self.assertEqual(while_to_for(two_liner), expected)\n",
    "        self.assertEqual(for_to_while('printf(\"Hello World\\n\");'), 'printf(\"Hello World\\n\");')\n",
    "\n",
    "    def idx_opening_brace(self,given_string):\n",
    "        for i, char in enumerate(given_string):\n",
    "            if char == '{':\n",
    "                return i\n",
    "        return -1\n",
    "\n",
    "    def all_idx_braces(self,given_string):\n",
    "        idx_braces = []\n",
    "        for i, char in enumerate(given_string):\n",
    "            if char == '{':\n",
    "                idx_braces.append(i)\n",
    "            if char == '}':\n",
    "                idx_braces.append(i)\n",
    "        return idx_braces\n",
    "\n",
    "    def test_index_of_braces(self):\n",
    "        self.assertEqual(idx_closing_brace(self.given_string3), -1)\n",
    "        index = self.idx_opening_brace(self.given_string2)\n",
    "        self.assertEqual(idx_closing_brace(self.given_string2[index+1:])+index+1, 133)\n",
    "\n",
    "    def test_mirror_simple_logic_equation(self):\n",
    "        self.assertEqual(mirrow_simple_logic_equations(\"#include <stdio.h>\\nif( *p!='x' )\"), \"#include <stdio.h>\\nif( 'x' != *p)\")\n",
    "        self.assertEqual(mirrow_simple_logic_equations(\"if( *p || 'x' )\"), \"if( 'x' || *p)\")\n",
    "        self.assertEqual(mirrow_simple_logic_equations(\"if( *p && 'x' )\"), \"if( 'x' && *p)\")\n",
    "        self.assertEqual(mirrow_simple_logic_equations(\"if( *p<='x' )\"), \"if( 'x' >= *p)\")\n",
    "        self.assertEqual(mirrow_simple_logic_equations(\"if( *p>='x' )\"), \"if( 'x' <= *p)\")\n",
    "        self.assertEqual(mirrow_simple_logic_equations(\"if( *p>'x' )\"), \"if( 'x' < *p)\")\n",
    "        self.assertEqual(mirrow_simple_logic_equations(\"if( *p<'x' )\"), \"if( 'x' > *p)\")\n",
    "        self.assertEqual(mirrow_simple_logic_equations(\"if( *p=='x' )\"), \"if( 'x' == *p)\")\n",
    "        self.assertEqual(mirrow_simple_logic_equations(\"if(1 + *p > 'x' + 3)\"), \"if('x' + 3 < 1 + *p)\")\n",
    "        self.assertEqual(mirrow_simple_logic_equations(\"      if((*p != 'x')&&(*p || 'y'))\"), \"      if(('x' != *p)&&('y' || *p))\")\n",
    "\n",
    "    def test_demorgan_on_equations(self):\n",
    "        self.assertEqual(demorgan_on_equations(\"if( *p!='x' )\"), \"if(!( *p=='x' ))\")\n",
    "        self.assertEqual(demorgan_on_equations(\"if( *p || 'x' )\"), \"if(!( *p && 'x' ))\")\n",
    "        self.assertEqual(demorgan_on_equations(\"if( *p && 'x' )\"), \"if(!( *p || 'x' ))\")\n",
    "        self.assertEqual(demorgan_on_equations(\"if( *p<='x' )\"), \"if(!( *p>'x' ))\")\n",
    "        self.assertEqual(demorgan_on_equations(\"if( *p>='x' )\"), \"if(!( *p<'x' ))\")\n",
    "        self.assertEqual(demorgan_on_equations(\"if( *p>'x' )\"), \"if(!( *p<='x' ))\")\n",
    "        self.assertEqual(demorgan_on_equations(\"if( *p<'x' )\"), \"if(!( *p>='x' ))\")\n",
    "        self.assertEqual(demorgan_on_equations(\"if( *p=='x' )\"), \"if(!( *p!='x' ))\")\n",
    "        self.assertEqual(demorgan_on_equations(\"if(1 + *p > 'x' + 3)\"), \"if(!(1 + *p <= 'x' + 3))\")\n",
    "        #TODO nested demorgan\n",
    "        # self.assertEqual(demorgan_on_equations(\"      if((*p != 'x')&&(*p || 'y'))\"), \"      if(('x' == *p)||('y' && *p))\")\n",
    "        #TODO\n",
    "        # self.assertEqual(demorgan_on_equations(\"for(; i < sammelzaehler ; i += 3)\"), \"for(; !(i >= sammelzaehler) ; i += 3)\")\n",
    "\n",
    "unittest.main(argv=[''], verbosity=2, exit=False)"
   ]
  },
  {
   "cell_type": "markdown",
   "metadata": {},
   "source": [
    "## Swap positions of functions"
   ]
  },
  {
   "cell_type": "code",
   "execution_count": 9,
   "metadata": {},
   "outputs": [],
   "source": [
    "def swap_positions_of_functions(given_string):\n",
    "    # given_string = remove_comments(given_string)\n",
    "    idx_braces = all_idx_braces(given_string)\n",
    "    idx_functions = []\n",
    "    for i, idx in enumerate(idx_braces):\n",
    "        if given_string[idx-1] == ')':\n",
    "            idx_functions.append(idx)\n",
    "    idx_functions = idx_functions[::-1]\n",
    "    for i, idx in enumerate(idx_functions):\n",
    "        if i % 2 == 0:\n",
    "            continue\n",
    "        else:\n",
    "            idx_braces[idx], idx\n",
    "    return given_string\n",
    "    "
   ]
  },
  {
   "cell_type": "markdown",
   "metadata": {},
   "source": [
    "## Swap positions variables in comparisons"
   ]
  },
  {
   "cell_type": "code",
   "execution_count": 53,
   "metadata": {},
   "outputs": [
    {
     "name": "stdout",
     "output_type": "stream",
     "text": [
      "a <= b\n",
      "b >= a\n",
      "b\n",
      "b >= a >= a\n"
     ]
    }
   ],
   "source": [
    "string = r'''#include <stdio.h>\n",
    "\n",
    "int main(int argc, char* argv[])\n",
    "{\n",
    "  int sammelzaehler = 0;\n",
    "  char kollektion[100] = \"\";\n",
    "  for(int j = 1; j < argc; j++)\n",
    "  {\n",
    "    for(char* p = argv[j]; (*p) != '\\0'; p++)\n",
    "    {\n",
    "      if((*p != 'x')&&(*p != 'y')&&(*p != 'q')&&(*p != 'X')&&(*p != 'Y')&&(*p != 'Q'))\n",
    "      {\n",
    "        kollektion[sammelzaehler] = *p;\n",
    "        sammelzaehler++;\n",
    "      }\n",
    "    }\n",
    "  }\n",
    "  kollektion[sammelzaehler] = '\\0';\n",
    "  printf(\"x,y,q und X,Y,Q aussortiert: %s\\n\", kollektion);\n",
    "  char neuerString[100] = \"\";\n",
    "  int i=0;\n",
    "  for(; i < sammelzaehler; i += 3)\n",
    "  {\n",
    "      neuerString[i/3] = kollektion[i];\n",
    "  }\n",
    "  neuerString[i/3] = '\\0';\n",
    "  printf(\"Der neue String lautet: %s \\n\", neuerString );\n",
    "}\n",
    " \n",
    "'''\n",
    "logic_string = 'a <= b\\nb >= a'\n",
    "\n",
    "print(logic_string)\n",
    "print(mirrow_simple_logic_equations(logic_string))\n",
    "# print(string)\n",
    "# print(for_to_while(string))"
   ]
  },
  {
   "cell_type": "markdown",
   "metadata": {},
   "source": [
    "## Regex101\n",
    "\n",
    "```\\S*\\s*(?:!=|==|&&|\\|\\|)\\s*\\S*```"
   ]
  },
  {
   "cell_type": "markdown",
   "metadata": {},
   "source": [
    "## Use de morgan's law on logic equations"
   ]
  },
  {
   "cell_type": "code",
   "execution_count": 90,
   "metadata": {},
   "outputs": [
    {
     "name": "stdout",
     "output_type": "stream",
     "text": [
      "!(*p == 'x')\n",
      "!(*p && 'x')\n",
      "!(*p || 'x')\n",
      "!(*p > 'x')\n",
      "!(*p < 'x')\n",
      "!(*p >= 'x')\n",
      "!(*p <= 'x')\n",
      "      if(!(*p == 'x'))\n",
      "      if(!(*p && 'x'))\n",
      "      if(!(*p || 'x'))\n",
      "      if(!(*p > 'x'))\n",
      "      if(!(*p < 'x'))\n",
      "      if(!(*p >= 'x'))\n",
      "      if(!(*p <= 'x'))\n"
     ]
    }
   ],
   "source": [
    "string = '''      if(*p != 'x')\n",
    "      if(*p || 'x')\n",
    "      if(*p && 'x')\n",
    "      if(*p <= 'x')\n",
    "      if(*p >= 'x')\n",
    "      if(*p < 'x')\n",
    "      if(*p > 'x')'''\n",
    "\n",
    "print(demorgan_on_equations(string))"
   ]
  }
 ],
 "metadata": {
  "kernelspec": {
   "display_name": "Python 3.10.6 ('siames_network')",
   "language": "python",
   "name": "python3"
  },
  "language_info": {
   "codemirror_mode": {
    "name": "ipython",
    "version": 3
   },
   "file_extension": ".py",
   "mimetype": "text/x-python",
   "name": "python",
   "nbconvert_exporter": "python",
   "pygments_lexer": "ipython3",
   "version": "3.10.6"
  },
  "orig_nbformat": 4,
  "vscode": {
   "interpreter": {
    "hash": "9cc6df8cc6fa0c31d57213f9d666a037f059aeacd32b97b80ca2bbc4b39cefda"
   }
  }
 },
 "nbformat": 4,
 "nbformat_minor": 2
}
