{
 "cells": [
  {
   "cell_type": "markdown",
   "metadata": {},
   "source": [
    "# Jupiter Notebook to test csv_stuff.py"
   ]
  },
  {
   "cell_type": "code",
   "execution_count": 1,
   "metadata": {},
   "outputs": [],
   "source": [
    "import pandas as pd\n",
    "import sys\n",
    "import re\n",
    "import random\n",
    "from bs4 import BeautifulSoup\n",
    "import argparse\n",
    "import matplotlib.pyplot as plt\n",
    "import difflib\n",
    "from csv_stuff import *"
   ]
  },
  {
   "cell_type": "code",
   "execution_count": null,
   "metadata": {},
   "outputs": [],
   "source": [
    "semester='SoSe21'\n",
    "ha='9'\n",
    "# tasks = ['Antwort 9']\n",
    "tasks = ['Antwort 8', 'Antwort 9', 'Antwort 10']\n",
    "prog_language='C'\n",
    "df_labled, count = create_labled_table_routine(semester=semester, ha=ha, tasks=tasks, prog_language=prog_language)\n",
    "# answerpreload = get_given_code(f'../../data/code_templates/PPR [{semester}]-{ha}. Hausaufgabe - Pflichttest {prog_language}-Antworten_{tasks[0]}.xml')"
   ]
  },
  {
   "cell_type": "markdown",
   "metadata": {},
   "source": [
    "### Small calculation to get number of all possible pairs in PPR"
   ]
  },
  {
   "cell_type": "code",
   "execution_count": 46,
   "metadata": {},
   "outputs": [
    {
     "name": "stdout",
     "output_type": "stream",
     "text": [
      "17424\n",
      "69696\n",
      "139392\n"
     ]
    }
   ],
   "source": [
    "semester='SoSe21'\n",
    "ha=['6','7','8','9','10']   #5 relevant programm homework weeks + (possible exam tasks)\n",
    "abgaben=[34,34,34,34,34]    #SoSe2021 34 student only in c\n",
    "tasks = [4, 3, 3, 3, 3]     #2-4 programm tasks per week\n",
    "summe=0\n",
    "for abgabe,task in zip(abgaben,tasks):\n",
    "    summe += (abgabe-1)**2*task     #with 34 comes 33 pairs per student per task per week\n",
    "print(summe)                #number of homework pairs in one semester\n",
    "print(summe*4)              #number of pairs in four semester\n",
    "print(summe*4*2)            #number of pairs in four semester in 2 programming languages\n"
   ]
  },
  {
   "cell_type": "markdown",
   "metadata": {},
   "source": [
    "## Test difflib with hand-labled data"
   ]
  },
  {
   "cell_type": "code",
   "execution_count": 24,
   "metadata": {},
   "outputs": [
    {
     "name": "stdout",
     "output_type": "stream",
     "text": [
      "Yang Felix,Yang Felix,0.7399741267787839\n",
      "Yang Felix,Yang Felix,0.7382492453643812\n",
      "Yang Felix,Yang Felix,0.728762397585166\n",
      "Yang Felix,Yang Felix,0.7278999568779646\n",
      "Yang Felix,Yang Felix,0.7253126347563605\n",
      "Tom Alexander,Tom Alexander,0.3467550923732828\n",
      "Maximilian Erich,Maximilian Erich,0.3433962264150943\n",
      "Maximilian Erich,Maximilian Erich,0.31761006289308175\n",
      "Jared Louis,Jared Louis,0.2912216723104975\n",
      "Tom Alexander,Tom Alexander,0.2273803884414969\n"
     ]
    }
   ],
   "source": [
    "import difflib\n",
    "import pandas as pd\n",
    "import sys\n",
    "from os import listdir\n",
    "from os.path import isfile, join\n",
    "import math\n",
    "\n",
    "def difflib_on_directory(path):\n",
    "    file_names = [f for f in listdir(path) if isfile(join(path, f))]\n",
    "    if len(file_names) < 2:\n",
    "        print('no files to compare')\n",
    "    file_contents = [open(f).readlines() for f in file_names]\n",
    "    num_files = len(file_names)\n",
    "    sims = []\n",
    "    for x in range(0, num_files):\n",
    "        for y in range(x+1, num_files):\n",
    "            s = difflib.SequenceMatcher(None, file_contents[x], file_contents[y])\n",
    "            ratio = s.ratio()\n",
    "            sims.append((file_names[x], file_names[y], ratio))\n",
    "\n",
    "    sorted_sims = sorted(sims, key=lambda s: -s[2])\n",
    "\n",
    "    for f1, f2, score in sorted_sims:\n",
    "        print(f1 + ',' + f2 + ',' + str(score))\n",
    "\n",
    "def difflib_on_csv(path):\n",
    "    df = pd.read_csv(path, delimiter=',')\n",
    "    sims = []\n",
    "    for sn, code1, code2 in df[['surname1', 'code1', 'code2']].values:\n",
    "        s = difflib.SequenceMatcher(None, code1, code2)\n",
    "        ratio = s.ratio()\n",
    "        # print((sn, ratio))\n",
    "        sims.append((sn, ratio))\n",
    "\n",
    "    sorted_sims = sorted(sims, key=lambda s: -s[1])\n",
    "\n",
    "    for sn, score in sorted_sims[0:5]:\n",
    "        print(sn + ',' + sn + ',' + str(score))\n",
    "    for sn, score in sorted_sims[-6:-1]:\n",
    "        # print('HUHU')\n",
    "        print(sn + ',' + sn + ',' + str(score))\n",
    "\n",
    "difflib_on_csv(\"/home/erik/TU/ni/plagiate_labeltool/data/labled/PPR [SoSe21]-9. Hausaufgabe - Pflichttest C-Antworten_plagiate.csv\")\n"
   ]
  },
  {
   "cell_type": "code",
   "execution_count": 3,
   "metadata": {},
   "outputs": [],
   "source": [
    "# creates c files out of csv's\n",
    "df = pd.read_csv('~/TU/ni/plagiate_labeltool/data/labled/PPR [SoSe21]-7. Hausaufgabe - Pflichttest C-Antworten_labled.csv', delimiter=',')\n",
    "sum = 0\n",
    "for row in df[['lastname1','code1']].values:\n",
    "    if sum == 15:\n",
    "        # print((row[0], row[1]))\n",
    "        sum = 0\n",
    "        with open(f\"{row[0]}.c\", \"w\") as file:\n",
    "            file.write(row[1])\n",
    "    sum = sum + 1\n"
   ]
  },
  {
   "cell_type": "markdown",
   "metadata": {},
   "source": [
    "## Create auto-labeld data with difflib"
   ]
  },
  {
   "cell_type": "code",
   "execution_count": 1,
   "metadata": {},
   "outputs": [],
   "source": [
    "import pandas as pd\n",
    "csv_path = \"/home/erik/TU/ni/plagiate_labeltool/data/labled/PPR [SoSe22]-9. Hausaufgabe - Pflichttest C-Antworten_labled.csv\"\n",
    "csv_path2 = \"/home/erik/TU/ni/plagiate_labeltool/data/labled/PPR [SoSe22]-9. Hausaufgabe - Pflichttest C-Antworten_autolabled.csv\"\n",
    "df = pd.read_csv(csv_path, delimiter=',')\n",
    "# df.to_csv(csv_path)\n"
   ]
  },
  {
   "cell_type": "code",
   "execution_count": null,
   "metadata": {},
   "outputs": [],
   "source": [
    "import pandas as pd\n",
    "import difflib\n",
    "\n",
    "def label_csv_with_difflib(csv_path):\n",
    "    try:\n",
    "        df = pd.read_csv(csv_path, delimiter=',')\n",
    "        for i, row in enumerate(df[['code1', 'code2']].values):\n",
    "            s = difflib.SequenceMatcher(None, row[0], row[1])\n",
    "            df.loc[i, ['label']] = s.ratio()\n",
    "           \n",
    "    except:\n",
    "        return f\"Couldnt open {csv_path}\"\n"
   ]
  },
  {
   "cell_type": "code",
   "execution_count": null,
   "metadata": {},
   "outputs": [],
   "source": [
    "for row in df.nlargest(20, columns=['label'])[['Unnamed: 0', 'surname1', 'surname2', 'label', 'difflib_']].values:\n",
    "    print(f\"{row[1]}, {row[2]}, {row[3]}, {row[4]}\")\n"
   ]
  },
  {
   "cell_type": "code",
   "execution_count": null,
   "metadata": {},
   "outputs": [],
   "source": [
    "import numpy as np\n",
    "\n",
    "for row in df.nlargest(20, columns=['label'])[['Unnamed: 0', 'surname1', 'surname2', 'label']].values:\n",
    "    print(f\"{row[1]}, {row[2]}, {row[3]}, {np.abs(df.loc[(df['surname1']==row[2]) & (df['surname2']==row[1])]['label'].values[0] - row[3])}\")\n"
   ]
  },
  {
   "cell_type": "markdown",
   "metadata": {},
   "source": [
    "## Create auto-labeld data with Levenshtein"
   ]
  },
  {
   "cell_type": "code",
   "execution_count": 12,
   "metadata": {},
   "outputs": [],
   "source": [
    "from Levenshtein import distance\n",
    "from sklearn.manifold import MDS\n",
    "\n",
    "def distance_percentage(string1, string2):\n",
    "    return distance(string1, string2) / np.max([len(string1), len(string2)])\n",
    "\n",
    "\n",
    "def get_similarity(string1, string2):\n",
    "\n",
    "\n",
    "    distance1 = distance_percentage(string1, string2)\n",
    "\n",
    "    string1_p = string1\n",
    "    string1 = string1.split()\n",
    "    string1_w = \"\".join(string1)\n",
    "    string1_s = \"\".join(sorted(string1_w))\n",
    "\n",
    "    string2_p = string2\n",
    "    string2 = string2.split()\n",
    "    string2_w = \"\".join(string2)\n",
    "    string2_s = \"\".join(sorted(string2_w))\n",
    "\n",
    "    distance2 = distance_percentage(string1_w, string2_w)\n",
    "    distance3 = distance_percentage(string1_s, string2_s)\n",
    "\n",
    "\n",
    "    return 1 - distance2#, 1 - distance3\n"
   ]
  },
  {
   "cell_type": "code",
   "execution_count": 13,
   "metadata": {},
   "outputs": [],
   "source": [
    "for i, row in enumerate(df[['code1', 'code2']].values):\n",
    "    label = get_similarity(row[0], row[1])\n",
    "    # if label >= 0.6:\n",
    "    #     label = np.round(label)\n",
    "    # elif label <= 0.35:\n",
    "    #     label = np.floor(label)\n",
    "    df.loc[i, ['Levenshtein2']] = label\n",
    "# df.to_csv(csv_path2)\n"
   ]
  },
  {
   "cell_type": "code",
   "execution_count": null,
   "metadata": {},
   "outputs": [],
   "source": [
    "df_labled = pd.DataFrame(columns=['semester', 'ha', 'task', 'prog_lang',\n",
    "                            'surname1', 'lastname1', 'surname2', 'lastname2', 'code1', 'code2', 'label'])\n",
    "df_labled.index.name = 'index'\n",
    "for task in tasks:\n",
    "    for i, ln1, sn1, code1 in enumerate(df.loc[df[f'{task} empty'] == 0][['Nachname', 'Vorname', task]].values):\n",
    "        for ln2, sn2, code2 in df.loc[(df[f'{task} empty'] == 0) & (df[task] != code1) & ()][['Nachname', 'Vorname', task]][i:].values:\n",
    "            df_labled.loc[len(df_labled)] = [\n",
    "                semester, ha, task, prog_language, sn1, ln1, sn2, ln2, code1, code2, -1]\n"
   ]
  },
  {
   "cell_type": "code",
   "execution_count": 19,
   "metadata": {},
   "outputs": [
    {
     "name": "stdout",
     "output_type": "stream",
     "text": [
      "(0, 0)\n",
      "(1, 1)\n",
      "(2, 2)\n"
     ]
    },
    {
     "data": {
      "text/html": [
       "<div>\n",
       "<style scoped>\n",
       "    .dataframe tbody tr th:only-of-type {\n",
       "        vertical-align: middle;\n",
       "    }\n",
       "\n",
       "    .dataframe tbody tr th {\n",
       "        vertical-align: top;\n",
       "    }\n",
       "\n",
       "    .dataframe thead th {\n",
       "        text-align: right;\n",
       "    }\n",
       "</style>\n",
       "<table border=\"1\" class=\"dataframe\">\n",
       "  <thead>\n",
       "    <tr style=\"text-align: right;\">\n",
       "      <th></th>\n",
       "      <th>Unnamed: 0</th>\n",
       "      <th>semester</th>\n",
       "      <th>ha</th>\n",
       "      <th>task</th>\n",
       "      <th>prog_lang</th>\n",
       "      <th>surname1</th>\n",
       "      <th>lastname1</th>\n",
       "      <th>surname2</th>\n",
       "      <th>lastname2</th>\n",
       "      <th>code1</th>\n",
       "      <th>code2</th>\n",
       "      <th>label</th>\n",
       "      <th>Levenshtein</th>\n",
       "      <th>Levenshtein2</th>\n",
       "    </tr>\n",
       "  </thead>\n",
       "  <tbody>\n",
       "    <tr>\n",
       "      <th>0</th>\n",
       "      <td>0</td>\n",
       "      <td>SoSe22</td>\n",
       "      <td>9</td>\n",
       "      <td>Antwort 9</td>\n",
       "      <td>C</td>\n",
       "      <td>Fabian</td>\n",
       "      <td>Große-Wöhrmann</td>\n",
       "      <td>Moritz Sebastian</td>\n",
       "      <td>Niethammer</td>\n",
       "      <td>#include &lt;stdio.h&gt;\\r\\n#include &lt;stdlib.h&gt;\\r\\n ...</td>\n",
       "      <td>#include &lt;stdio.h&gt;\\r\\n#include &lt;stdlib.h&gt;\\r\\n\\...</td>\n",
       "      <td>0.521108</td>\n",
       "      <td>0.673325</td>\n",
       "      <td>0.761993</td>\n",
       "    </tr>\n",
       "    <tr>\n",
       "      <th>1</th>\n",
       "      <td>1</td>\n",
       "      <td>SoSe22</td>\n",
       "      <td>9</td>\n",
       "      <td>Antwort 9</td>\n",
       "      <td>C</td>\n",
       "      <td>Fabian</td>\n",
       "      <td>Große-Wöhrmann</td>\n",
       "      <td>Florian</td>\n",
       "      <td>Schacht</td>\n",
       "      <td>#include &lt;stdio.h&gt;\\r\\n#include &lt;stdlib.h&gt;\\r\\n ...</td>\n",
       "      <td>//gcc -x c HA09_F09.c -o HA09_F09 -Wall -Wextr...</td>\n",
       "      <td>0.051832</td>\n",
       "      <td>0.157407</td>\n",
       "      <td>0.156506</td>\n",
       "    </tr>\n",
       "  </tbody>\n",
       "</table>\n",
       "</div>"
      ],
      "text/plain": [
       "   Unnamed: 0 semester  ha       task prog_lang surname1       lastname1  \\\n",
       "0           0   SoSe22   9  Antwort 9         C   Fabian  Große-Wöhrmann   \n",
       "1           1   SoSe22   9  Antwort 9         C   Fabian  Große-Wöhrmann   \n",
       "\n",
       "           surname2   lastname2  \\\n",
       "0  Moritz Sebastian  Niethammer   \n",
       "1           Florian     Schacht   \n",
       "\n",
       "                                               code1  \\\n",
       "0  #include <stdio.h>\\r\\n#include <stdlib.h>\\r\\n ...   \n",
       "1  #include <stdio.h>\\r\\n#include <stdlib.h>\\r\\n ...   \n",
       "\n",
       "                                               code2     label  Levenshtein  \\\n",
       "0  #include <stdio.h>\\r\\n#include <stdlib.h>\\r\\n\\...  0.521108     0.673325   \n",
       "1  //gcc -x c HA09_F09.c -o HA09_F09 -Wall -Wextr...  0.051832     0.157407   \n",
       "\n",
       "   Levenshtein2  \n",
       "0      0.761993  \n",
       "1      0.156506  "
      ]
     },
     "execution_count": 19,
     "metadata": {},
     "output_type": "execute_result"
    }
   ],
   "source": [
    "for i,j in enumerate(range(0,3)):\n",
    "    print((i,j))\n",
    "df[0:2]"
   ]
  },
  {
   "cell_type": "markdown",
   "metadata": {},
   "source": [
    "## Postprocess csv file"
   ]
  },
  {
   "cell_type": "markdown",
   "metadata": {},
   "source": [
    "### Delete rows consist of a pair with answerpreload from another task"
   ]
  },
  {
   "cell_type": "code",
   "execution_count": 39,
   "metadata": {},
   "outputs": [
    {
     "data": {
      "text/html": [
       "<div>\n",
       "<style scoped>\n",
       "    .dataframe tbody tr th:only-of-type {\n",
       "        vertical-align: middle;\n",
       "    }\n",
       "\n",
       "    .dataframe tbody tr th {\n",
       "        vertical-align: top;\n",
       "    }\n",
       "\n",
       "    .dataframe thead th {\n",
       "        text-align: right;\n",
       "    }\n",
       "</style>\n",
       "<table border=\"1\" class=\"dataframe\">\n",
       "  <thead>\n",
       "    <tr style=\"text-align: right;\">\n",
       "      <th></th>\n",
       "      <th>semester</th>\n",
       "      <th>ha</th>\n",
       "      <th>task</th>\n",
       "      <th>prog_lang</th>\n",
       "      <th>surname1</th>\n",
       "      <th>lastname1</th>\n",
       "      <th>surname2</th>\n",
       "      <th>lastname2</th>\n",
       "      <th>code1</th>\n",
       "      <th>code2</th>\n",
       "      <th>label</th>\n",
       "      <th>hand_labled</th>\n",
       "    </tr>\n",
       "  </thead>\n",
       "  <tbody>\n",
       "    <tr>\n",
       "      <th>0</th>\n",
       "      <td>WS2021</td>\n",
       "      <td>9</td>\n",
       "      <td>Antwort 10</td>\n",
       "      <td>C</td>\n",
       "      <td>Jolanda Marietta</td>\n",
       "      <td>Schumann</td>\n",
       "      <td>David</td>\n",
       "      <td>Stubler</td>\n",
       "      <td>#include &lt;stdio.h&gt;\\r\\n\\r\\nvoid aussortieren (c...</td>\n",
       "      <td>#include &lt;stdio.h&gt;\\r\\n#include &lt;stdlib.h&gt;\\r\\n\\...</td>\n",
       "      <td>0.0</td>\n",
       "      <td>1</td>\n",
       "    </tr>\n",
       "    <tr>\n",
       "      <th>1</th>\n",
       "      <td>WS2021</td>\n",
       "      <td>9</td>\n",
       "      <td>Antwort 10</td>\n",
       "      <td>C</td>\n",
       "      <td>Jolanda Marietta</td>\n",
       "      <td>Schumann</td>\n",
       "      <td>Daniel Dominik</td>\n",
       "      <td>Eichstädt</td>\n",
       "      <td>#include &lt;stdio.h&gt;\\r\\n\\r\\nvoid aussortieren (c...</td>\n",
       "      <td>#include &lt;stdio.h&gt;\\r\\n\\r\\nchar aussortieren (c...</td>\n",
       "      <td>0.0</td>\n",
       "      <td>1</td>\n",
       "    </tr>\n",
       "    <tr>\n",
       "      <th>2</th>\n",
       "      <td>WS2021</td>\n",
       "      <td>9</td>\n",
       "      <td>Antwort 10</td>\n",
       "      <td>C</td>\n",
       "      <td>Jolanda Marietta</td>\n",
       "      <td>Schumann</td>\n",
       "      <td>Mohamad Anas</td>\n",
       "      <td>Allaham</td>\n",
       "      <td>#include &lt;stdio.h&gt;\\r\\n\\r\\nvoid aussortieren (c...</td>\n",
       "      <td>#include &lt;stdio.h&gt;\\r\\n#include &lt;stdlib.h&gt;\\r\\n\\...</td>\n",
       "      <td>0.0</td>\n",
       "      <td>1</td>\n",
       "    </tr>\n",
       "    <tr>\n",
       "      <th>3</th>\n",
       "      <td>WS2021</td>\n",
       "      <td>9</td>\n",
       "      <td>Antwort 10</td>\n",
       "      <td>C</td>\n",
       "      <td>Jolanda Marietta</td>\n",
       "      <td>Schumann</td>\n",
       "      <td>Moritz</td>\n",
       "      <td>Wahl</td>\n",
       "      <td>#include &lt;stdio.h&gt;\\r\\n\\r\\nvoid aussortieren (c...</td>\n",
       "      <td>#include &lt;stdio.h&gt;\\r\\n#include &lt;stdlib.h&gt;\\r\\n ...</td>\n",
       "      <td>0.0</td>\n",
       "      <td>1</td>\n",
       "    </tr>\n",
       "  </tbody>\n",
       "</table>\n",
       "</div>"
      ],
      "text/plain": [
       "  semester  ha        task prog_lang          surname1 lastname1  \\\n",
       "0   WS2021   9  Antwort 10         C  Jolanda Marietta  Schumann   \n",
       "1   WS2021   9  Antwort 10         C  Jolanda Marietta  Schumann   \n",
       "2   WS2021   9  Antwort 10         C  Jolanda Marietta  Schumann   \n",
       "3   WS2021   9  Antwort 10         C  Jolanda Marietta  Schumann   \n",
       "\n",
       "         surname2  lastname2  \\\n",
       "0           David    Stubler   \n",
       "1  Daniel Dominik  Eichstädt   \n",
       "2    Mohamad Anas    Allaham   \n",
       "3          Moritz       Wahl   \n",
       "\n",
       "                                               code1  \\\n",
       "0  #include <stdio.h>\\r\\n\\r\\nvoid aussortieren (c...   \n",
       "1  #include <stdio.h>\\r\\n\\r\\nvoid aussortieren (c...   \n",
       "2  #include <stdio.h>\\r\\n\\r\\nvoid aussortieren (c...   \n",
       "3  #include <stdio.h>\\r\\n\\r\\nvoid aussortieren (c...   \n",
       "\n",
       "                                               code2  label  hand_labled  \n",
       "0  #include <stdio.h>\\r\\n#include <stdlib.h>\\r\\n\\...    0.0            1  \n",
       "1  #include <stdio.h>\\r\\n\\r\\nchar aussortieren (c...    0.0            1  \n",
       "2  #include <stdio.h>\\r\\n#include <stdlib.h>\\r\\n\\...    0.0            1  \n",
       "3  #include <stdio.h>\\r\\n#include <stdlib.h>\\r\\n ...    0.0            1  "
      ]
     },
     "execution_count": 39,
     "metadata": {},
     "output_type": "execute_result"
    }
   ],
   "source": [
    "import pandas as pd\n",
    "csv_path = f'../../data/labled/PPR [WS2021]-9. Hausaufgabe - Pflichttest C-Antworten_labled.csv'\n",
    "df = pd.read_csv(csv_path, delimiter=',')\n",
    "df = df.drop('Unnamed: 0', axis=1)\n",
    "df.head(4)\n"
   ]
  },
  {
   "cell_type": "code",
   "execution_count": null,
   "metadata": {},
   "outputs": [],
   "source": [
    "semester='WS2021'\n",
    "ha='9'\n",
    "prog_language='C'\n",
    "task='Antwort 9'\n",
    "answerpreload, _ = get_given_code(\n",
    "            f'../../data/code_templates/PPR [{semester}]-{ha}. Hausaufgabe - Pflichttest {prog_language}-Antworten_{task}.xml')\n",
    "print(answerpreload)"
   ]
  },
  {
   "cell_type": "code",
   "execution_count": 34,
   "metadata": {},
   "outputs": [],
   "source": [
    "\n",
    "def compare_with_given_code(student_code, semester, ha, task, prog_language):\n",
    "    # answerpreload = get_given_code(f'../../data/code_templates/PPR [{semester}]-{ha}. Hausaufgabe - Pflichttest {prog_language}-Antworten_{task}.xml')\n",
    "    answerpreload, _ = get_given_code(\n",
    "        f'../../data/code_templates/PPR [{semester}]-{ha}. Hausaufgabe - Pflichttest {prog_language}-Antworten_{task}.xml')\n",
    "    answerpreload = answerpreload.replace(\n",
    "        '\\t', '').replace('\\r', '').replace('\\n', '')\n",
    "    # every special character beetween \\Q and \\E is ignored, but the inserted \\S*; answers shouldnt contain \\Q and \\E!\n",
    "    answerpreload = re.escape(answerpreload)\n",
    "    # {{ cr_random.f1 }} --> \\S*\n",
    "    answerpreload = re.sub(\n",
    "        r\"\\\\{\\\\{\\\\\\s*\\S+\\s*\\\\}\\\\}\", r\"\\\\S*\", answerpreload)\n",
    "    # there are \\\\n in the student solutions because \"...\\n\" --> \"...\\\\n\" while read_csv\n",
    "    student_code = student_code.replace('\\t', '').replace(\n",
    "        '\\r', '').replace('\\n', '').replace('\\\\n', r'\\n')\n",
    "    # test if template was given or not\n",
    "    if answerpreload != '':\n",
    "        result = re.match(answerpreload, student_code)\n",
    "    return result != None\n"
   ]
  },
  {
   "cell_type": "code",
   "execution_count": null,
   "metadata": {},
   "outputs": [],
   "source": []
  },
  {
   "cell_type": "code",
   "execution_count": 62,
   "metadata": {},
   "outputs": [],
   "source": [
    "# summe=0\n",
    "# for i, (code1, code2) in enumerate(df[['code1','code2']].values):\n",
    "#     compare1 = compare_with_given_code(code1,ha=ha,prog_language=prog_language,semester=semester,task=task)\n",
    "#     compare2 = compare_with_given_code(code2,ha=ha,prog_language=prog_language,semester=semester,task=task)\n",
    "#     # print((i, lastname1, lastname2, compare1, compare2))\n",
    "#     if compare1 or compare2:\n",
    "#         df = df.drop(i)\n",
    "#         summe+=1\n",
    "# print(summe)\n",
    "df.to_csv(f'/home/erik/TU/ni/plagiate_labeltool/data/labled/PPR [WS2021]-9. Hausaufgabe - Pflichttest C-Antworten_labled_2.csv')\n"
   ]
  },
  {
   "cell_type": "markdown",
   "metadata": {},
   "source": [
    "## Obfuscating the Student Source Code to create plagiarism pairs"
   ]
  },
  {
   "cell_type": "code",
   "execution_count": 24,
   "metadata": {},
   "outputs": [
    {
     "name": "stdout",
     "output_type": "stream",
     "text": [
      "18\n",
      "8.0\n"
     ]
    }
   ],
   "source": [
    "from obfuscator import comment_remover, variable_renamer\n",
    "import pandas as pd\n",
    "\n",
    "def create_plagiate_table(df, semester, ha, task, prog_language, number_labled_pairs, path):\n",
    "    df_labled = pd.DataFrame(columns=['semester', 'ha', 'task', 'prog_lang',\n",
    "                                    'surname1', 'lastname1', 'code1', 'code2', 'label'])\n",
    "\n",
    "    df = add_valid_code_columns(df, semester, ha, [task], prog_language)\n",
    "    number_of_valid_codes = len(df.loc[df[f'{task} empty'] == 0])\n",
    "    print(number_of_valid_codes)\n",
    "    plagiate_per_solution = np.floor(number_labled_pairs/number_of_valid_codes)\n",
    "    print(plagiate_per_solution)\n",
    "    # for ln1, sn1, code1 in df.loc[df[f'{task} empty'] == 0][['Nachname', 'Vorname', task]].values:\n",
    "    for ln, sn, code in df.loc[df[f'{task} empty'] == 0][['Nachname', 'Vorname', task]].values:\n",
    "        for i in range(int(plagiate_per_solution)):\n",
    "            plagiate_code = comment_remover(code)\n",
    "            plagiate_code = variable_renamer(plagiate_code)\n",
    "            df_labled.loc[len(df_labled)] = [\n",
    "                semester, ha, task, prog_language, sn, ln, code, plagiate_code, 1]\n",
    "    df_labled.to_csv(path)\n",
    "    return df_labled\n",
    "\n",
    "def create_plagiate_table_routine(df, semester, ha, task, prog_language):\n",
    "    csv_path = f'../../data/raw_data/PPR [{semester}]-{ha}. Hausaufgabe - Pflichttest {prog_language}-Antworten.csv'\n",
    "    csv_path1 = f'../../data/labled/PPR [{semester}]-{ha}. Hausaufgabe - Pflichttest {prog_language}-Antworten_labled.csv'\n",
    "    csv_path2 = f'../../data/labled/PPR [{semester}]-{ha}. Hausaufgabe - Pflichttest {prog_language}-Antworten_plagiate.csv'\n",
    "    df = pd.read_csv(csv_path, delimiter=',')\n",
    "    number_labled_pairs = len(pd.read_csv(csv_path1, delimiter=','))\n",
    "    df_labled = create_plagiate_table(df, semester, ha, task, prog_language, number_labled_pairs, csv_path2)\n",
    "    return df_labled\n",
    "\n",
    "semester='SoSe21'\n",
    "ha='9'\n",
    "prog_language='C'\n",
    "task='Antwort 9'\n",
    "df_labled = create_plagiate_table_routine(df, semester, ha, task, prog_language)\n",
    "\n"
   ]
  },
  {
   "cell_type": "code",
   "execution_count": 17,
   "metadata": {},
   "outputs": [
    {
     "name": "stdout",
     "output_type": "stream",
     "text": [
      "18\n",
      "8.0\n"
     ]
    }
   ],
   "source": [
    "import numpy as np\n",
    "from obfuscator import comment_remover, variable_renamer\n",
    "\n",
    "df_labled = pd.DataFrame(columns=['semester', 'ha', 'task', 'prog_lang',\n",
    "                                  'surname1', 'lastname1', 'code1', 'code2', 'label'])\n",
    "\n",
    "number_of_valid_codes = len(df.loc[df[f'{task} empty'] == 0])\n",
    "print(number_of_valid_codes)\n",
    "df = add_valid_code_columns(df, semester, ha, [task], prog_language)\n",
    "plagiate_per_solution = np.floor(number_labled_pairs/number_of_valid_codes)\n",
    "print(plagiate_per_solution)\n",
    "# for ln1, sn1, code1 in df.loc[df[f'{task} empty'] == 0][['Nachname', 'Vorname', task]].values:\n",
    "for ln, sn, code in df.loc[df[f'{task} empty'] == 0][['Nachname', 'Vorname', task]].values:\n",
    "    for i in range(int(plagiate_per_solution)):\n",
    "        plagiate_code = comment_remover(code)\n",
    "        plagiate_code = variable_renamer(plagiate_code)\n",
    "        df_labled.loc[len(df_labled)] = [\n",
    "            semester, ha, task, prog_language, sn, ln, code, plagiate_code, 1]\n"
   ]
  }
 ],
 "metadata": {
  "kernelspec": {
   "display_name": "Python 3.10.6 ('plagiate_labeltool')",
   "language": "python",
   "name": "python3"
  },
  "language_info": {
   "codemirror_mode": {
    "name": "ipython",
    "version": 3
   },
   "file_extension": ".py",
   "mimetype": "text/x-python",
   "name": "python",
   "nbconvert_exporter": "python",
   "pygments_lexer": "ipython3",
   "version": "3.10.6"
  },
  "orig_nbformat": 4,
  "vscode": {
   "interpreter": {
    "hash": "52ee3fcfbad6aff74590b14df8fd5db370a1d020922df027f0e2da9df00e71e5"
   }
  }
 },
 "nbformat": 4,
 "nbformat_minor": 2
}
