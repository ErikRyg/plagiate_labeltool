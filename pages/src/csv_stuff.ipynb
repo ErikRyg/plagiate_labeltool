{
 "cells": [
  {
   "cell_type": "markdown",
   "metadata": {},
   "source": [
    "# Jupiter Notebook to test csv_stuff.py"
   ]
  },
  {
   "cell_type": "code",
   "execution_count": 15,
   "metadata": {},
   "outputs": [],
   "source": [
    "from operator import ne\n",
    "import pandas as pd\n",
    "import sys\n",
    "import re\n",
    "import random\n",
    "from bs4 import BeautifulSoup\n",
    "import argparse\n",
    "import matplotlib.pyplot as plt\n",
    "\n",
    "# df_labled = []\n",
    "\n",
    "\n",
    "def create_labled_table_routine(semester, ha, tasks, prog_language, labled_csv=None):\n",
    "    csv_path = f'../../data/raw_data/PPR [{semester}]-{ha}. Hausaufgabe - Pflichttest {prog_language}-Antworten.csv'\n",
    "    df = pd.read_csv(csv_path, delimiter=',')\n",
    "    keep_columns = ['Nachname', 'Vorname'] + tasks\n",
    "    drop_columns = []\n",
    "    for x in df.columns:\n",
    "        if x not in keep_columns:\n",
    "            drop_columns.append(x)\n",
    "    df = df.drop(drop_columns, axis=1)\n",
    "    df = add_valid_code_columns(df=df, semester=semester, ha=ha, tasks=tasks, prog_language=prog_language)\n",
    "    df_labled = create_labled_table(df, semester, ha, tasks, prog_language)\n",
    "    return df_labled, len(df_labled.index)\n",
    "\n",
    "\n",
    "def create_labled_table(df, semester, ha, tasks, prog_language):\n",
    "    df_labled = pd.DataFrame(columns=['id', 'semester', 'ha', 'task', 'prog_lang', 'surname1', 'lastname1', 'surname2', 'lastname2', 'code1', 'code2', 'label'])\n",
    "    i = 0\n",
    "    for task in tasks:\n",
    "        for i, ln1, sn1, code1 in enumerate(df.loc[df[f'{task} empty'] == 0][['Nachname', 'Vorname', task]].values):\n",
    "            for ln2, sn2, code2 in df.loc[(df[f'{task} empty'] == 0) & (df[task] != code1) & ()][['Nachname', 'Vorname', task]][i:].values:\n",
    "                df_labled.loc[len(df_labled)] = [i, semester, ha, task, prog_language, sn1, ln1, sn2, ln2, code1, code2, -1]\n",
    "                i += 1\n",
    "    return df_labled\n",
    "\n",
    "\n",
    "\n",
    "\"\"\"\n",
    "(empty- or template solution) == 1\n",
    "\"\"\"\n",
    "def add_valid_code_columns(df, semester, ha, tasks, prog_language):\n",
    "    for task in tasks:\n",
    "        answerpreload = get_given_code(f'../../data/code_templates/PPR [{semester}]-{ha}. Hausaufgabe - Pflichttest {prog_language}-Antworten_{task}.xml')\n",
    "        answerpreload = answerpreload.replace('\\t', '').replace('\\r', '').replace('\\n', '')\n",
    "        #every special character beetween \\Q and \\E is ignored, but the inserted \\S*; answers shouldnt contain \\Q and \\E!\n",
    "        answerpreload = re.escape(answerpreload)\n",
    "        #{{ cr_random.f1 }} --> \\S*\n",
    "        answerpreload = re.sub(r\"\\\\{\\\\{\\\\\\s*\\S+\\s*\\\\}\\\\}\", r\"\\\\S*\", answerpreload)\n",
    "        summe=0\n",
    "        result = 0\n",
    "        df[f\"{task} empty\"] = 0\n",
    "        #TODO wie vergleicht man leicht unterschiedliche texte auf Gleichheit miteinander??? -> bisher nur direkte gleichheit\n",
    "        for j,column in enumerate(df[task]):\n",
    "            #there are \\\\n in the student solutions because \"...\\n\" --> \"...\\\\n\" while read_csv\n",
    "            column = column.replace('\\t', '').replace('\\r', '').replace('\\n', '').replace('\\\\n', r'\\n')\n",
    "            # test if template was given or not\n",
    "            if answerpreload != '':\n",
    "                result = re.match(answerpreload, column)\n",
    "            if column == '-' or result:\n",
    "                df.loc[j, f\"{task} empty\"] = 1\n",
    "                summe+=1\n",
    "        print(summe)\n",
    "    return df\n",
    "\n",
    "\n",
    "def get_given_code(file):\n",
    "    with open(file) as xmlstr:\n",
    "        soup = BeautifulSoup(xmlstr, 'xml')\n",
    "        answerpreload = soup.find('answerpreload').text\n",
    "        return answerpreload\n",
    "\n",
    "\n",
    "def get_new_pair(df_labled):\n",
    "    next = df_labled.loc[df_labled['label']==1,['surname1', 'surname2', 'code1', 'code2']]\n",
    "    if not next.empty:\n",
    "        next = next.values[0]\n",
    "        return next[0], next[1], next[2], next[3]\n",
    "    print('no unlabled pair')\n",
    "    return None\n",
    "\n",
    "\n",
    "\n",
    "#TODO 1. erfolgreichen match hinbekommen        *check*\n",
    "#TODO 2. empty_solution_matrix richtig setzen   *check*\n",
    "#TODO 3. dann daraus ein paar ableiten          *check*\n",
    "#TODO 4. dann daraus eine tabellenreihe für ...labled.csv machen *check*\n",
    "#TODO 5. dann eine ganze tabelle draus machen   *check*\n",
    "#TODO 6. wo wird tabelle zwischengespeichert?\n",
    "#TODO 7.1 funktion schreiben die die erste Routine macht mit #aller paar und #aller bereits gelableten und die 3 texte ausgibt\n",
    "#TODO 7. funktion schreiben, die ein lable übergeben bekommt, in tabelle einträgt und ein neues paar zurückgibt (ggf. auch neue vorgabe)\n",
    "#TODO gibt es ein Download fenster?\n",
    "#TODO checken weshalb nur 12/13 leere abgaben bei antwort 10 gefunden wurden\n",
    "#TODO beim überspringen erstmal mit -1 lablen?; double linked list, für die id schreiben, um prev und next button zu realisieren\n"
   ]
  },
  {
   "cell_type": "code",
   "execution_count": 16,
   "metadata": {},
   "outputs": [
    {
     "name": "stdout",
     "output_type": "stream",
     "text": [
      "4\n",
      "13\n",
      "12\n"
     ]
    },
    {
     "ename": "ValueError",
     "evalue": "not enough values to unpack (expected 4, got 2)",
     "output_type": "error",
     "traceback": [
      "\u001b[0;31m---------------------------------------------------------------------------\u001b[0m",
      "\u001b[0;31mValueError\u001b[0m                                Traceback (most recent call last)",
      "Cell \u001b[0;32mIn [16], line 6\u001b[0m\n\u001b[1;32m      4\u001b[0m tasks \u001b[38;5;241m=\u001b[39m [\u001b[38;5;124m'\u001b[39m\u001b[38;5;124mAntwort 8\u001b[39m\u001b[38;5;124m'\u001b[39m, \u001b[38;5;124m'\u001b[39m\u001b[38;5;124mAntwort 9\u001b[39m\u001b[38;5;124m'\u001b[39m, \u001b[38;5;124m'\u001b[39m\u001b[38;5;124mAntwort 10\u001b[39m\u001b[38;5;124m'\u001b[39m]\n\u001b[1;32m      5\u001b[0m prog_language\u001b[38;5;241m=\u001b[39m\u001b[38;5;124m'\u001b[39m\u001b[38;5;124mC\u001b[39m\u001b[38;5;124m'\u001b[39m\n\u001b[0;32m----> 6\u001b[0m df_labled, count \u001b[38;5;241m=\u001b[39m create_labled_table_routine(semester\u001b[38;5;241m=\u001b[39msemester, ha\u001b[38;5;241m=\u001b[39mha, tasks\u001b[38;5;241m=\u001b[39mtasks, prog_language\u001b[38;5;241m=\u001b[39mprog_language)\n",
      "Cell \u001b[0;32mIn [15], line 23\u001b[0m, in \u001b[0;36mcreate_labled_table_routine\u001b[0;34m(semester, ha, tasks, prog_language, labled_csv)\u001b[0m\n\u001b[1;32m     21\u001b[0m df \u001b[38;5;241m=\u001b[39m df\u001b[38;5;241m.\u001b[39mdrop(drop_columns, axis\u001b[38;5;241m=\u001b[39m\u001b[38;5;241m1\u001b[39m)\n\u001b[1;32m     22\u001b[0m df \u001b[38;5;241m=\u001b[39m add_valid_code_columns(df\u001b[38;5;241m=\u001b[39mdf, semester\u001b[38;5;241m=\u001b[39msemester, ha\u001b[38;5;241m=\u001b[39mha, tasks\u001b[38;5;241m=\u001b[39mtasks, prog_language\u001b[38;5;241m=\u001b[39mprog_language)\n\u001b[0;32m---> 23\u001b[0m df_labled \u001b[38;5;241m=\u001b[39m \u001b[43mcreate_labled_table\u001b[49m\u001b[43m(\u001b[49m\u001b[43mdf\u001b[49m\u001b[43m,\u001b[49m\u001b[43m \u001b[49m\u001b[43msemester\u001b[49m\u001b[43m,\u001b[49m\u001b[43m \u001b[49m\u001b[43mha\u001b[49m\u001b[43m,\u001b[49m\u001b[43m \u001b[49m\u001b[43mtasks\u001b[49m\u001b[43m,\u001b[49m\u001b[43m \u001b[49m\u001b[43mprog_language\u001b[49m\u001b[43m)\u001b[49m\n\u001b[1;32m     24\u001b[0m \u001b[38;5;28;01mreturn\u001b[39;00m df_labled, \u001b[38;5;28mlen\u001b[39m(df_labled\u001b[38;5;241m.\u001b[39mindex)\n",
      "Cell \u001b[0;32mIn [15], line 31\u001b[0m, in \u001b[0;36mcreate_labled_table\u001b[0;34m(df, semester, ha, tasks, prog_language)\u001b[0m\n\u001b[1;32m     29\u001b[0m i \u001b[38;5;241m=\u001b[39m \u001b[38;5;241m0\u001b[39m\n\u001b[1;32m     30\u001b[0m \u001b[38;5;28;01mfor\u001b[39;00m task \u001b[38;5;129;01min\u001b[39;00m tasks:\n\u001b[0;32m---> 31\u001b[0m     \u001b[38;5;28;01mfor\u001b[39;00m i, ln1, sn1, code1 \u001b[38;5;129;01min\u001b[39;00m \u001b[38;5;28menumerate\u001b[39m(df\u001b[38;5;241m.\u001b[39mloc[df[\u001b[38;5;124mf\u001b[39m\u001b[38;5;124m'\u001b[39m\u001b[38;5;132;01m{\u001b[39;00mtask\u001b[38;5;132;01m}\u001b[39;00m\u001b[38;5;124m empty\u001b[39m\u001b[38;5;124m'\u001b[39m] \u001b[38;5;241m==\u001b[39m \u001b[38;5;241m0\u001b[39m][[\u001b[38;5;124m'\u001b[39m\u001b[38;5;124mNachname\u001b[39m\u001b[38;5;124m'\u001b[39m, \u001b[38;5;124m'\u001b[39m\u001b[38;5;124mVorname\u001b[39m\u001b[38;5;124m'\u001b[39m, task]]\u001b[38;5;241m.\u001b[39mvalues):\n\u001b[1;32m     32\u001b[0m         \u001b[38;5;28;01mfor\u001b[39;00m ln2, sn2, code2 \u001b[38;5;129;01min\u001b[39;00m df\u001b[38;5;241m.\u001b[39mloc[(df[\u001b[38;5;124mf\u001b[39m\u001b[38;5;124m'\u001b[39m\u001b[38;5;132;01m{\u001b[39;00mtask\u001b[38;5;132;01m}\u001b[39;00m\u001b[38;5;124m empty\u001b[39m\u001b[38;5;124m'\u001b[39m] \u001b[38;5;241m==\u001b[39m \u001b[38;5;241m0\u001b[39m) \u001b[38;5;241m&\u001b[39m (df[task] \u001b[38;5;241m!=\u001b[39m code1) \u001b[38;5;241m&\u001b[39m ()][[\u001b[38;5;124m'\u001b[39m\u001b[38;5;124mNachname\u001b[39m\u001b[38;5;124m'\u001b[39m, \u001b[38;5;124m'\u001b[39m\u001b[38;5;124mVorname\u001b[39m\u001b[38;5;124m'\u001b[39m, task]][i:]\u001b[38;5;241m.\u001b[39mvalues:\n\u001b[1;32m     33\u001b[0m             df_labled\u001b[38;5;241m.\u001b[39mloc[\u001b[38;5;28mlen\u001b[39m(df_labled)] \u001b[38;5;241m=\u001b[39m [i, semester, ha, task, prog_language, sn1, ln1, sn2, ln2, code1, code2, \u001b[38;5;241m-\u001b[39m\u001b[38;5;241m1\u001b[39m]\n",
      "\u001b[0;31mValueError\u001b[0m: not enough values to unpack (expected 4, got 2)"
     ]
    }
   ],
   "source": [
    "semester='SoSe21'\n",
    "ha='9'\n",
    "# tasks = ['Antwort 9']\n",
    "tasks = ['Antwort 8', 'Antwort 9', 'Antwort 10']\n",
    "prog_language='C'\n",
    "df_labled, count = create_labled_table_routine(semester=semester, ha=ha, tasks=tasks, prog_language=prog_language)\n",
    "# answerpreload = get_given_code(f'../../data/code_templates/PPR [{semester}]-{ha}. Hausaufgabe - Pflichttest {prog_language}-Antworten_{tasks[0]}.xml')"
   ]
  },
  {
   "cell_type": "code",
   "execution_count": null,
   "metadata": {},
   "outputs": [],
   "source": [
    "df_labled.index"
   ]
  },
  {
   "cell_type": "code",
   "execution_count": 25,
   "metadata": {},
   "outputs": [
    {
     "name": "stdout",
     "output_type": "stream",
     "text": [
      "-1\n",
      "        id semester ha        task prog_lang           surname1 lastname1  \\\n",
      "5        5   SoSe21  9   Antwort 8         C         Yang Felix      Wang   \n",
      "6        6   SoSe21  9   Antwort 8         C         Yang Felix      Wang   \n",
      "7        7   SoSe21  9   Antwort 8         C         Yang Felix      Wang   \n",
      "8        8   SoSe21  9   Antwort 8         C         Yang Felix      Wang   \n",
      "9        9   SoSe21  9   Antwort 8         C         Yang Felix      Wang   \n",
      "...    ...      ... ..         ...       ...                ...       ...   \n",
      "1345  1345   SoSe21  9  Antwort 10         C  Karsten Siegfried    Hansel   \n",
      "1346  1346   SoSe21  9  Antwort 10         C  Karsten Siegfried    Hansel   \n",
      "1347  1347   SoSe21  9  Antwort 10         C  Karsten Siegfried    Hansel   \n",
      "1348  1348   SoSe21  9  Antwort 10         C  Karsten Siegfried    Hansel   \n",
      "1349  1349   SoSe21  9  Antwort 10         C  Karsten Siegfried    Hansel   \n",
      "\n",
      "                   surname2       lastname2  \\\n",
      "5               Max Richard       Horneburg   \n",
      "6               Jan Hartmut         Eckardt   \n",
      "7         Florian Alexander         Bauszus   \n",
      "8            Jeremias Harry           Alexe   \n",
      "9                      Umut           Durak   \n",
      "...                     ...             ...   \n",
      "1345    Franziska Anna-Lena         Gillich   \n",
      "1346  Mattis Musashi Martin  Roßmöller-Felz   \n",
      "1347                   Leon          Schulz   \n",
      "1348           Jasko Tobias         Schwarz   \n",
      "1349          Tom Alexander         Schmidt   \n",
      "\n",
      "                                                  code1  \\\n",
      "5     #include <stdio.h>\\r\\n\\r\\nvoid factorize(long ...   \n",
      "6     #include <stdio.h>\\r\\n\\r\\nvoid factorize(long ...   \n",
      "7     #include <stdio.h>\\r\\n\\r\\nvoid factorize(long ...   \n",
      "8     #include <stdio.h>\\r\\n\\r\\nvoid factorize(long ...   \n",
      "9     #include <stdio.h>\\r\\n\\r\\nvoid factorize(long ...   \n",
      "...                                                 ...   \n",
      "1345  #include <stdio.h>\\r\\n#include <stdlib.h>\\r\\n ...   \n",
      "1346  #include <stdio.h>\\r\\n#include <stdlib.h>\\r\\n ...   \n",
      "1347  #include <stdio.h>\\r\\n#include <stdlib.h>\\r\\n ...   \n",
      "1348  #include <stdio.h>\\r\\n#include <stdlib.h>\\r\\n ...   \n",
      "1349  #include <stdio.h>\\r\\n#include <stdlib.h>\\r\\n ...   \n",
      "\n",
      "                                                  code2 label  \n",
      "5     #include <stdio.h>\\r\\n\\r\\nvoid factorize(long ...    -1  \n",
      "6     #include <stdio.h>\\r\\n\\r\\nvoid factorize(long ...    -1  \n",
      "7     #include <stdio.h>\\r\\n\\r\\nvoid factorize(long ...    -1  \n",
      "8     #include <stdio.h>\\r\\n\\r\\nvoid factorize(long ...    -1  \n",
      "9     #include <stdio.h>\\r\\n\\r\\nvoid factorize(long ...    -1  \n",
      "...                                                 ...   ...  \n",
      "1345  #include <stdio.h>\\r\\n#include <stdlib.h>\\r\\n ...    -1  \n",
      "1346  #include <stdio.h>\\r\\n#include <stdlib.h>\\r\\n ...    -1  \n",
      "1347  #include <stdio.h>\\r\\n\\r\\n#include <stdlib.h>\\...    -1  \n",
      "1348  #include <stdio.h>\\r\\n#include <stdlib.h>\\r\\n\\...    -1  \n",
      "1349  #include <stdio.h>\\r\\n#include <stdlib.h>\\r\\n ...    -1  \n",
      "\n",
      "[1345 rows x 12 columns]\n"
     ]
    }
   ],
   "source": [
    "# print(df_labled.loc[0:5])\n",
    "last_id=4\n",
    "label_score=0.76\n",
    "# try:\n",
    "already_labled = df_labled.loc[last_id]['label']\n",
    "print(already_labled)\n",
    "df_labled.loc[last_id]['label'] = label_score\n",
    "# print(df_labled)\n",
    "print(df_labled.loc[(df_labled['label']==-1) & (df_labled['id'] > last_id)])\n",
    "# print(df_labled.loc[len(df_labled.index)-1, 'label'])\n",
    "# except:\n",
    "#     print('diesen index gibt es nicht')\n"
   ]
  },
  {
   "cell_type": "markdown",
   "metadata": {},
   "source": []
  },
  {
   "cell_type": "code",
   "execution_count": 46,
   "metadata": {},
   "outputs": [
    {
     "name": "stdout",
     "output_type": "stream",
     "text": [
      "17424\n",
      "69696\n",
      "139392\n"
     ]
    }
   ],
   "source": [
    "semester='SoSe21'\n",
    "ha=['6','7','8','9','10']   #5 relevant programm homework weeks + (possible exam tasks)\n",
    "abgaben=[34,34,34,34,34]    #SoSe2021 34 student only in c\n",
    "tasks = [4, 3, 3, 3, 3]     #2-4 programm tasks per week\n",
    "summe=0\n",
    "for i,j in zip(abgaben,tasks):\n",
    "    summe += (i-1)**2*j     #with 34 comes 33 pairs per student per task per week\n",
    "print(summe)                #number of homework pairs in one semester\n",
    "print(summe*4)              #number of pairs in four semester\n",
    "print(summe*4*2)            #number of pairs in four semester in 2 programming languages\n"
   ]
  },
  {
   "cell_type": "markdown",
   "metadata": {},
   "source": [
    "## Test difflib with hand-labled data"
   ]
  },
  {
   "cell_type": "code",
   "execution_count": 2,
   "metadata": {},
   "outputs": [],
   "source": [
    "import difflib\n",
    "import sys\n",
    "from os import listdir\n",
    "from os.path import isfile, join\n",
    "import math\n",
    "\n",
    "def difflib_on_directory(path):\n",
    "    file_names = [f for f in listdir(path) if isfile(join(path, f))]\n",
    "    if len(file_names) < 2:\n",
    "        print('no files to compare')\n",
    "    file_contents = [open(f).readlines() for f in file_names]\n",
    "    num_files = len(file_names)\n",
    "    sims = []\n",
    "    for x in range(0, num_files):\n",
    "        for y in range(x+1, num_files):\n",
    "            s = difflib.SequenceMatcher(None, file_contents[x], file_contents[y])\n",
    "            ratio = s.ratio()\n",
    "            sims.append((file_names[x], file_names[y], ratio))\n",
    "\n",
    "    sorted_sims = sorted(sims, key=lambda s: -s[2])\n",
    "\n",
    "    for f1, f2, score in sorted_sims:\n",
    "        print(f1 + ',' + f2 + ',' + str(score))\n"
   ]
  },
  {
   "cell_type": "code",
   "execution_count": 3,
   "metadata": {},
   "outputs": [],
   "source": [
    "# creates c files out of csv's\n",
    "df = pd.read_csv('~/TU/ni/plagiate_labeltool/data/labled/PPR [SoSe21]-7. Hausaufgabe - Pflichttest C-Antworten_labled.csv', delimiter=',')\n",
    "sum = 0\n",
    "for row in df[['lastname1','code1']].values:\n",
    "    if sum == 15:\n",
    "        # print((row[0], row[1]))\n",
    "        sum = 0\n",
    "        with open(f\"{row[0]}.c\", \"w\") as file:\n",
    "            file.write(row[1])\n",
    "    sum = sum + 1\n"
   ]
  },
  {
   "cell_type": "code",
   "execution_count": 8,
   "metadata": {},
   "outputs": [
    {
     "name": "stdout",
     "output_type": "stream",
     "text": [
      "Hendel.c,Gillich.c,0.39473684210526316\n",
      "Horneburg.c,Bauszus.c,0.36923076923076925\n",
      "Horneburg.c,Durak.c,0.34210526315789475\n",
      "Hendel.c,Platena.c,0.3333333333333333\n",
      "Bauszus.c,Otto.c,0.31746031746031744\n",
      "Hendel.c,Gföhler.c,0.3146067415730337\n",
      "Hansel.c,Durak.c,0.2988505747126437\n",
      "Miskovic.c,Gillich.c,0.2891566265060241\n",
      "Miskovic.c,Platena.c,0.2857142857142857\n",
      "Gillich.c,Platena.c,0.27906976744186046\n",
      "Miskovic.c,Hendel.c,0.2716049382716049\n",
      "Hansel.c,Gföhler.c,0.2708333333333333\n",
      "Platena.c,Gföhler.c,0.26262626262626265\n",
      "Alfakir.c,Hendel.c,0.2571428571428571\n",
      "Durak.c,Gföhler.c,0.25263157894736843\n",
      "Gillich.c,Gföhler.c,0.24175824175824176\n",
      "Durak.c,Bauszus.c,0.24\n",
      "Durak.c,Schulz.c,0.23129251700680273\n",
      "Hansel.c,Schulz.c,0.22972972972972974\n",
      "Roßmöller-Felz.c,Jacoby.c,0.22641509433962265\n",
      "Alfakir.c,Zakusek.c,0.22535211267605634\n",
      "Hendel.c,Eckardt.c,0.22535211267605634\n",
      "Alfakir.c,Platena.c,0.225\n",
      "Hendel.c,Durak.c,0.225\n",
      "Hansel.c,Hendel.c,0.2222222222222222\n",
      "Durak.c,Platena.c,0.2222222222222222\n",
      "Hansel.c,Platena.c,0.21978021978021978\n",
      "Jacoby.c,Otto.c,0.21951219512195122\n",
      "Horneburg.c,Otto.c,0.21875\n",
      "Jacoby.c,Bauszus.c,0.21686746987951808\n",
      "Alfakir.c,Bauszus.c,0.2153846153846154\n",
      "Hendel.c,Zakusek.c,0.21333333333333335\n",
      "Jacoby.c,Durak.c,0.2127659574468085\n",
      "Horneburg.c,Alfakir.c,0.21212121212121213\n",
      "Eckardt.c,Bauszus.c,0.21212121212121213\n",
      "Alfakir.c,Gföhler.c,0.21176470588235294\n",
      "Platena.c,Zakusek.c,0.21176470588235294\n",
      "Hansel.c,Bauszus.c,0.21052631578947367\n",
      "Miskovic.c,Bauszus.c,0.21052631578947367\n",
      "Alfakir.c,Durak.c,0.21052631578947367\n",
      "Horneburg.c,Eckardt.c,0.208955223880597\n",
      "Alfakir.c,Eckardt.c,0.208955223880597\n",
      "Miskovic.c,Gföhler.c,0.20833333333333334\n",
      "Hansel.c,Alfakir.c,0.2077922077922078\n",
      "Durak.c,Eckardt.c,0.2077922077922078\n",
      "Gillich.c,Zakusek.c,0.2077922077922078\n",
      "Hendel.c,Otto.c,0.20588235294117646\n",
      "Bauszus.c,Outhwaite.c,0.20588235294117646\n",
      "Hansel.c,Eckardt.c,0.20512820512820512\n",
      "Hendel.c,Bauszus.c,0.2028985507246377\n",
      "Bauszus.c,Platena.c,0.20253164556962025\n",
      "Horneburg.c,Hendel.c,0.2\n",
      "Bauszus.c,Zakusek.c,0.2\n",
      "Miskovic.c,Zakusek.c,0.1951219512195122\n",
      "Horneburg.c,Gillich.c,0.19444444444444445\n",
      "Alfakir.c,Gillich.c,0.19444444444444445\n",
      "Horneburg.c,Jacoby.c,0.19047619047619047\n",
      "Jacoby.c,Alfakir.c,0.19047619047619047\n",
      "Hansel.c,Jacoby.c,0.18947368421052632\n",
      "Durak.c,Otto.c,0.1891891891891892\n",
      "Eckardt.c,Gföhler.c,0.18604651162790697\n",
      "Eckardt.c,Otto.c,0.18461538461538463\n",
      "Roßmöller-Felz.c,Bauszus.c,0.1839080459770115\n",
      "Hansel.c,Horneburg.c,0.18181818181818182\n",
      "Miskovic.c,Alfakir.c,0.18181818181818182\n",
      "Roßmöller-Felz.c,Alfakir.c,0.18181818181818182\n",
      "Zakusek.c,Gföhler.c,0.17777777777777778\n",
      "Horneburg.c,Platena.c,0.175\n",
      "Jacoby.c,Gföhler.c,0.17475728155339806\n",
      "Horneburg.c,Outhwaite.c,0.17391304347826086\n",
      "Alfakir.c,Outhwaite.c,0.17391304347826086\n",
      "Eckardt.c,Platena.c,0.1728395061728395\n",
      "Eckardt.c,Outhwaite.c,0.17142857142857143\n",
      "Gillich.c,Otto.c,0.17142857142857143\n",
      "Durak.c,Gillich.c,0.17073170731707318\n",
      "Horneburg.c,Zakusek.c,0.16901408450704225\n",
      "Bauszus.c,Gillich.c,0.16901408450704225\n",
      "Platena.c,Outhwaite.c,0.1686746987951807\n",
      "Bauszus.c,Gföhler.c,0.16666666666666666\n",
      "Horneburg.c,Gföhler.c,0.16470588235294117\n",
      "Jacoby.c,Eckardt.c,0.16470588235294117\n",
      "Hendel.c,Outhwaite.c,0.1643835616438356\n",
      "Outhwaite.c,Zakusek.c,0.16216216216216217\n",
      "Horneburg.c,Schulz.c,0.16058394160583941\n",
      "Hansel.c,Otto.c,0.16\n",
      "Jacoby.c,Hendel.c,0.1590909090909091\n",
      "Alfakir.c,Otto.c,0.15625\n",
      "Horneburg.c,Miskovic.c,0.15584415584415584\n",
      "Jacoby.c,Schulz.c,0.15483870967741936\n",
      "Miskovic.c,Eckardt.c,0.15384615384615385\n",
      "Durak.c,Outhwaite.c,0.1518987341772152\n",
      "Roßmöller-Felz.c,Schulz.c,0.1509433962264151\n",
      "Hansel.c,Outhwaite.c,0.15\n",
      "Miskovic.c,Outhwaite.c,0.15\n",
      "Roßmöller-Felz.c,Gföhler.c,0.14953271028037382\n",
      "Durak.c,Zakusek.c,0.14814814814814814\n",
      "Schulz.c,Otto.c,0.14814814814814814\n",
      "Hansel.c,Zakusek.c,0.14634146341463414\n",
      "Zakusek.c,Otto.c,0.14492753623188406\n",
      "Hansel.c,Gillich.c,0.14457831325301204\n",
      "Otto.c,Gföhler.c,0.14457831325301204\n",
      "Roßmöller-Felz.c,Durak.c,0.14285714285714285\n",
      "Jacoby.c,Platena.c,0.14285714285714285\n",
      "Hansel.c,Roßmöller-Felz.c,0.1414141414141414\n",
      "Roßmöller-Felz.c,Otto.c,0.13953488372093023\n",
      "Eckardt.c,Zakusek.c,0.1388888888888889\n",
      "Miskovic.c,Durak.c,0.13793103448275862\n",
      "Jacoby.c,Outhwaite.c,0.13793103448275862\n",
      "Eckardt.c,Gillich.c,0.136986301369863\n",
      "Hansel.c,Miskovic.c,0.13636363636363635\n",
      "Horneburg.c,Roßmöller-Felz.c,0.13636363636363635\n",
      "Outhwaite.c,Gföhler.c,0.13636363636363635\n",
      "Roßmöller-Felz.c,Eckardt.c,0.1348314606741573\n",
      "Jacoby.c,Zakusek.c,0.1348314606741573\n",
      "Miskovic.c,Otto.c,0.13333333333333333\n",
      "Jacoby.c,Gillich.c,0.13333333333333333\n",
      "Gillich.c,Outhwaite.c,0.13333333333333333\n",
      "Bauszus.c,Schulz.c,0.1323529411764706\n",
      "Alfakir.c,Schulz.c,0.13138686131386862\n",
      "Roßmöller-Felz.c,Hendel.c,0.13043478260869565\n",
      "Roßmöller-Felz.c,Zakusek.c,0.12903225806451613\n",
      "Schulz.c,Gföhler.c,0.1282051282051282\n",
      "Platena.c,Otto.c,0.1282051282051282\n",
      "Roßmöller-Felz.c,Gillich.c,0.1276595744680851\n",
      "Miskovic.c,Jacoby.c,0.12631578947368421\n",
      "Miskovic.c,Roßmöller-Felz.c,0.12121212121212122\n",
      "Outhwaite.c,Otto.c,0.11940298507462686\n",
      "Schulz.c,Platena.c,0.11920529801324503\n",
      "Roßmöller-Felz.c,Platena.c,0.11764705882352941\n",
      "Hendel.c,Schulz.c,0.11347517730496454\n",
      "Roßmöller-Felz.c,Outhwaite.c,0.10989010989010989\n",
      "Eckardt.c,Schulz.c,0.08695652173913043\n",
      "Schulz.c,Outhwaite.c,0.08571428571428572\n",
      "Schulz.c,Zakusek.c,0.07042253521126761\n",
      "Gillich.c,Schulz.c,0.06993006993006994\n",
      "Miskovic.c,Schulz.c,0.06756756756756757\n"
     ]
    }
   ],
   "source": [
    "difflib_on_directory(\"/home/erik/TU/ni/plagiate_labeltool/data/labled/c_files/\")"
   ]
  },
  {
   "cell_type": "markdown",
   "metadata": {},
   "source": [
    "## Create auto-labeld data with difflib"
   ]
  },
  {
   "cell_type": "code",
   "execution_count": 1,
   "metadata": {},
   "outputs": [],
   "source": [
    "import pandas as pd\n",
    "csv_path = \"/home/erik/TU/ni/plagiate_labeltool/data/labled/PPR [SoSe22]-9. Hausaufgabe - Pflichttest C-Antworten_labled.csv\"\n",
    "csv_path2 = \"/home/erik/TU/ni/plagiate_labeltool/data/labled/PPR [SoSe22]-9. Hausaufgabe - Pflichttest C-Antworten_autolabled.csv\"\n",
    "df = pd.read_csv(csv_path, delimiter=',')\n",
    "# df.to_csv(csv_path)\n"
   ]
  },
  {
   "cell_type": "code",
   "execution_count": 5,
   "metadata": {},
   "outputs": [
    {
     "data": {
      "text/plain": [
       "0"
      ]
     },
     "execution_count": 5,
     "metadata": {},
     "output_type": "execute_result"
    }
   ],
   "source": [
    "len(df.loc[df['hand_labled'] == 1])\n"
   ]
  },
  {
   "cell_type": "code",
   "execution_count": null,
   "metadata": {},
   "outputs": [],
   "source": [
    "import pandas as pd\n",
    "import difflib\n",
    "\n",
    "def label_csv_with_difflib(csv_path):\n",
    "    try:\n",
    "        df = pd.read_csv(csv_path, delimiter=',')\n",
    "        for i, row in enumerate(df[['code1', 'code2']].values):\n",
    "            s = difflib.SequenceMatcher(None, row[0], row[1])\n",
    "            df.loc[i, ['label']] = s.ratio()\n",
    "           \n",
    "    except:\n",
    "        return f\"Couldnt open {csv_path}\"\n"
   ]
  },
  {
   "cell_type": "code",
   "execution_count": 20,
   "metadata": {},
   "outputs": [
    {
     "ename": "AttributeError",
     "evalue": "'DataFrame' object has no attribute 'type'",
     "output_type": "error",
     "traceback": [
      "\u001b[0;31m---------------------------------------------------------------------------\u001b[0m",
      "\u001b[0;31mAttributeError\u001b[0m                            Traceback (most recent call last)",
      "Cell \u001b[0;32mIn [20], line 11\u001b[0m\n\u001b[1;32m      6\u001b[0m     \u001b[38;5;66;03m# if label >= 0.6:\u001b[39;00m\n\u001b[1;32m      7\u001b[0m     \u001b[38;5;66;03m#     label = np.round(label)\u001b[39;00m\n\u001b[1;32m      8\u001b[0m     \u001b[38;5;66;03m# elif label <= 0.35:\u001b[39;00m\n\u001b[1;32m      9\u001b[0m     \u001b[38;5;66;03m#     label = np.floor(label)\u001b[39;00m\n\u001b[1;32m     10\u001b[0m     df\u001b[38;5;241m.\u001b[39mloc[i, [\u001b[38;5;124m'\u001b[39m\u001b[38;5;124mlabel\u001b[39m\u001b[38;5;124m'\u001b[39m]] \u001b[38;5;241m=\u001b[39m label\n\u001b[0;32m---> 11\u001b[0m df\u001b[38;5;241m.\u001b[39mtype\n",
      "File \u001b[0;32m~/python_env/plagiate_labeltool/lib/python3.10/site-packages/pandas/core/generic.py:5575\u001b[0m, in \u001b[0;36mNDFrame.__getattr__\u001b[0;34m(self, name)\u001b[0m\n\u001b[1;32m   5568\u001b[0m \u001b[39mif\u001b[39;00m (\n\u001b[1;32m   5569\u001b[0m     name \u001b[39mnot\u001b[39;00m \u001b[39min\u001b[39;00m \u001b[39mself\u001b[39m\u001b[39m.\u001b[39m_internal_names_set\n\u001b[1;32m   5570\u001b[0m     \u001b[39mand\u001b[39;00m name \u001b[39mnot\u001b[39;00m \u001b[39min\u001b[39;00m \u001b[39mself\u001b[39m\u001b[39m.\u001b[39m_metadata\n\u001b[1;32m   5571\u001b[0m     \u001b[39mand\u001b[39;00m name \u001b[39mnot\u001b[39;00m \u001b[39min\u001b[39;00m \u001b[39mself\u001b[39m\u001b[39m.\u001b[39m_accessors\n\u001b[1;32m   5572\u001b[0m     \u001b[39mand\u001b[39;00m \u001b[39mself\u001b[39m\u001b[39m.\u001b[39m_info_axis\u001b[39m.\u001b[39m_can_hold_identifiers_and_holds_name(name)\n\u001b[1;32m   5573\u001b[0m ):\n\u001b[1;32m   5574\u001b[0m     \u001b[39mreturn\u001b[39;00m \u001b[39mself\u001b[39m[name]\n\u001b[0;32m-> 5575\u001b[0m \u001b[39mreturn\u001b[39;00m \u001b[39mobject\u001b[39;49m\u001b[39m.\u001b[39;49m\u001b[39m__getattribute__\u001b[39;49m(\u001b[39mself\u001b[39;49m, name)\n",
      "\u001b[0;31mAttributeError\u001b[0m: 'DataFrame' object has no attribute 'type'"
     ]
    }
   ],
   "source": [
    "import difflib\n",
    "import numpy as np\n",
    "for i, row in enumerate(df[['code1', 'code2']].values):\n",
    "    s = difflib.SequenceMatcher(None, row[0], row[1])\n",
    "    label = s.ratio()\n",
    "    # if label >= 0.6:\n",
    "    #     label = np.round(label)\n",
    "    # elif label <= 0.35:\n",
    "    #     label = np.floor(label)\n",
    "    df.loc[i, ['label']] = label\n",
    "# df.to_csv(csv_path2)\n"
   ]
  },
  {
   "cell_type": "code",
   "execution_count": 4,
   "metadata": {},
   "outputs": [],
   "source": [
    "for i, row in enumerate(df[['Unnamed: 0', 'surname1', 'surname2', 'label']].values):\n",
    "    compute = np.abs(df.loc[(df['surname1']==row[2]) & (df['surname2']==row[1])]['label'].values[0] - row[3])\n",
    "    df.loc[i, ['difflib_']] = compute\n"
   ]
  },
  {
   "cell_type": "code",
   "execution_count": 11,
   "metadata": {},
   "outputs": [
    {
     "name": "stdout",
     "output_type": "stream",
     "text": [
      "Niklas, Elisabeth Maria, 0.9969861362266426, 0.0\n",
      "Elisabeth Maria, Niklas, 0.9969861362266426, 0.0\n",
      "Paul, Ben, 0.9945652173913043, 0.0\n",
      "Ben, Paul, 0.9945652173913043, 0.0\n",
      "Alexander, Paul Georg, 0.9070796460176991, 0.0\n",
      "Paul Georg, Alexander, 0.9070796460176991, 0.0\n",
      "Gabriele, Melany Shaden, 0.9065281899109793, 0.0\n",
      "Melany Shaden, Gabriele, 0.9050445103857567, 0.0\n",
      "Alexander, Adrian Maximilian, 0.8800904977375565, 0.0\n",
      "Adrian Maximilian, Paul Georg, 0.8696629213483146, 0.0\n",
      "Ben, Parham, 0.8196509372979961, 0.0\n",
      "Bahar, Alexander, 0.8115384615384615, 0.0\n",
      "Alexander, Bahar, 0.8096153846153846, 0.0\n",
      "Paul, Parham, 0.8054298642533937, 0.0\n",
      "Adrian Maximilian, Alexander, 0.7918552036199095, 0.0\n",
      "Bahar, Paul Georg, 0.7858508604206501, 0.0\n",
      "Paul Georg, Bahar, 0.7858508604206501, 0.0\n",
      "Paul Georg, Adrian Maximilian, 0.7820224719101123, 0.0\n",
      "Jonas, Leif Erik, 0.7804436396559529, 0.0\n",
      "Leif Erik, Jonas, 0.7722951561792666, 0.0\n"
     ]
    }
   ],
   "source": [
    "for row in df.nlargest(20, columns=['label'])[['Unnamed: 0', 'surname1', 'surname2', 'label', 'difflib_']].values:\n",
    "    print(f\"{row[1]}, {row[2]}, {row[3]}, {row[4]}\")\n"
   ]
  },
  {
   "cell_type": "code",
   "execution_count": 23,
   "metadata": {},
   "outputs": [
    {
     "data": {
      "text/plain": [
       "Index(['Unnamed: 0', 'semester', 'ha', 'task', 'prog_lang', 'surname1',\n",
       "       'lastname1', 'surname2', 'lastname2', 'code1', 'code2', 'label',\n",
       "       'Levenshtein', 'Levenshtein2'],\n",
       "      dtype='object')"
      ]
     },
     "execution_count": 23,
     "metadata": {},
     "output_type": "execute_result"
    }
   ],
   "source": [
    "(df.columns)\n"
   ]
  },
  {
   "cell_type": "code",
   "execution_count": null,
   "metadata": {},
   "outputs": [],
   "source": [
    "import numpy as np\n",
    "\n",
    "for row in df.nlargest(20, columns=['label'])[['Unnamed: 0', 'surname1', 'surname2', 'label']].values:\n",
    "    print(f\"{row[1]}, {row[2]}, {row[3]}, {np.abs(df.loc[(df['surname1']==row[2]) & (df['surname2']==row[1])]['label'].values[0] - row[3])}\")\n"
   ]
  },
  {
   "cell_type": "markdown",
   "metadata": {},
   "source": [
    "## Create auto-labeld data with Levenshtein"
   ]
  },
  {
   "cell_type": "code",
   "execution_count": 12,
   "metadata": {},
   "outputs": [],
   "source": [
    "from Levenshtein import distance\n",
    "from sklearn.manifold import MDS\n",
    "\n",
    "def distance_percentage(string1, string2):\n",
    "    return distance(string1, string2) / np.max([len(string1), len(string2)])\n",
    "\n",
    "\n",
    "def get_similarity(string1, string2):\n",
    "\n",
    "\n",
    "    distance1 = distance_percentage(string1, string2)\n",
    "\n",
    "    string1_p = string1\n",
    "    string1 = string1.split()\n",
    "    string1_w = \"\".join(string1)\n",
    "    string1_s = \"\".join(sorted(string1_w))\n",
    "\n",
    "    string2_p = string2\n",
    "    string2 = string2.split()\n",
    "    string2_w = \"\".join(string2)\n",
    "    string2_s = \"\".join(sorted(string2_w))\n",
    "\n",
    "    distance2 = distance_percentage(string1_w, string2_w)\n",
    "    distance3 = distance_percentage(string1_s, string2_s)\n",
    "\n",
    "\n",
    "    return 1 - distance2#, 1 - distance3\n"
   ]
  },
  {
   "cell_type": "code",
   "execution_count": 13,
   "metadata": {},
   "outputs": [],
   "source": [
    "for i, row in enumerate(df[['code1', 'code2']].values):\n",
    "    label = get_similarity(row[0], row[1])\n",
    "    # if label >= 0.6:\n",
    "    #     label = np.round(label)\n",
    "    # elif label <= 0.35:\n",
    "    #     label = np.floor(label)\n",
    "    df.loc[i, ['Levenshtein2']] = label\n",
    "# df.to_csv(csv_path2)\n"
   ]
  },
  {
   "cell_type": "code",
   "execution_count": null,
   "metadata": {},
   "outputs": [],
   "source": [
    "df_labled = pd.DataFrame(columns=['semester', 'ha', 'task', 'prog_lang',\n",
    "                            'surname1', 'lastname1', 'surname2', 'lastname2', 'code1', 'code2', 'label'])\n",
    "df_labled.index.name = 'index'\n",
    "for task in tasks:\n",
    "    for i, ln1, sn1, code1 in enumerate(df.loc[df[f'{task} empty'] == 0][['Nachname', 'Vorname', task]].values):\n",
    "        for ln2, sn2, code2 in df.loc[(df[f'{task} empty'] == 0) & (df[task] != code1) & ()][['Nachname', 'Vorname', task]][i:].values:\n",
    "            df_labled.loc[len(df_labled)] = [\n",
    "                semester, ha, task, prog_language, sn1, ln1, sn2, ln2, code1, code2, -1]\n"
   ]
  },
  {
   "cell_type": "code",
   "execution_count": 19,
   "metadata": {},
   "outputs": [
    {
     "name": "stdout",
     "output_type": "stream",
     "text": [
      "(0, 0)\n",
      "(1, 1)\n",
      "(2, 2)\n"
     ]
    },
    {
     "data": {
      "text/html": [
       "<div>\n",
       "<style scoped>\n",
       "    .dataframe tbody tr th:only-of-type {\n",
       "        vertical-align: middle;\n",
       "    }\n",
       "\n",
       "    .dataframe tbody tr th {\n",
       "        vertical-align: top;\n",
       "    }\n",
       "\n",
       "    .dataframe thead th {\n",
       "        text-align: right;\n",
       "    }\n",
       "</style>\n",
       "<table border=\"1\" class=\"dataframe\">\n",
       "  <thead>\n",
       "    <tr style=\"text-align: right;\">\n",
       "      <th></th>\n",
       "      <th>Unnamed: 0</th>\n",
       "      <th>semester</th>\n",
       "      <th>ha</th>\n",
       "      <th>task</th>\n",
       "      <th>prog_lang</th>\n",
       "      <th>surname1</th>\n",
       "      <th>lastname1</th>\n",
       "      <th>surname2</th>\n",
       "      <th>lastname2</th>\n",
       "      <th>code1</th>\n",
       "      <th>code2</th>\n",
       "      <th>label</th>\n",
       "      <th>Levenshtein</th>\n",
       "      <th>Levenshtein2</th>\n",
       "    </tr>\n",
       "  </thead>\n",
       "  <tbody>\n",
       "    <tr>\n",
       "      <th>0</th>\n",
       "      <td>0</td>\n",
       "      <td>SoSe22</td>\n",
       "      <td>9</td>\n",
       "      <td>Antwort 9</td>\n",
       "      <td>C</td>\n",
       "      <td>Fabian</td>\n",
       "      <td>Große-Wöhrmann</td>\n",
       "      <td>Moritz Sebastian</td>\n",
       "      <td>Niethammer</td>\n",
       "      <td>#include &lt;stdio.h&gt;\\r\\n#include &lt;stdlib.h&gt;\\r\\n ...</td>\n",
       "      <td>#include &lt;stdio.h&gt;\\r\\n#include &lt;stdlib.h&gt;\\r\\n\\...</td>\n",
       "      <td>0.521108</td>\n",
       "      <td>0.673325</td>\n",
       "      <td>0.761993</td>\n",
       "    </tr>\n",
       "    <tr>\n",
       "      <th>1</th>\n",
       "      <td>1</td>\n",
       "      <td>SoSe22</td>\n",
       "      <td>9</td>\n",
       "      <td>Antwort 9</td>\n",
       "      <td>C</td>\n",
       "      <td>Fabian</td>\n",
       "      <td>Große-Wöhrmann</td>\n",
       "      <td>Florian</td>\n",
       "      <td>Schacht</td>\n",
       "      <td>#include &lt;stdio.h&gt;\\r\\n#include &lt;stdlib.h&gt;\\r\\n ...</td>\n",
       "      <td>//gcc -x c HA09_F09.c -o HA09_F09 -Wall -Wextr...</td>\n",
       "      <td>0.051832</td>\n",
       "      <td>0.157407</td>\n",
       "      <td>0.156506</td>\n",
       "    </tr>\n",
       "  </tbody>\n",
       "</table>\n",
       "</div>"
      ],
      "text/plain": [
       "   Unnamed: 0 semester  ha       task prog_lang surname1       lastname1  \\\n",
       "0           0   SoSe22   9  Antwort 9         C   Fabian  Große-Wöhrmann   \n",
       "1           1   SoSe22   9  Antwort 9         C   Fabian  Große-Wöhrmann   \n",
       "\n",
       "           surname2   lastname2  \\\n",
       "0  Moritz Sebastian  Niethammer   \n",
       "1           Florian     Schacht   \n",
       "\n",
       "                                               code1  \\\n",
       "0  #include <stdio.h>\\r\\n#include <stdlib.h>\\r\\n ...   \n",
       "1  #include <stdio.h>\\r\\n#include <stdlib.h>\\r\\n ...   \n",
       "\n",
       "                                               code2     label  Levenshtein  \\\n",
       "0  #include <stdio.h>\\r\\n#include <stdlib.h>\\r\\n\\...  0.521108     0.673325   \n",
       "1  //gcc -x c HA09_F09.c -o HA09_F09 -Wall -Wextr...  0.051832     0.157407   \n",
       "\n",
       "   Levenshtein2  \n",
       "0      0.761993  \n",
       "1      0.156506  "
      ]
     },
     "execution_count": 19,
     "metadata": {},
     "output_type": "execute_result"
    }
   ],
   "source": [
    "for i,j in enumerate(range(0,3)):\n",
    "    print((i,j))\n",
    "df[0:2]"
   ]
  }
 ],
 "metadata": {
  "kernelspec": {
   "display_name": "Python 3.10.6 ('plagiate_labeltool')",
   "language": "python",
   "name": "python3"
  },
  "language_info": {
   "codemirror_mode": {
    "name": "ipython",
    "version": 3
   },
   "file_extension": ".py",
   "mimetype": "text/x-python",
   "name": "python",
   "nbconvert_exporter": "python",
   "pygments_lexer": "ipython3",
   "version": "3.10.6"
  },
  "orig_nbformat": 4,
  "vscode": {
   "interpreter": {
    "hash": "146eadc059afb1d4c68d39619746c18b0a73768801d9be760919dc465c13cc29"
   }
  }
 },
 "nbformat": 4,
 "nbformat_minor": 2
}
