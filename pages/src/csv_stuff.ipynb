{
 "cells": [
  {
   "cell_type": "markdown",
   "metadata": {},
   "source": [
    "# Jupiter Notebook to test csv_stuff.py"
   ]
  },
  {
   "cell_type": "code",
   "execution_count": 2,
   "metadata": {},
   "outputs": [],
   "source": [
    "from operator import ne\n",
    "import pandas as pd\n",
    "import sys\n",
    "import re\n",
    "import random\n",
    "from bs4 import BeautifulSoup\n",
    "import argparse\n",
    "import matplotlib.pyplot as plt\n",
    "\n",
    "# df_labled = []\n",
    "\n",
    "\n",
    "def create_labled_table_routine(semester, ha, tasks, prog_language, labled_csv=None):\n",
    "    csv_path = f'../../data/raw_data/PPR [{semester}]-{ha}. Hausaufgabe - Pflichttest {prog_language}-Antworten.csv'\n",
    "    df = pd.read_csv(csv_path, delimiter=',')\n",
    "    keep_columns = ['Nachname', 'Vorname'] + tasks\n",
    "    drop_columns = []\n",
    "    for x in df.columns:\n",
    "        if x not in keep_columns:\n",
    "            drop_columns.append(x)\n",
    "    df = df.drop(drop_columns, axis=1)\n",
    "    df = add_valid_code_columns(df=df, semester=semester, ha=ha, tasks=tasks, prog_language=prog_language)\n",
    "    df_labled = create_labled_table(df, semester, ha, tasks, prog_language)\n",
    "    return df_labled, len(df_labled.index)\n",
    "\n",
    "\n",
    "def create_labled_table(df, semester, ha, tasks, prog_language):\n",
    "    df_labled = pd.DataFrame(columns=['id', 'semester', 'ha', 'task', 'prog_lang', 'surname1', 'lastname1', 'surname2', 'lastname2', 'code1', 'code2', 'label'])\n",
    "    i = 0\n",
    "    for task in tasks:\n",
    "        for ln1, sn1, code1 in df.loc[df[f'{task} empty']==0][['Nachname', 'Vorname', task]].values:\n",
    "            for ln2, sn2, code2 in df.loc[(df[f'{task} empty']==0) & (df[task] != code1)][['Nachname', 'Vorname', task]].values:\n",
    "                df_labled.loc[len(df_labled)] = [i, semester, ha, task, prog_language, sn1, ln1, sn2, ln2, code1, code2, -1]\n",
    "                i += 1\n",
    "    return df_labled\n",
    "\n",
    "\n",
    "\n",
    "\"\"\"\n",
    "(empty- or template solution) == 1\n",
    "\"\"\"\n",
    "def add_valid_code_columns(df, semester, ha, tasks, prog_language):\n",
    "    for task in tasks:\n",
    "        answerpreload = get_given_code(f'../../data/code_templates/PPR [{semester}]-{ha}. Hausaufgabe - Pflichttest {prog_language}-Antworten_{task}.xml')\n",
    "        answerpreload = answerpreload.replace('\\t', '').replace('\\r', '').replace('\\n', '')\n",
    "        #every special character beetween \\Q and \\E is ignored, but the inserted \\S*; answers shouldnt contain \\Q and \\E!\n",
    "        answerpreload = re.escape(answerpreload)\n",
    "        #{{ cr_random.f1 }} --> \\S*\n",
    "        answerpreload = re.sub(r\"\\\\{\\\\{\\\\\\s*\\S+\\s*\\\\}\\\\}\", r\"\\\\S*\", answerpreload)\n",
    "        summe=0\n",
    "        result = 0\n",
    "        df[f\"{task} empty\"] = 0\n",
    "        #TODO wie vergleicht man leicht unterschiedliche texte auf Gleichheit miteinander??? -> bisher nur direkte gleichheit\n",
    "        for j,column in enumerate(df[task]):\n",
    "            #there are \\\\n in the student solutions because \"...\\n\" --> \"...\\\\n\" while read_csv\n",
    "            column = column.replace('\\t', '').replace('\\r', '').replace('\\n', '').replace('\\\\n', r'\\n')\n",
    "            # test if template was given or not\n",
    "            if answerpreload != '':\n",
    "                result = re.match(answerpreload, column)\n",
    "            if column == '-' or result:\n",
    "                df.loc[j, f\"{task} empty\"] = 1\n",
    "                summe+=1\n",
    "        print(summe)\n",
    "    return df\n",
    "\n",
    "\n",
    "def get_given_code(file):\n",
    "    with open(file) as xmlstr:\n",
    "        soup = BeautifulSoup(xmlstr, 'xml')\n",
    "        answerpreload = soup.find('answerpreload').text\n",
    "        return answerpreload\n",
    "\n",
    "\n",
    "def get_new_pair(df_labled):\n",
    "    next = df_labled.loc[df_labled['label']==1,['surname1', 'surname2', 'code1', 'code2']]\n",
    "    if not next.empty:\n",
    "        next = next.values[0]\n",
    "        return next[0], next[1], next[2], next[3]\n",
    "    print('no unlabled pair')\n",
    "    return None\n",
    "\n",
    "\n",
    "\n",
    "#TODO 1. erfolgreichen match hinbekommen        *check*\n",
    "#TODO 2. empty_solution_matrix richtig setzen   *check*\n",
    "#TODO 3. dann daraus ein paar ableiten          *check*\n",
    "#TODO 4. dann daraus eine tabellenreihe für ...labled.csv machen *check*\n",
    "#TODO 5. dann eine ganze tabelle draus machen   *check*\n",
    "#TODO 6. wo wird tabelle zwischengespeichert?\n",
    "#TODO 7.1 funktion schreiben die die erste Routine macht mit #aller paar und #aller bereits gelableten und die 3 texte ausgibt\n",
    "#TODO 7. funktion schreiben, die ein lable übergeben bekommt, in tabelle einträgt und ein neues paar zurückgibt (ggf. auch neue vorgabe)\n",
    "#TODO gibt es ein Download fenster?\n",
    "#TODO checken weshalb nur 12/13 leere abgaben bei antwort 10 gefunden wurden\n",
    "#TODO beim überspringen erstmal mit -1 lablen?; double linked list, für die id schreiben, um prev und next button zu realisieren\n"
   ]
  },
  {
   "cell_type": "code",
   "execution_count": 3,
   "metadata": {},
   "outputs": [
    {
     "name": "stdout",
     "output_type": "stream",
     "text": [
      "4\n",
      "13\n",
      "12\n"
     ]
    }
   ],
   "source": [
    "semester='SoSe21'\n",
    "ha='9'\n",
    "# tasks = ['Antwort 9']\n",
    "tasks = ['Antwort 8', 'Antwort 9', 'Antwort 10']\n",
    "prog_language='C'\n",
    "df_labled, count = create_labled_table_routine(semester=semester, ha=ha, tasks=tasks, prog_language=prog_language)\n",
    "# answerpreload = get_given_code(f'../../data/code_templates/PPR [{semester}]-{ha}. Hausaufgabe - Pflichttest {prog_language}-Antworten_{tasks[0]}.xml')"
   ]
  },
  {
   "cell_type": "code",
   "execution_count": 25,
   "metadata": {},
   "outputs": [
    {
     "name": "stdout",
     "output_type": "stream",
     "text": [
      "-1\n",
      "        id semester ha        task prog_lang           surname1 lastname1  \\\n",
      "5        5   SoSe21  9   Antwort 8         C         Yang Felix      Wang   \n",
      "6        6   SoSe21  9   Antwort 8         C         Yang Felix      Wang   \n",
      "7        7   SoSe21  9   Antwort 8         C         Yang Felix      Wang   \n",
      "8        8   SoSe21  9   Antwort 8         C         Yang Felix      Wang   \n",
      "9        9   SoSe21  9   Antwort 8         C         Yang Felix      Wang   \n",
      "...    ...      ... ..         ...       ...                ...       ...   \n",
      "1345  1345   SoSe21  9  Antwort 10         C  Karsten Siegfried    Hansel   \n",
      "1346  1346   SoSe21  9  Antwort 10         C  Karsten Siegfried    Hansel   \n",
      "1347  1347   SoSe21  9  Antwort 10         C  Karsten Siegfried    Hansel   \n",
      "1348  1348   SoSe21  9  Antwort 10         C  Karsten Siegfried    Hansel   \n",
      "1349  1349   SoSe21  9  Antwort 10         C  Karsten Siegfried    Hansel   \n",
      "\n",
      "                   surname2       lastname2  \\\n",
      "5               Max Richard       Horneburg   \n",
      "6               Jan Hartmut         Eckardt   \n",
      "7         Florian Alexander         Bauszus   \n",
      "8            Jeremias Harry           Alexe   \n",
      "9                      Umut           Durak   \n",
      "...                     ...             ...   \n",
      "1345    Franziska Anna-Lena         Gillich   \n",
      "1346  Mattis Musashi Martin  Roßmöller-Felz   \n",
      "1347                   Leon          Schulz   \n",
      "1348           Jasko Tobias         Schwarz   \n",
      "1349          Tom Alexander         Schmidt   \n",
      "\n",
      "                                                  code1  \\\n",
      "5     #include <stdio.h>\\r\\n\\r\\nvoid factorize(long ...   \n",
      "6     #include <stdio.h>\\r\\n\\r\\nvoid factorize(long ...   \n",
      "7     #include <stdio.h>\\r\\n\\r\\nvoid factorize(long ...   \n",
      "8     #include <stdio.h>\\r\\n\\r\\nvoid factorize(long ...   \n",
      "9     #include <stdio.h>\\r\\n\\r\\nvoid factorize(long ...   \n",
      "...                                                 ...   \n",
      "1345  #include <stdio.h>\\r\\n#include <stdlib.h>\\r\\n ...   \n",
      "1346  #include <stdio.h>\\r\\n#include <stdlib.h>\\r\\n ...   \n",
      "1347  #include <stdio.h>\\r\\n#include <stdlib.h>\\r\\n ...   \n",
      "1348  #include <stdio.h>\\r\\n#include <stdlib.h>\\r\\n ...   \n",
      "1349  #include <stdio.h>\\r\\n#include <stdlib.h>\\r\\n ...   \n",
      "\n",
      "                                                  code2 label  \n",
      "5     #include <stdio.h>\\r\\n\\r\\nvoid factorize(long ...    -1  \n",
      "6     #include <stdio.h>\\r\\n\\r\\nvoid factorize(long ...    -1  \n",
      "7     #include <stdio.h>\\r\\n\\r\\nvoid factorize(long ...    -1  \n",
      "8     #include <stdio.h>\\r\\n\\r\\nvoid factorize(long ...    -1  \n",
      "9     #include <stdio.h>\\r\\n\\r\\nvoid factorize(long ...    -1  \n",
      "...                                                 ...   ...  \n",
      "1345  #include <stdio.h>\\r\\n#include <stdlib.h>\\r\\n ...    -1  \n",
      "1346  #include <stdio.h>\\r\\n#include <stdlib.h>\\r\\n ...    -1  \n",
      "1347  #include <stdio.h>\\r\\n\\r\\n#include <stdlib.h>\\...    -1  \n",
      "1348  #include <stdio.h>\\r\\n#include <stdlib.h>\\r\\n\\...    -1  \n",
      "1349  #include <stdio.h>\\r\\n#include <stdlib.h>\\r\\n ...    -1  \n",
      "\n",
      "[1345 rows x 12 columns]\n"
     ]
    }
   ],
   "source": [
    "# print(df_labled.loc[0:5])\n",
    "last_id=4\n",
    "label_score=0.76\n",
    "# try:\n",
    "already_labled = df_labled.loc[last_id]['label']\n",
    "print(already_labled)\n",
    "df_labled.loc[last_id]['label'] = label_score\n",
    "# print(df_labled)\n",
    "print(df_labled.loc[(df_labled['label']==-1) & (df_labled['id'] > last_id)])\n",
    "# print(df_labled.loc[len(df_labled.index)-1, 'label'])\n",
    "# except:\n",
    "#     print('diesen index gibt es nicht')\n"
   ]
  },
  {
   "cell_type": "markdown",
   "metadata": {},
   "source": []
  },
  {
   "cell_type": "code",
   "execution_count": 46,
   "metadata": {},
   "outputs": [
    {
     "name": "stdout",
     "output_type": "stream",
     "text": [
      "17424\n",
      "69696\n",
      "139392\n"
     ]
    }
   ],
   "source": [
    "semester='SoSe21'\n",
    "ha=['6','7','8','9','10']   #5 relevant programm homework weeks + (possible exam tasks)\n",
    "abgaben=[34,34,34,34,34]    #SoSe2021 34 student only in c\n",
    "tasks = [4, 3, 3, 3, 3]     #2-4 programm tasks per week\n",
    "summe=0\n",
    "for i,j in zip(abgaben,tasks):\n",
    "    summe += (i-1)**2*j     #with 34 comes 33 pairs per student per task per week\n",
    "print(summe)                #number of homework pairs in one semester\n",
    "print(summe*4)              #number of pairs in four semester\n",
    "print(summe*4*2)            #number of pairs in four semester in 2 programming languages\n"
   ]
  }
 ],
 "metadata": {
  "kernelspec": {
   "display_name": "Python 3.8.10 ('thomas')",
   "language": "python",
   "name": "python3"
  },
  "language_info": {
   "codemirror_mode": {
    "name": "ipython",
    "version": 3
   },
   "file_extension": ".py",
   "mimetype": "text/x-python",
   "name": "python",
   "nbconvert_exporter": "python",
   "pygments_lexer": "ipython3",
   "version": "3.8.10"
  },
  "orig_nbformat": 4,
  "vscode": {
   "interpreter": {
    "hash": "d67b88628f584c0585d2589739caa2fae19f9a5730adf9114d60a2fd99c5902d"
   }
  }
 },
 "nbformat": 4,
 "nbformat_minor": 2
}
