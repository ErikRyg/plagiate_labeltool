{
 "cells": [
  {
   "cell_type": "markdown",
   "metadata": {},
   "source": [
    "# Jupiter Notebook to test csv_stuff.py"
   ]
  },
  {
   "cell_type": "code",
   "execution_count": 30,
   "metadata": {},
   "outputs": [],
   "source": [
    "import pandas as pd\n",
    "import sys\n",
    "import re\n",
    "import random\n",
    "from bs4 import BeautifulSoup\n",
    "import argparse\n",
    "import matplotlib.pyplot as plt\n",
    "\n",
    "\n",
    "def create_pair_routine(semester, ha, tasks, prog_language, labled_csv=None):\n",
    "    csv_path = f'../../data/raw_data/PPR [{semester}]-{ha}. Hausaufgabe - Pflichttest {prog_language}-Antworten.csv'\n",
    "    df = pd.read_csv(csv_path, delimiter=',')\n",
    "    keep_columns = ['Nachname', 'Vorname'] + tasks\n",
    "    drop_columns = []\n",
    "    for x in df.columns:\n",
    "        if x not in keep_columns:\n",
    "            drop_columns.append(x)\n",
    "    df = df.drop(drop_columns, axis=1)\n",
    "    return df\n",
    "\n",
    "\n",
    "\n",
    "\"\"\"\n",
    "(empty- or template solution) == 1\n",
    "\"\"\"\n",
    "def calculate_empty_solution_matrix(df, semester, ha, tasks, prog_language):\n",
    "    empty_solution_matrix = df.copy()\n",
    "    for task in tasks:\n",
    "        #PPR [SoSe21]-9. Hausaufgabe - Pflichttest C-Antworten_Antwort 8.xml\n",
    "        answerpreload = get_given_code(f'../../data/code_templates/PPR [{semester}]-{ha}. Hausaufgabe - Pflichttest {prog_language}-Antworten_{task}.xml')\n",
    "        answerpreload = answerpreload.replace('\\t', '').replace('\\r', '').replace('\\n', '')\n",
    "        answerpreload = re.sub(r\"{{\\s*\\S*\\s*}}\", r\"\\\\\\\\E\\\\\\\\S*\\\\\\\\Q\", answerpreload)\n",
    "        #every special character beetween \\Q and \\E is ignored, but the inserted \\S*; answers shouldnt contain \\Q and \\E!\n",
    "        #{{ cr_random.f1 }} --> \\S*\n",
    "        answerpreload = r\"\\\\Q\" + answerpreload + r\"\\\\E\"\n",
    "        print(answerpreload)\n",
    "        #TODO wie vergleicht man leicht unterschiedliche texte auf Gleichheit miteinander??? -> bisher nur direkte gleichheit\n",
    "        # for j,column in enumerate(df[task]):\n",
    "        #     column = column.replace('\\t', '').replace('\\r', '').replace('\\n', '')\n",
    "        #     # print(column)\n",
    "        #     r = re.compile(answerpreload)\n",
    "        #     result = r.match(column)\n",
    "        #     if(result):\n",
    "        #         print(result)\n",
    "        #     if column == '-' or result:\n",
    "        #         empty_solution_matrix[task][j] = 1\n",
    "        #     else:\n",
    "        #         empty_solution_matrix[task][j] = 0\n",
    "        #there are \\\\n in the student solutions because \"...\\n\" --> \"...\\\\n\" while read_csv\n",
    "        #TODO 1. erfolgreichen match hinbekommen\n",
    "        #TODO 2. empty_solution_matrix richtig setzen\n",
    "        #TODO 3. dann daraus ein paar ableiten\n",
    "        #TODO 4. dann daraus eine tabellenreihe für ...labled.csv machen\n",
    "        #TODO 5. dann eine ganze tabelle draus machen\n",
    "        #TODO 6. wo wird tabelle zwischengespeichert?\n",
    "        #TODO 7.1 funktion schreiben die die erste Routine macht mit #aller paar und #aller bereits gelableten und die 3 texte ausgibt\n",
    "        #TODO 7. funktion schreiben, die ein lable übergeben bekommt, in tabelle einträgt und ein neues paar zurückgibt (ggf. auch neue vorgabe)\n",
    "        #TODO gibt es ein Download fenster?\n",
    "        #TODO beim überspringen erstmal mit -1 lablen?; double linked list, für die id schreiben, um prev und next button zu realisieren\n",
    "        ab=[y[1].replace('\\t', '').replace('\\r', '').replace('\\n', '').replace('\\\\n', '\\n') for y in df[['Vorname',task]].values if y[0]=='Alexander']\n",
    "        print(ab)\n",
    "        r = re.compile(answerpreload)\n",
    "        result = r.match(ab[0])\n",
    "        print(result)\n",
    "    return empty_solution_matrix\n",
    "\n",
    "\n",
    "def get_given_code(file):\n",
    "    with open(file) as xmlstr:\n",
    "        soup = BeautifulSoup(xmlstr, 'xml')\n",
    "        answerpreload = soup.find('answerpreload').text\n",
    "        return answerpreload\n"
   ]
  },
  {
   "cell_type": "code",
   "execution_count": 31,
   "metadata": {},
   "outputs": [
    {
     "name": "stdout",
     "output_type": "stream",
     "text": [
      "\\\\Q#include <stdio.h>#include <stdlib.h> void ersetzen(char* dest, int zahl, char* src){    }void umdrehen( char* str ){  }int main( int argc, char* argv[] ){    char test[11]= \"0123456789\";  printf( \"Das Original ist: %s \\n\", test );  ersetzen( test , atoi(argv[1]), argv[2] );  printf( \"Ersetzt : %s \\n\", test );  umdrehen( test );  printf( \"Rückwärts : %s \\n\", test );}\\\\E\n",
      "['#include <stdio.h>#include <stdlib.h> void ersetzen(char* dest, int zahl, char* src){    }void umdrehen( char* str ){  }int main( int argc, char* argv[] ){    char test[11]= \"0123456789\";  printf( \"Das Original ist: %s \\n\", test );  ersetzen( test , atoi(argv[1]), argv[2] );  printf( \"Ersetzt : %s \\n\", test );  umdrehen( test );  printf( \"Rückwärts : %s \\n\", test );}']\n"
     ]
    },
    {
     "ename": "error",
     "evalue": "missing ), unterminated subpattern at position 131",
     "output_type": "error",
     "traceback": [
      "\u001b[0;31m---------------------------------------------------------------------------\u001b[0m",
      "\u001b[0;31merror\u001b[0m                                     Traceback (most recent call last)",
      "\u001b[1;32m/home/erik/TU/ni/plagiate_labeltool/pages/src/csv_stuff.ipynb Zelle 3\u001b[0m in \u001b[0;36m<cell line: 7>\u001b[0;34m()\u001b[0m\n\u001b[1;32m      <a href='vscode-notebook-cell:/home/erik/TU/ni/plagiate_labeltool/pages/src/csv_stuff.ipynb#W2sZmlsZQ%3D%3D?line=4'>5</a>\u001b[0m prog_language\u001b[39m=\u001b[39m\u001b[39m'\u001b[39m\u001b[39mC\u001b[39m\u001b[39m'\u001b[39m\n\u001b[1;32m      <a href='vscode-notebook-cell:/home/erik/TU/ni/plagiate_labeltool/pages/src/csv_stuff.ipynb#W2sZmlsZQ%3D%3D?line=5'>6</a>\u001b[0m df \u001b[39m=\u001b[39m create_pair_routine(semester\u001b[39m=\u001b[39msemester, ha\u001b[39m=\u001b[39mha, tasks\u001b[39m=\u001b[39mtasks, prog_language\u001b[39m=\u001b[39mprog_language)\n\u001b[0;32m----> <a href='vscode-notebook-cell:/home/erik/TU/ni/plagiate_labeltool/pages/src/csv_stuff.ipynb#W2sZmlsZQ%3D%3D?line=6'>7</a>\u001b[0m empty_solution_matrix \u001b[39m=\u001b[39m calculate_empty_solution_matrix(df, semester, ha, tasks, prog_language)\n\u001b[1;32m      <a href='vscode-notebook-cell:/home/erik/TU/ni/plagiate_labeltool/pages/src/csv_stuff.ipynb#W2sZmlsZQ%3D%3D?line=7'>8</a>\u001b[0m ab\u001b[39m=\u001b[39m[y[\u001b[39m1\u001b[39m]\u001b[39m.\u001b[39mreplace(\u001b[39m'\u001b[39m\u001b[39m\\t\u001b[39;00m\u001b[39m'\u001b[39m, \u001b[39m'\u001b[39m\u001b[39m'\u001b[39m)\u001b[39m.\u001b[39mreplace(\u001b[39m'\u001b[39m\u001b[39m\\r\u001b[39;00m\u001b[39m'\u001b[39m, \u001b[39m'\u001b[39m\u001b[39m'\u001b[39m)\u001b[39m.\u001b[39mreplace(\u001b[39m'\u001b[39m\u001b[39m\\n\u001b[39;00m\u001b[39m'\u001b[39m, \u001b[39m'\u001b[39m\u001b[39m'\u001b[39m) \u001b[39mfor\u001b[39;00m y \u001b[39min\u001b[39;00m df[[\u001b[39m'\u001b[39m\u001b[39mVorname\u001b[39m\u001b[39m'\u001b[39m,tasks]]\u001b[39m.\u001b[39mvalues \u001b[39mif\u001b[39;00m y[\u001b[39m0\u001b[39m]\u001b[39m==\u001b[39m\u001b[39m'\u001b[39m\u001b[39mAlexander\u001b[39m\u001b[39m'\u001b[39m]\n\u001b[1;32m      <a href='vscode-notebook-cell:/home/erik/TU/ni/plagiate_labeltool/pages/src/csv_stuff.ipynb#W2sZmlsZQ%3D%3D?line=8'>9</a>\u001b[0m \u001b[39mstr\u001b[39m \u001b[39m=\u001b[39m \u001b[39mr\u001b[39m\u001b[39m'\u001b[39m\u001b[39m\\\\\u001b[39;00m\u001b[39mQ#include <stdio.h>void factorize(long \u001b[39m\u001b[39m\\\\\u001b[39;00m\u001b[39mE\u001b[39m\u001b[39m\\\\\u001b[39;00m\u001b[39mS*\u001b[39m\u001b[39m\\\\\u001b[39;00m\u001b[39mQ, long *\u001b[39m\u001b[39m\\\\\u001b[39;00m\u001b[39mE\u001b[39m\u001b[39m\\\\\u001b[39;00m\u001b[39mS*\u001b[39m\u001b[39m\\\\\u001b[39;00m\u001b[39mQ, long *\u001b[39m\u001b[39m\\\\\u001b[39;00m\u001b[39mE\u001b[39m\u001b[39m\\\\\u001b[39;00m\u001b[39mS*\u001b[39m\u001b[39m\\\\\u001b[39;00m\u001b[39mQ)\u001b[39m\u001b[39m{\u001b[39m\u001b[39m// Your factorization}int main()\u001b[39m\u001b[39m{\u001b[39m\u001b[39mprintf(\u001b[39m\u001b[39m\"\u001b[39m\u001b[39mPlease enter an Integer: \u001b[39m\u001b[39m\"\u001b[39m\u001b[39m);printf(\u001b[39m\u001b[39m\"\u001b[39m\u001b[39mPossible Factors of \u001b[39m\u001b[39m%ld\u001b[39;00m\u001b[39m are \u001b[39m\u001b[39m%ld\u001b[39;00m\u001b[39m and \u001b[39m\u001b[39m%ld\u001b[39;00m\u001b[39m.\u001b[39m\u001b[39m\\\u001b[39m\u001b[39mn\u001b[39m\u001b[39m\"\u001b[39m\u001b[39m);return 0;}\u001b[39m\u001b[39m\\\\\u001b[39;00m\u001b[39mE\u001b[39m\u001b[39m'\u001b[39m\n",
      "\u001b[1;32m/home/erik/TU/ni/plagiate_labeltool/pages/src/csv_stuff.ipynb Zelle 3\u001b[0m in \u001b[0;36mcalculate_empty_solution_matrix\u001b[0;34m(df, semester, ha, tasks, prog_language)\u001b[0m\n\u001b[1;32m     <a href='vscode-notebook-cell:/home/erik/TU/ni/plagiate_labeltool/pages/src/csv_stuff.ipynb#W2sZmlsZQ%3D%3D?line=49'>50</a>\u001b[0m ab\u001b[39m=\u001b[39m[y[\u001b[39m1\u001b[39m]\u001b[39m.\u001b[39mreplace(\u001b[39m'\u001b[39m\u001b[39m\\t\u001b[39;00m\u001b[39m'\u001b[39m, \u001b[39m'\u001b[39m\u001b[39m'\u001b[39m)\u001b[39m.\u001b[39mreplace(\u001b[39m'\u001b[39m\u001b[39m\\r\u001b[39;00m\u001b[39m'\u001b[39m, \u001b[39m'\u001b[39m\u001b[39m'\u001b[39m)\u001b[39m.\u001b[39mreplace(\u001b[39m'\u001b[39m\u001b[39m\\n\u001b[39;00m\u001b[39m'\u001b[39m, \u001b[39m'\u001b[39m\u001b[39m'\u001b[39m)\u001b[39m.\u001b[39mreplace(\u001b[39m'\u001b[39m\u001b[39m\\\\\u001b[39;00m\u001b[39mn\u001b[39m\u001b[39m'\u001b[39m, \u001b[39m'\u001b[39m\u001b[39m\\n\u001b[39;00m\u001b[39m'\u001b[39m) \u001b[39mfor\u001b[39;00m y \u001b[39min\u001b[39;00m df[[\u001b[39m'\u001b[39m\u001b[39mVorname\u001b[39m\u001b[39m'\u001b[39m,task]]\u001b[39m.\u001b[39mvalues \u001b[39mif\u001b[39;00m y[\u001b[39m0\u001b[39m]\u001b[39m==\u001b[39m\u001b[39m'\u001b[39m\u001b[39mAlexander\u001b[39m\u001b[39m'\u001b[39m]\n\u001b[1;32m     <a href='vscode-notebook-cell:/home/erik/TU/ni/plagiate_labeltool/pages/src/csv_stuff.ipynb#W2sZmlsZQ%3D%3D?line=50'>51</a>\u001b[0m \u001b[39mprint\u001b[39m(ab)\n\u001b[0;32m---> <a href='vscode-notebook-cell:/home/erik/TU/ni/plagiate_labeltool/pages/src/csv_stuff.ipynb#W2sZmlsZQ%3D%3D?line=51'>52</a>\u001b[0m r \u001b[39m=\u001b[39m re\u001b[39m.\u001b[39;49mcompile(answerpreload)\n\u001b[1;32m     <a href='vscode-notebook-cell:/home/erik/TU/ni/plagiate_labeltool/pages/src/csv_stuff.ipynb#W2sZmlsZQ%3D%3D?line=52'>53</a>\u001b[0m result \u001b[39m=\u001b[39m r\u001b[39m.\u001b[39mmatch(ab[\u001b[39m0\u001b[39m])\n\u001b[1;32m     <a href='vscode-notebook-cell:/home/erik/TU/ni/plagiate_labeltool/pages/src/csv_stuff.ipynb#W2sZmlsZQ%3D%3D?line=53'>54</a>\u001b[0m \u001b[39mprint\u001b[39m(result)\n",
      "File \u001b[0;32m/usr/lib/python3.8/re.py:252\u001b[0m, in \u001b[0;36mcompile\u001b[0;34m(pattern, flags)\u001b[0m\n\u001b[1;32m    250\u001b[0m \u001b[39mdef\u001b[39;00m \u001b[39mcompile\u001b[39m(pattern, flags\u001b[39m=\u001b[39m\u001b[39m0\u001b[39m):\n\u001b[1;32m    251\u001b[0m     \u001b[39m\"\u001b[39m\u001b[39mCompile a regular expression pattern, returning a Pattern object.\u001b[39m\u001b[39m\"\u001b[39m\n\u001b[0;32m--> 252\u001b[0m     \u001b[39mreturn\u001b[39;00m _compile(pattern, flags)\n",
      "File \u001b[0;32m/usr/lib/python3.8/re.py:304\u001b[0m, in \u001b[0;36m_compile\u001b[0;34m(pattern, flags)\u001b[0m\n\u001b[1;32m    302\u001b[0m \u001b[39mif\u001b[39;00m \u001b[39mnot\u001b[39;00m sre_compile\u001b[39m.\u001b[39misstring(pattern):\n\u001b[1;32m    303\u001b[0m     \u001b[39mraise\u001b[39;00m \u001b[39mTypeError\u001b[39;00m(\u001b[39m\"\u001b[39m\u001b[39mfirst argument must be string or compiled pattern\u001b[39m\u001b[39m\"\u001b[39m)\n\u001b[0;32m--> 304\u001b[0m p \u001b[39m=\u001b[39m sre_compile\u001b[39m.\u001b[39;49mcompile(pattern, flags)\n\u001b[1;32m    305\u001b[0m \u001b[39mif\u001b[39;00m \u001b[39mnot\u001b[39;00m (flags \u001b[39m&\u001b[39m DEBUG):\n\u001b[1;32m    306\u001b[0m     \u001b[39mif\u001b[39;00m \u001b[39mlen\u001b[39m(_cache) \u001b[39m>\u001b[39m\u001b[39m=\u001b[39m _MAXCACHE:\n\u001b[1;32m    307\u001b[0m         \u001b[39m# Drop the oldest item\u001b[39;00m\n",
      "File \u001b[0;32m/usr/lib/python3.8/sre_compile.py:764\u001b[0m, in \u001b[0;36mcompile\u001b[0;34m(p, flags)\u001b[0m\n\u001b[1;32m    762\u001b[0m \u001b[39mif\u001b[39;00m isstring(p):\n\u001b[1;32m    763\u001b[0m     pattern \u001b[39m=\u001b[39m p\n\u001b[0;32m--> 764\u001b[0m     p \u001b[39m=\u001b[39m sre_parse\u001b[39m.\u001b[39;49mparse(p, flags)\n\u001b[1;32m    765\u001b[0m \u001b[39melse\u001b[39;00m:\n\u001b[1;32m    766\u001b[0m     pattern \u001b[39m=\u001b[39m \u001b[39mNone\u001b[39;00m\n",
      "File \u001b[0;32m/usr/lib/python3.8/sre_parse.py:948\u001b[0m, in \u001b[0;36mparse\u001b[0;34m(str, flags, state)\u001b[0m\n\u001b[1;32m    945\u001b[0m state\u001b[39m.\u001b[39mstr \u001b[39m=\u001b[39m \u001b[39mstr\u001b[39m\n\u001b[1;32m    947\u001b[0m \u001b[39mtry\u001b[39;00m:\n\u001b[0;32m--> 948\u001b[0m     p \u001b[39m=\u001b[39m _parse_sub(source, state, flags \u001b[39m&\u001b[39;49m SRE_FLAG_VERBOSE, \u001b[39m0\u001b[39;49m)\n\u001b[1;32m    949\u001b[0m \u001b[39mexcept\u001b[39;00m Verbose:\n\u001b[1;32m    950\u001b[0m     \u001b[39m# the VERBOSE flag was switched on inside the pattern.  to be\u001b[39;00m\n\u001b[1;32m    951\u001b[0m     \u001b[39m# on the safe side, we'll parse the whole thing again...\u001b[39;00m\n\u001b[1;32m    952\u001b[0m     state \u001b[39m=\u001b[39m State()\n",
      "File \u001b[0;32m/usr/lib/python3.8/sre_parse.py:443\u001b[0m, in \u001b[0;36m_parse_sub\u001b[0;34m(source, state, verbose, nested)\u001b[0m\n\u001b[1;32m    441\u001b[0m start \u001b[39m=\u001b[39m source\u001b[39m.\u001b[39mtell()\n\u001b[1;32m    442\u001b[0m \u001b[39mwhile\u001b[39;00m \u001b[39mTrue\u001b[39;00m:\n\u001b[0;32m--> 443\u001b[0m     itemsappend(_parse(source, state, verbose, nested \u001b[39m+\u001b[39;49m \u001b[39m1\u001b[39;49m,\n\u001b[1;32m    444\u001b[0m                        \u001b[39mnot\u001b[39;49;00m nested \u001b[39mand\u001b[39;49;00m \u001b[39mnot\u001b[39;49;00m items))\n\u001b[1;32m    445\u001b[0m     \u001b[39mif\u001b[39;00m \u001b[39mnot\u001b[39;00m sourcematch(\u001b[39m\"\u001b[39m\u001b[39m|\u001b[39m\u001b[39m\"\u001b[39m):\n\u001b[1;32m    446\u001b[0m         \u001b[39mbreak\u001b[39;00m\n",
      "File \u001b[0;32m/usr/lib/python3.8/sre_parse.py:836\u001b[0m, in \u001b[0;36m_parse\u001b[0;34m(source, state, verbose, nested, first)\u001b[0m\n\u001b[1;32m    834\u001b[0m p \u001b[39m=\u001b[39m _parse_sub(source, state, sub_verbose, nested \u001b[39m+\u001b[39m \u001b[39m1\u001b[39m)\n\u001b[1;32m    835\u001b[0m \u001b[39mif\u001b[39;00m \u001b[39mnot\u001b[39;00m source\u001b[39m.\u001b[39mmatch(\u001b[39m\"\u001b[39m\u001b[39m)\u001b[39m\u001b[39m\"\u001b[39m):\n\u001b[0;32m--> 836\u001b[0m     \u001b[39mraise\u001b[39;00m source\u001b[39m.\u001b[39merror(\u001b[39m\"\u001b[39m\u001b[39mmissing ), unterminated subpattern\u001b[39m\u001b[39m\"\u001b[39m,\n\u001b[1;32m    837\u001b[0m                        source\u001b[39m.\u001b[39mtell() \u001b[39m-\u001b[39m start)\n\u001b[1;32m    838\u001b[0m \u001b[39mif\u001b[39;00m group \u001b[39mis\u001b[39;00m \u001b[39mnot\u001b[39;00m \u001b[39mNone\u001b[39;00m:\n\u001b[1;32m    839\u001b[0m     state\u001b[39m.\u001b[39mclosegroup(group, p)\n",
      "\u001b[0;31merror\u001b[0m: missing ), unterminated subpattern at position 131"
     ]
    }
   ],
   "source": [
    "semester='SoSe21'\n",
    "ha='9'\n",
    "# tasks = ['Antwort 8', 'Antwort 9', 'Antwort 10']\n",
    "tasks = ['Antwort 10']\n",
    "prog_language='C'\n",
    "df = create_pair_routine(semester=semester, ha=ha, tasks=tasks, prog_language=prog_language)\n",
    "empty_solution_matrix = calculate_empty_solution_matrix(df, semester, ha, tasks, prog_language)\n",
    "ab=[y[1].replace('\\t', '').replace('\\r', '').replace('\\n', '') for y in df[['Vorname',tasks]].values if y[0]=='Alexander']\n",
    "str = r'\\\\Q#include <stdio.h>void factorize(long \\\\E\\\\S*\\\\Q, long *\\\\E\\\\S*\\\\Q, long *\\\\E\\\\S*\\\\Q){// Your factorization}int main(){printf(\"Please enter an Integer: \");printf(\"Possible Factors of %ld are %ld and %ld.\\n\");return 0;}\\\\E'\n",
    "# print(str)\n",
    "# print(ab[0])\n",
    "ergebnis = re.match(str, ab[0])\n",
    "# print(ergebnis)\n"
   ]
  },
  {
   "cell_type": "markdown",
   "metadata": {},
   "source": []
  },
  {
   "cell_type": "code",
   "execution_count": 60,
   "metadata": {},
   "outputs": [],
   "source": [
    "for i,task in enumerate(tasks):\n",
    "    #PPR [SoSe21]-9. Hausaufgabe - Pflichttest C-Antworten_Antwort 8.xml\n",
    "    answerpreload = get_given_code(f'../../data/code_templates/PPR [{semester}]-{ha}. Hausaufgabe - Pflichttest C-Antworten_{task}.xml')\n",
    "    # empty or template solution = 1\n",
    "    #TODO Vorgabe lösungen werden noch nicht erkannt; MUSS mit regex gemacht werden wegen cr_random\n",
    "    for j,column in enumerate(df[task]):\n",
    "        \n",
    "        if column == '-' or column == answerpreload:\n",
    "            empty_solution_matrix[task][j]= 1\n",
    "        else:\n",
    "            empty_solution_matrix[task][j] = 0\n",
    "\n"
   ]
  },
  {
   "cell_type": "code",
   "execution_count": 46,
   "metadata": {},
   "outputs": [
    {
     "name": "stdout",
     "output_type": "stream",
     "text": [
      "17424\n",
      "69696\n",
      "139392\n"
     ]
    }
   ],
   "source": [
    "semester='SoSe21'\n",
    "ha=['6','7','8','9','10']   #5 relevant programm homework weeks + (possible exam tasks)\n",
    "abgaben=[34,34,34,34,34]    #SoSe2021 34 student only in c\n",
    "tasks = [4, 3, 3, 3, 3]     #2-4 programm tasks per week\n",
    "summe=0\n",
    "for i,j in zip(abgaben,tasks):\n",
    "    summe += (i-1)**2*j     #with 34 comes 33 pairs per student per task per week\n",
    "print(summe)                #number of homework pairs in one semester\n",
    "print(summe*4)              #number of pairs in four semester\n",
    "print(summe*4*2)            #number of pairs in four semester in 2 programming languages\n"
   ]
  },
  {
   "cell_type": "code",
   "execution_count": 74,
   "metadata": {},
   "outputs": [
    {
     "name": "stdout",
     "output_type": "stream",
     "text": [
      "['#include <stdio.h>void factorize(long resultat, long *nummer1, long *nummer2){// Your factorization}int main(){printf(\"Please enter an Integer: \");printf(\"Possible Factors of %ld are %ld and %ld.\\\\n\");return 0;}']\n"
     ]
    },
    {
     "ename": "error",
     "evalue": "bad escape \\S at position 0",
     "output_type": "error",
     "traceback": [
      "\u001b[0;31m---------------------------------------------------------------------------\u001b[0m",
      "\u001b[0;31mKeyError\u001b[0m                                  Traceback (most recent call last)",
      "File \u001b[0;32m/usr/lib/python3.8/sre_parse.py:1039\u001b[0m, in \u001b[0;36mparse_template\u001b[0;34m(source, state)\u001b[0m\n\u001b[1;32m   1038\u001b[0m \u001b[39mtry\u001b[39;00m:\n\u001b[0;32m-> 1039\u001b[0m     this \u001b[39m=\u001b[39m \u001b[39mchr\u001b[39m(ESCAPES[this][\u001b[39m1\u001b[39m])\n\u001b[1;32m   1040\u001b[0m \u001b[39mexcept\u001b[39;00m \u001b[39mKeyError\u001b[39;00m:\n",
      "\u001b[0;31mKeyError\u001b[0m: '\\\\S'",
      "\nDuring handling of the above exception, another exception occurred:\n",
      "\u001b[0;31merror\u001b[0m                                     Traceback (most recent call last)",
      "\u001b[1;32m/home/erik/TU/ni/plagiate_labeltool/pages/src/csv_stuff.ipynb Zelle 4\u001b[0m in \u001b[0;36m<cell line: 2>\u001b[0;34m()\u001b[0m\n\u001b[1;32m      <a href='vscode-notebook-cell:/home/erik/TU/ni/plagiate_labeltool/pages/src/csv_stuff.ipynb#W4sZmlsZQ%3D%3D?line=0'>1</a>\u001b[0m \u001b[39mprint\u001b[39m([y[\u001b[39m1\u001b[39m]\u001b[39m.\u001b[39mreplace(\u001b[39m'\u001b[39m\u001b[39m\\t\u001b[39;00m\u001b[39m'\u001b[39m, \u001b[39m'\u001b[39m\u001b[39m'\u001b[39m)\u001b[39m.\u001b[39mreplace(\u001b[39m'\u001b[39m\u001b[39m\\r\u001b[39;00m\u001b[39m'\u001b[39m, \u001b[39m'\u001b[39m\u001b[39m'\u001b[39m)\u001b[39m.\u001b[39mreplace(\u001b[39m'\u001b[39m\u001b[39m\\n\u001b[39;00m\u001b[39m'\u001b[39m, \u001b[39m'\u001b[39m\u001b[39m'\u001b[39m) \u001b[39mfor\u001b[39;00m y \u001b[39min\u001b[39;00m df[[\u001b[39m'\u001b[39m\u001b[39mVorname\u001b[39m\u001b[39m'\u001b[39m,\u001b[39m'\u001b[39m\u001b[39mAntwort 8\u001b[39m\u001b[39m'\u001b[39m]]\u001b[39m.\u001b[39mvalues \u001b[39mif\u001b[39;00m y[\u001b[39m0\u001b[39m]\u001b[39m==\u001b[39m\u001b[39m'\u001b[39m\u001b[39mAlexander\u001b[39m\u001b[39m'\u001b[39m])\n\u001b[0;32m----> <a href='vscode-notebook-cell:/home/erik/TU/ni/plagiate_labeltool/pages/src/csv_stuff.ipynb#W4sZmlsZQ%3D%3D?line=1'>2</a>\u001b[0m answerpreload \u001b[39m=\u001b[39m get_given_code(\u001b[39mf\u001b[39;49m\u001b[39m'\u001b[39;49m\u001b[39m../../data/code_templates/PPR [\u001b[39;49m\u001b[39m{\u001b[39;49;00msemester\u001b[39m}\u001b[39;49;00m\u001b[39m]-\u001b[39;49m\u001b[39m{\u001b[39;49;00mha\u001b[39m}\u001b[39;49;00m\u001b[39m. Hausaufgabe - Pflichttest \u001b[39;49m\u001b[39m{\u001b[39;49;00mprog_language\u001b[39m}\u001b[39;49;00m\u001b[39m-Antworten_\u001b[39;49m\u001b[39m{\u001b[39;49;00mtask\u001b[39m}\u001b[39;49;00m\u001b[39m.xml\u001b[39;49m\u001b[39m'\u001b[39;49m)\n\u001b[1;32m      <a href='vscode-notebook-cell:/home/erik/TU/ni/plagiate_labeltool/pages/src/csv_stuff.ipynb#W4sZmlsZQ%3D%3D?line=2'>3</a>\u001b[0m answerpreload \u001b[39m=\u001b[39m answerpreload\u001b[39m.\u001b[39mreplace(\u001b[39m'\u001b[39m\u001b[39m\\t\u001b[39;00m\u001b[39m'\u001b[39m, \u001b[39m'\u001b[39m\u001b[39m'\u001b[39m)\u001b[39m.\u001b[39mreplace(\u001b[39m'\u001b[39m\u001b[39m\\r\u001b[39;00m\u001b[39m'\u001b[39m, \u001b[39m'\u001b[39m\u001b[39m'\u001b[39m)\u001b[39m.\u001b[39mreplace(\u001b[39m'\u001b[39m\u001b[39m\\n\u001b[39;00m\u001b[39m'\u001b[39m, \u001b[39m'\u001b[39m\u001b[39m'\u001b[39m)\n\u001b[1;32m      <a href='vscode-notebook-cell:/home/erik/TU/ni/plagiate_labeltool/pages/src/csv_stuff.ipynb#W4sZmlsZQ%3D%3D?line=3'>4</a>\u001b[0m \u001b[39m#TODO Vorgabelösungen werden noch nicht erkannt; MUSS mit regex gemacht werden wegen cr_random\u001b[39;00m\n\u001b[1;32m      <a href='vscode-notebook-cell:/home/erik/TU/ni/plagiate_labeltool/pages/src/csv_stuff.ipynb#W4sZmlsZQ%3D%3D?line=4'>5</a>\u001b[0m \u001b[39m#every special character beetween \\Q and \\E is ignored, but the inserted \\S*; answers shouldnt contain \\Q and \\E\u001b[39;00m\n",
      "\u001b[1;32m/home/erik/TU/ni/plagiate_labeltool/pages/src/csv_stuff.ipynb Zelle 4\u001b[0m in \u001b[0;36mget_given_code\u001b[0;34m(file)\u001b[0m\n\u001b[1;32m     <a href='vscode-notebook-cell:/home/erik/TU/ni/plagiate_labeltool/pages/src/csv_stuff.ipynb#W4sZmlsZQ%3D%3D?line=25'>26</a>\u001b[0m answerpreload \u001b[39m=\u001b[39m soup\u001b[39m.\u001b[39mfind(\u001b[39m'\u001b[39m\u001b[39manswerpreload\u001b[39m\u001b[39m'\u001b[39m)\u001b[39m.\u001b[39mtext\u001b[39m.\u001b[39mreplace(\u001b[39m'\u001b[39m\u001b[39m\\t\u001b[39;00m\u001b[39m'\u001b[39m, \u001b[39m'\u001b[39m\u001b[39m'\u001b[39m)\u001b[39m.\u001b[39mreplace(\u001b[39m'\u001b[39m\u001b[39m\\r\u001b[39;00m\u001b[39m'\u001b[39m, \u001b[39m'\u001b[39m\u001b[39m'\u001b[39m)\u001b[39m.\u001b[39mreplace(\u001b[39m'\u001b[39m\u001b[39m\\n\u001b[39;00m\u001b[39m'\u001b[39m, \u001b[39m'\u001b[39m\u001b[39m'\u001b[39m)\n\u001b[1;32m     <a href='vscode-notebook-cell:/home/erik/TU/ni/plagiate_labeltool/pages/src/csv_stuff.ipynb#W4sZmlsZQ%3D%3D?line=26'>27</a>\u001b[0m \u001b[39m#TODO mit regex {{ cr_random.f1 }} --> (...*)\u001b[39;00m\n\u001b[0;32m---> <a href='vscode-notebook-cell:/home/erik/TU/ni/plagiate_labeltool/pages/src/csv_stuff.ipynb#W4sZmlsZQ%3D%3D?line=27'>28</a>\u001b[0m answerpreload \u001b[39m=\u001b[39m re\u001b[39m.\u001b[39;49msub(\u001b[39mr\u001b[39;49m\u001b[39m\"\u001b[39;49m\u001b[39m{{\u001b[39;49m\u001b[39m\\\u001b[39;49m\u001b[39ms*\u001b[39;49m\u001b[39m\\\u001b[39;49m\u001b[39mS*\u001b[39;49m\u001b[39m\\\u001b[39;49m\u001b[39ms*}}\u001b[39;49m\u001b[39m\"\u001b[39;49m, \u001b[39m\"\u001b[39;49m\u001b[39m\\\u001b[39;49m\u001b[39mS*\u001b[39;49m\u001b[39m\"\u001b[39;49m, answerpreload)\n\u001b[1;32m     <a href='vscode-notebook-cell:/home/erik/TU/ni/plagiate_labeltool/pages/src/csv_stuff.ipynb#W4sZmlsZQ%3D%3D?line=29'>30</a>\u001b[0m \u001b[39mreturn\u001b[39;00m [answerpreload]\n",
      "File \u001b[0;32m/usr/lib/python3.8/re.py:210\u001b[0m, in \u001b[0;36msub\u001b[0;34m(pattern, repl, string, count, flags)\u001b[0m\n\u001b[1;32m    203\u001b[0m \u001b[39mdef\u001b[39;00m \u001b[39msub\u001b[39m(pattern, repl, string, count\u001b[39m=\u001b[39m\u001b[39m0\u001b[39m, flags\u001b[39m=\u001b[39m\u001b[39m0\u001b[39m):\n\u001b[1;32m    204\u001b[0m     \u001b[39m\"\"\"Return the string obtained by replacing the leftmost\u001b[39;00m\n\u001b[1;32m    205\u001b[0m \u001b[39m    non-overlapping occurrences of the pattern in string by the\u001b[39;00m\n\u001b[1;32m    206\u001b[0m \u001b[39m    replacement repl.  repl can be either a string or a callable;\u001b[39;00m\n\u001b[1;32m    207\u001b[0m \u001b[39m    if a string, backslash escapes in it are processed.  If it is\u001b[39;00m\n\u001b[1;32m    208\u001b[0m \u001b[39m    a callable, it's passed the Match object and must return\u001b[39;00m\n\u001b[1;32m    209\u001b[0m \u001b[39m    a replacement string to be used.\"\"\"\u001b[39;00m\n\u001b[0;32m--> 210\u001b[0m     \u001b[39mreturn\u001b[39;00m _compile(pattern, flags)\u001b[39m.\u001b[39;49msub(repl, string, count)\n",
      "File \u001b[0;32m/usr/lib/python3.8/re.py:327\u001b[0m, in \u001b[0;36m_subx\u001b[0;34m(pattern, template)\u001b[0m\n\u001b[1;32m    325\u001b[0m \u001b[39mdef\u001b[39;00m \u001b[39m_subx\u001b[39m(pattern, template):\n\u001b[1;32m    326\u001b[0m     \u001b[39m# internal: Pattern.sub/subn implementation helper\u001b[39;00m\n\u001b[0;32m--> 327\u001b[0m     template \u001b[39m=\u001b[39m _compile_repl(template, pattern)\n\u001b[1;32m    328\u001b[0m     \u001b[39mif\u001b[39;00m \u001b[39mnot\u001b[39;00m template[\u001b[39m0\u001b[39m] \u001b[39mand\u001b[39;00m \u001b[39mlen\u001b[39m(template[\u001b[39m1\u001b[39m]) \u001b[39m==\u001b[39m \u001b[39m1\u001b[39m:\n\u001b[1;32m    329\u001b[0m         \u001b[39m# literal replacement\u001b[39;00m\n\u001b[1;32m    330\u001b[0m         \u001b[39mreturn\u001b[39;00m template[\u001b[39m1\u001b[39m][\u001b[39m0\u001b[39m]\n",
      "File \u001b[0;32m/usr/lib/python3.8/re.py:318\u001b[0m, in \u001b[0;36m_compile_repl\u001b[0;34m(repl, pattern)\u001b[0m\n\u001b[1;32m    315\u001b[0m \u001b[39m@functools\u001b[39m\u001b[39m.\u001b[39mlru_cache(_MAXCACHE)\n\u001b[1;32m    316\u001b[0m \u001b[39mdef\u001b[39;00m \u001b[39m_compile_repl\u001b[39m(repl, pattern):\n\u001b[1;32m    317\u001b[0m     \u001b[39m# internal: compile replacement pattern\u001b[39;00m\n\u001b[0;32m--> 318\u001b[0m     \u001b[39mreturn\u001b[39;00m sre_parse\u001b[39m.\u001b[39;49mparse_template(repl, pattern)\n",
      "File \u001b[0;32m/usr/lib/python3.8/sre_parse.py:1042\u001b[0m, in \u001b[0;36mparse_template\u001b[0;34m(source, state)\u001b[0m\n\u001b[1;32m   1040\u001b[0m         \u001b[39mexcept\u001b[39;00m \u001b[39mKeyError\u001b[39;00m:\n\u001b[1;32m   1041\u001b[0m             \u001b[39mif\u001b[39;00m c \u001b[39min\u001b[39;00m ASCIILETTERS:\n\u001b[0;32m-> 1042\u001b[0m                 \u001b[39mraise\u001b[39;00m s\u001b[39m.\u001b[39merror(\u001b[39m'\u001b[39m\u001b[39mbad escape \u001b[39m\u001b[39m%s\u001b[39;00m\u001b[39m'\u001b[39m \u001b[39m%\u001b[39m this, \u001b[39mlen\u001b[39m(this))\n\u001b[1;32m   1043\u001b[0m         lappend(this)\n\u001b[1;32m   1044\u001b[0m \u001b[39melse\u001b[39;00m:\n",
      "\u001b[0;31merror\u001b[0m: bad escape \\S at position 0"
     ]
    }
   ],
   "source": [
    "print([y[1].replace('\\t', '').replace('\\r', '').replace('\\n', '') for y in df[['Vorname','Antwort 8']].values if y[0]=='Alexander'])\n",
    "answerpreload = get_given_code(f'../../data/code_templates/PPR [{semester}]-{ha}. Hausaufgabe - Pflichttest {prog_language}-Antworten_{task}.xml')\n",
    "answerpreload = answerpreload.replace('\\t', '').replace('\\r', '').replace('\\n', '')\n",
    "#TODO Vorgabelösungen werden noch nicht erkannt; MUSS mit regex gemacht werden wegen cr_random\n",
    "#every special character beetween \\Q and \\E is ignored, but the inserted \\S*; answers shouldnt contain \\Q and \\E\n",
    "answerpreload = '\\Q' + answerpreload + '\\E'\n",
    "#TODO mit regex {{ cr_random.f1 }} --> (...*)\n",
    "answerpreload = re.sub(r\"{{\\s*\\S*\\s*}}\", \"\\E\\S*\\Q\", answerpreload)\n",
    "print(get_given_code(f'../../data/code_templates/PPR [{semester}]-{ha}. Hausaufgabe - Pflichttest C-Antworten_Antwort 8.xml'))\n"
   ]
  }
 ],
 "metadata": {
  "kernelspec": {
   "display_name": "Python 3.8.10 ('thomas')",
   "language": "python",
   "name": "python3"
  },
  "language_info": {
   "codemirror_mode": {
    "name": "ipython",
    "version": 3
   },
   "file_extension": ".py",
   "mimetype": "text/x-python",
   "name": "python",
   "nbconvert_exporter": "python",
   "pygments_lexer": "ipython3",
   "version": "3.8.10"
  },
  "orig_nbformat": 4,
  "vscode": {
   "interpreter": {
    "hash": "d67b88628f584c0585d2589739caa2fae19f9a5730adf9114d60a2fd99c5902d"
   }
  }
 },
 "nbformat": 4,
 "nbformat_minor": 2
}
